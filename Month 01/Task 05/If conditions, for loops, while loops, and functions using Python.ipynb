{
 "cells": [
  {
   "cell_type": "markdown",
   "id": "37b9ecf8-addf-4257-8e37-f8e256654ebb",
   "metadata": {},
   "source": [
    "# Task 1: Right-Angled Triangle of Stars\r\n",
    "\r\n",
    "In this task, we will create a function that prints a right-angled triangle made of stars (`*`). The number of rows of the triangle will be determined by the user. This exercise will help us practice using `for` loops in Python.\r\n",
    "\r\n",
    "### Function Definition\r\n",
    "- The function `right_angled_triangle(rows)` will take one argument `rows`, which defines the number of rows in the triangle.\r\n",
    "- It will use a `for` loop to print the triangle row by row.\r\n",
    "\r\n",
    "### Example\r\n",
    "For `rows = 5`, the output sould be:\r\n"
   ]
  },
  {
   "cell_type": "code",
   "execution_count": 22,
   "id": "1dbecfb1-ddfb-40c3-90e2-643a85352eaf",
   "metadata": {},
   "outputs": [
    {
     "name": "stdout",
     "output_type": "stream",
     "text": [
      "*\n",
      "**\n",
      "***\n",
      "****\n",
      "*****\n"
     ]
    }
   ],
   "source": [
    "# Function to print a right-angled triangle of stars\n",
    "def right_angled_triangle(rows):\n",
    "    for i in range(1, rows + 1):\n",
    "        print('*' * i)\n",
    "\n",
    "# Example usage\n",
    "right_angled_triangle(5)"
   ]
  },
  {
   "cell_type": "markdown",
   "id": "29b58fcb-81ae-49c9-8f6c-00858a5eca33",
   "metadata": {},
   "source": [
    "# Task 2: Inverted Right-Angled Triangle of Stars\r\n",
    "\r\n",
    "In this task, we will create a function that prints an inverted right-angled triangle made of stars (`*`). The number of rows of the triangle will be determined by the user. This exercise will further practice using `for` loops in Python.\r\n",
    "\r\n",
    "### Function Definition\r\n",
    "- The function `inverted_triangle(rows)` will take one argument `rows`, which defines the number of rows in the triangle.\r\n",
    "- It will use a `for` loop to print the triangle row by row in inverted form.\r\n",
    "\r\n",
    "### Example\r\n",
    "For `rows = 5`, the output should be:\r\n"
   ]
  },
  {
   "cell_type": "code",
   "execution_count": 23,
   "id": "377c28bc-19f2-4d34-8f3d-535d26d41aaf",
   "metadata": {},
   "outputs": [
    {
     "name": "stdout",
     "output_type": "stream",
     "text": [
      "*****\n",
      "****\n",
      "***\n",
      "**\n",
      "*\n"
     ]
    }
   ],
   "source": [
    "# Function to print an inverted right-angled triangle of stars\n",
    "def inverted_triangle(rows):\n",
    "    for i in range(rows, 0, -1):\n",
    "        print('*' * i)\n",
    "\n",
    "# Example usage\n",
    "inverted_triangle(5)"
   ]
  },
  {
   "cell_type": "markdown",
   "id": "084495bf-0d8c-438c-b815-2380689f742e",
   "metadata": {},
   "source": [
    "# Task 3: Pyramid of Stars\n",
    "\n",
    "In this task, we will create a function that prints a pyramid made of stars (`*`). The height of the pyramid will be determined by the user. This task will help us practice combining `for` loops and string manipulation.\n",
    "\n",
    "### Function Definition\n",
    "- The function `pyramid(rows)` will take one argument `rows`, which defines the height of the pyramid.\n",
    "- It will use nested `for` loops to print the pyramid row by row.\n",
    "\n",
    "### Example\n",
    "For `rows = 5`, the output should be:\n"
   ]
  },
  {
   "cell_type": "code",
   "execution_count": 24,
   "id": "fe626728-f10c-4196-88e1-ca5ec43607b2",
   "metadata": {},
   "outputs": [
    {
     "name": "stdout",
     "output_type": "stream",
     "text": [
      "    *\n",
      "   ***\n",
      "  *****\n",
      " *******\n",
      "*********\n"
     ]
    }
   ],
   "source": [
    "# Function to print a pyramid of stars\n",
    "def pyramid(rows):\n",
    "    for i in range(1, rows + 1):\n",
    "        print(' ' * (rows - i) + '*' * (2 * i - 1))\n",
    "\n",
    "# Example usage\n",
    "pyramid(5)"
   ]
  },
  {
   "cell_type": "markdown",
   "id": "46bff2ed-0c68-40ed-8d91-9d2293ecec9b",
   "metadata": {},
   "source": [
    "# Task 4: Diamond Pattern\n",
    "\n",
    "In this task, we will create a function that prints a diamond pattern made of stars (`*`). The height of the diamond (in terms of the number of rows) will be determined by the user. This task will further practice using nested `for` loops and string manipulation.\n",
    "\n",
    "### Function Definition\n",
    "- The function `diamond(rows)` will take one argument `rows`, which defines the height of the upper part of the diamond.\n",
    "- It will use nested `for` loops to print the upper and lower parts of the diamond.\n",
    "\n",
    "### Example\n",
    "For `rows = 5`, the output should be:\n"
   ]
  },
  {
   "cell_type": "code",
   "execution_count": 25,
   "id": "6474dd2c-816c-4083-99d4-d4087b1d3bc9",
   "metadata": {},
   "outputs": [
    {
     "name": "stdout",
     "output_type": "stream",
     "text": [
      "    *\n",
      "   ***\n",
      "  *****\n",
      " *******\n",
      "*********\n",
      " *******\n",
      "  *****\n",
      "   ***\n",
      "    *\n"
     ]
    }
   ],
   "source": [
    "# Function to print a diamond pattern\n",
    "def diamond(rows):\n",
    "    # Upper part of the diamond\n",
    "    for i in range(1, rows + 1):\n",
    "        print(' ' * (rows - i) + '*' * (2 * i - 1))\n",
    "    # Lower part of the diamond\n",
    "    for i in range(rows - 1, 0, -1):\n",
    "        print(' ' * (rows - i) + '*' * (2 * i - 1))\n",
    "\n",
    "# Example usage\n",
    "diamond(5)"
   ]
  },
  {
   "cell_type": "markdown",
   "id": "7994ea03-ba16-48cd-8b1d-b9b9ee202091",
   "metadata": {},
   "source": [
    "# Task 5: Increasing Number Triangle\n",
    "\n",
    "In this task, we will create a function that prints a right-angled triangle made of increasing numbers. The number of rows of the triangle will be determined by the user. This exercise will help us practice using nested `for` loops and number sequences.\n",
    "\n",
    "### Function Definition\n",
    "- The function `increasing_number_triangle(rows)` will take one argument `rows`, which defines the number of rows in the triangle.\n",
    "- It will use nested `for` loops to print the triangle with increasing numbers.\n",
    "\n",
    "### Example\n",
    "For `rows = 5`, the output should be:\n"
   ]
  },
  {
   "cell_type": "code",
   "execution_count": 26,
   "id": "ffc4067d-ac5a-434f-befc-ecb4e038d84a",
   "metadata": {},
   "outputs": [
    {
     "name": "stdout",
     "output_type": "stream",
     "text": [
      "1 \n",
      "1 2 \n",
      "1 2 3 \n",
      "1 2 3 4 \n",
      "1 2 3 4 5 \n"
     ]
    }
   ],
   "source": [
    "# Function to print an increasing number triangle\n",
    "def increasing_number_triangle(rows):\n",
    "    for i in range(1, rows + 1):\n",
    "        for j in range(1, i + 1):\n",
    "            print(j, end=' ')\n",
    "        print()\n",
    "\n",
    "# Example usage\n",
    "increasing_number_triangle(5)"
   ]
  },
  {
   "cell_type": "markdown",
   "id": "b68ab6a1-4579-4afc-b025-046fd9264c6b",
   "metadata": {},
   "source": [
    "# Task 6: Decreasing Number Triangle\n",
    "\n",
    "In this task, we will create a function that prints a right-angled triangle made of decreasing numbers. The number of rows of the triangle will be determined by the user. This exercise will help us practice using nested `for` loops and number sequences.\n",
    "\n",
    "### Function Definition\n",
    "- The function `decreasing_number_triangle(rows)` will take one argument `rows`, which defines the number of rows in the triangle.\n",
    "- It will use nested `for` loops to print the triangle with decreasing numbers.\n",
    "\n",
    "### Example\n",
    "For `rows = 5`, the output should be:\n"
   ]
  },
  {
   "cell_type": "code",
   "execution_count": 27,
   "id": "f84845a5-8d3b-47f8-8a7a-481054e49646",
   "metadata": {},
   "outputs": [
    {
     "name": "stdout",
     "output_type": "stream",
     "text": [
      "1 2 3 4 5 \n",
      "1 2 3 4 \n",
      "1 2 3 \n",
      "1 2 \n",
      "1 \n"
     ]
    }
   ],
   "source": [
    "# Function to print a decreasing number triangle\n",
    "def decreasing_number_triangle(rows):\n",
    "    for i in range(rows, 0, -1):\n",
    "        for j in range(1, i + 1):\n",
    "            print(j, end=' ')\n",
    "        print()\n",
    "\n",
    "# Example usage\n",
    "decreasing_number_triangle(5)"
   ]
  },
  {
   "cell_type": "markdown",
   "id": "9e3cb175-3bfc-497a-8f03-55b76d887e1d",
   "metadata": {},
   "source": [
    "# Task 8: Fibonacci Sequence\n",
    "\n",
    "In this task, we will create a function that generates the Fibonacci sequence up to a specified number of terms. This exercise will help us practice using `while` loops in Python.\n",
    "\n",
    "### Function Definition\n",
    "- The function `fibonacci(n)` will take one argument `n`, which defines the number of terms in the Fibonacci sequence.\n",
    "- It will use a `while` loop to generate the sequence.\n",
    "\n",
    "### Example\n",
    "For `n = 10`, the output should be:\n"
   ]
  },
  {
   "cell_type": "code",
   "execution_count": 28,
   "id": "3f4e943e-de57-4b32-94bc-c70d4e4ac0c6",
   "metadata": {},
   "outputs": [
    {
     "name": "stdout",
     "output_type": "stream",
     "text": [
      "[0, 1, 1, 2, 3, 5, 8, 13, 21, 34]\n"
     ]
    }
   ],
   "source": [
    "# Function to generate Fibonacci sequence up to n terms\n",
    "def fibonacci(n):\n",
    "    a, b = 0, 1\n",
    "    sequence = []\n",
    "    while len(sequence) < n:\n",
    "        sequence.append(a)\n",
    "        a, b = b, a + b\n",
    "    return sequence\n",
    "\n",
    "# Example usage\n",
    "print(fibonacci(10))  # [0, 1, 1, 2, 3, 5, 8, 13, 21, 34]"
   ]
  },
  {
   "cell_type": "markdown",
   "id": "3e65e06c-76cf-4053-bd33-51aa107a5df3",
   "metadata": {
    "jp-MarkdownHeadingCollapsed": true
   },
   "source": [
    "# Task 9: Factorial of a Number\n",
    "\n",
    "In this task, we will create a function that calculates the factorial of a given number. This exercise will help us practice using `for` loops and recursion in Python.\n",
    "\n",
    "### Function Definition\n",
    "- The function `factorial(n)` will take one argument `n`, which is the number to calculate the factorial for.\n",
    "- It will use a `for` loop to calculate the factorial.\n",
    "\n",
    "### Example\n",
    "For `n = 5`, the output should be:\n"
   ]
  },
  {
   "cell_type": "code",
   "execution_count": 29,
   "id": "40b4e85e-7ac8-49c8-a4db-c6140a0ad4f0",
   "metadata": {},
   "outputs": [
    {
     "name": "stdout",
     "output_type": "stream",
     "text": [
      "120\n"
     ]
    }
   ],
   "source": [
    "# Function to calculate the factorial of a number\n",
    "def factorial(n):\n",
    "    if n == 0 or n == 1:\n",
    "        return 1\n",
    "    else:\n",
    "        result = 1\n",
    "        for i in range(2, n + 1):\n",
    "            result *= i\n",
    "        return result\n",
    "\n",
    "# Example usage\n",
    "print(factorial(5))  # 120\n"
   ]
  }
 ],
 "metadata": {
  "kernelspec": {
   "display_name": "Python 3 (ipykernel)",
   "language": "python",
   "name": "python3"
  },
  "language_info": {
   "codemirror_mode": {
    "name": "ipython",
    "version": 3
   },
   "file_extension": ".py",
   "mimetype": "text/x-python",
   "name": "python",
   "nbconvert_exporter": "python",
   "pygments_lexer": "ipython3",
   "version": "3.11.7"
  }
 },
 "nbformat": 4,
 "nbformat_minor": 5
}
