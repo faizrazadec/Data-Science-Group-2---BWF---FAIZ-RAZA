{
 "cells": [
  {
   "cell_type": "markdown",
   "id": "30a02dfa-8b06-49ff-8252-11263477ae77",
   "metadata": {},
   "source": [
    "# Heading 1\n",
    "## Heading 2\n",
    "### Heading 3\n",
    "#### Heading 4\n",
    "##### Heading 5\n",
    "###### Heading 6\n",
    "\n",
    "<h1>Heading 1</h1>\n",
    "<h2>Heading 2</h2>\n",
    "<h3>Heading 3</h3>\n",
    "<h4>Heading 4</h4>\n",
    "<h5>Heading 5</h5>\n",
    "<h6>Heading 6</h6>"
   ]
  },
  {
   "cell_type": "markdown",
   "id": "a4bd690b-c3ae-4caf-b2e9-d1887466311c",
   "metadata": {},
   "source": [
    "# Unordered List\n",
    "* Name\n",
    "* Age\n",
    "    * Gender\n",
    "\n",
    "# Ordered List\n",
    "1. Name\n",
    "2. Age\n",
    "   1. Gender"
   ]
  },
  {
   "cell_type": "markdown",
   "id": "fbe35e30-0ba9-4421-b1cb-a95a37d1dbb0",
   "metadata": {},
   "source": [
    "# Table\n",
    "| Header 1 | Header 2 |\n",
    "|----------|----------|\n",
    "| Name | Faiz Raza |\n",
    "|Gender | Male |"
   ]
  },
  {
   "cell_type": "code",
   "execution_count": null,
   "id": "935e2ac0-b22a-4683-aeb7-cd10372f3fe3",
   "metadata": {},
   "outputs": [],
   "source": []
  }
 ],
 "metadata": {
  "kernelspec": {
   "display_name": "Python 3 (ipykernel)",
   "language": "python",
   "name": "python3"
  },
  "language_info": {
   "codemirror_mode": {
    "name": "ipython",
    "version": 3
   },
   "file_extension": ".py",
   "mimetype": "text/x-python",
   "name": "python",
   "nbconvert_exporter": "python",
   "pygments_lexer": "ipython3",
   "version": "3.11.7"
  }
 },
 "nbformat": 4,
 "nbformat_minor": 5
}
