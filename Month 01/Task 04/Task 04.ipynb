{
 "cells": [
  {
   "cell_type": "markdown",
   "id": "a9715472-2677-40c2-81cc-18841130156e",
   "metadata": {},
   "source": [
    "# Welcome to the Calculator Program!\n",
    "\n",
    "Hi there! This program is a simple calculator that can perform basic arithmetic operations. You can use it to add, subtract, multiply, divide, calculate the modulus (remainder), and even exponentiation!\n",
    "\n",
    "## Remember to follow the order of operations (DMAS):\n",
    "\n",
    "1. **D** - Division\n",
    "2. **M** - Multiplication\n",
    "3. **A** - Addition\n",
    "4. **S** - Subtraction\n",
    "\n",
    "### How to use the calculator:\n",
    "\n",
    "1. Enter the first number\n",
    "2. Enter the operator you want to use\n",
    "3. Enter the second number\n",
    "\n",
    "### Available operators:\n",
    "\n",
    "* `+` for addition\n",
    "* `-` for subtraction\n",
    "* `/` for division\n",
    "* `*` for multiplication\n",
    "* `**` for exponentiation (e.g., `2 ** 3` for 2 to the power of 3)\n",
    "* `%` for modulus (remainder)\n",
    "\n",
    "Let's get started! Enter the first number:"
   ]
  },
  {
   "cell_type": "code",
   "execution_count": 45,
   "id": "514910d2-8d5e-49ce-befe-a4232137a38f",
   "metadata": {},
   "outputs": [
    {
     "name": "stdin",
     "output_type": "stream",
     "text": [
      "Enter the first number:  90\n",
      "Enter the operator you want to perform:  /\n",
      "Enter the second number:  10\n"
     ]
    },
    {
     "name": "stdout",
     "output_type": "stream",
     "text": [
      "Division:  9.0\n"
     ]
    }
   ],
   "source": [
    "num1 = int(input(\"Enter the first number: \"))\n",
    "operator = input(\"Enter the operator you want to perform: \")\n",
    "num2 = int(input(\"Enter the second number: \"))\n",
    "\n",
    "if operator == \"+\":\n",
    "    print(\"Sum: \", num1+num2)\n",
    "elif operator == \"-\":\n",
    "    print(\"Diff: \", num1-num2)\n",
    "elif operator == \"/\":\n",
    "    print(\"Division: \", num1/num2)  # Corrected typo here\n",
    "elif operator == \"*\":\n",
    "    print(\"Mul: \", num1*num2)\n",
    "elif operator == \"**\":\n",
    "    print(\"Exp: \", num1**num2)\n",
    "elif operator == \"%\":\n",
    "    print(\"Modulus: \", num1%num2)\n",
    "else:\n",
    "    print(\"The operator is invalid\")"
   ]
  },
  {
   "cell_type": "markdown",
   "id": "1d0e6ae8-7e50-4927-b4da-ad62c41ab92b",
   "metadata": {},
   "source": [
    "# Welcome to the Unit Conversion Program!\r\n",
    "\r\n",
    "## Supported Units\r\n",
    "\r\n",
    "The program can convert between the following units of length:\r\n",
    "\r\n",
    "* **Meters (m)**\r\n",
    "* **Feet (ft)**\r\n",
    "* **Kilometers (km)**\r\n",
    "* **Miles (mi)**\r\n",
    "* **Yards (yd)**\r\n",
    "* **Inches (in)**\r\n",
    "\r\n",
    "## How to Use\r\n",
    "\r\n",
    "To convert between units, simply:\r\n",
    "\r\n",
    "1. Enter the **value** you want to convert\r\n",
    "2. Enter the **from unit** (the unit you want to convert from)\r\n",
    "3. Enter the **to unit** (the unit you want to convert to)\r\n",
    "\r\n",
    "### Example\r\n",
    "\r\n",
    "* Enter value: `100`\r\n",
    "* Enter from unit: `meters`\r\n",
    "* Enter to unit: `feet`\r\n",
    "\r\n",
    "The program will then display the **converted value**."
   ]
  },
  {
   "cell_type": "code",
   "execution_count": 46,
   "id": "cf7acee3-633c-4b27-b3f5-f1a91b84ccf0",
   "metadata": {},
   "outputs": [
    {
     "name": "stdin",
     "output_type": "stream",
     "text": [
      "Enter the Value:  90\n",
      "Enter the current Unit:  meters\n",
      "Enter the desire Unit:  feet\n"
     ]
    },
    {
     "name": "stdout",
     "output_type": "stream",
     "text": [
      "295.2756\n"
     ]
    }
   ],
   "source": [
    "value = int(input(\"Enter the Value: \"))\n",
    "fromUnit = str(input(\"Enter the current Unit: \"))\n",
    "toUnit = str(input(\"Enter the desire Unit: \"))\n",
    "\n",
    "conversions = {\n",
    "    \"meters_to_feet\" : value * 3.28084,\n",
    "    \"feet_to_meters\" : value / 3.28084,\n",
    "    \"meters_to_meters\" : value,\n",
    "    \"feet_to_feet\" : value,\n",
    "    \"kilometers_to_meters\" : value * 1000,\n",
    "    \"meters_to_kilometers\" : value / 1000,\n",
    "    \"kilometers_to_feet\" : value * 3280.84,\n",
    "    \"feet_to_kilometers\" : value / 3280.84,\n",
    "    \"kilometers_to_kilometers\" : value,\n",
    "    \"miles_to_meters\" : value * 1609.34,\n",
    "    \"meters_to_miles\" : value / 1609.34,\n",
    "    \"miles_to_feet\" : value * 5280,\n",
    "    \"feet_to_miles\" : value / 5280,\n",
    "    \"miles_to_kilometers\" : value * 1.60934,\n",
    "    \"kilometers_to_miles\" : value / 1.60934,\n",
    "    \"miles_to_miles\" : value,\n",
    "    \"yards_to_meters\" : value * 0.9144,\n",
    "    \"meters_to_yards\" : value / 0.9144,\n",
    "    \"yards_to_feet\" : value * 3,\n",
    "    \"feet_to_yards\" : value / 3,\n",
    "    \"yards_to_kilometers\" : value * 0.0009144,\n",
    "    \"kilometers_to_yards\" : value / 0.0009144,\n",
    "    \"yards_to_miles\" : value * 0.000568182,\n",
    "    \"miles_to_yards\" : value / 0.000568182,\n",
    "    \"yards_to_yards\" : value,\n",
    "    \"inches_to_meters\" : value * 0.0254,\n",
    "    \"meters_to_inches\" : value / 0.0254,\n",
    "    \"inches_to_feet\" : value * 0.0833333,\n",
    "    \"feet_to_inches\" : value / 0.0833333,\n",
    "    \"inches_to_kilometers\" : value * 0.0000254,\n",
    "    \"kilometers_to_inches\" : value / 0.0000254,\n",
    "    \"inches_to_miles\" : value * 0.000015783,\n",
    "    \"miles_to_inches\" : value / 0.000015783,\n",
    "    \"inches_to_yards\" : value * 0.0277778,\n",
    "    \"yards_to_inches\" : value / 0.0277778,\n",
    "    \"inches_to_inches\" : value\n",
    "}\n",
    "\n",
    "conv = f\"{fromUnit}_to_{toUnit}\"\n",
    "result = conversions.get(conv, \"not known\")\n",
    "print(result if conv in conversions else \"Invalid Conversion\")"
   ]
  },
  {
   "cell_type": "code",
   "execution_count": null,
   "id": "0477bbc4-714c-42bd-9778-347a0e0c5a35",
   "metadata": {},
   "outputs": [],
   "source": []
  }
 ],
 "metadata": {
  "kernelspec": {
   "display_name": "Python 3 (ipykernel)",
   "language": "python",
   "name": "python3"
  },
  "language_info": {
   "codemirror_mode": {
    "name": "ipython",
    "version": 3
   },
   "file_extension": ".py",
   "mimetype": "text/x-python",
   "name": "python",
   "nbconvert_exporter": "python",
   "pygments_lexer": "ipython3",
   "version": "3.11.7"
  }
 },
 "nbformat": 4,
 "nbformat_minor": 5
}
