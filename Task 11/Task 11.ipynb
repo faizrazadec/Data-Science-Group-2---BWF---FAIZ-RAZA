{
 "cells": [
  {
   "cell_type": "markdown",
   "id": "21a7590d-33a3-41d3-b145-e084ded93a6f",
   "metadata": {},
   "source": [
    "# NumPy Advanced Operations\n",
    "\n",
    "This task explores advanced NumPy operations, including:\n",
    "\n",
    "* Indexing and Slicing\n",
    "* Broadcasting\n",
    "\n",
    "Completed tasks include extracting sub-arrays, fancy indexing, and element-wise operations. Demonstrates proficiency in using NumPy for efficient array manipulation."
   ]
  },
  {
   "cell_type": "code",
   "execution_count": 4,
   "id": "31edc065-1a91-41dd-8cf7-3f782fea75a1",
   "metadata": {},
   "outputs": [],
   "source": [
    "import numpy as np\n",
    "from numpy import random"
   ]
  },
  {
   "cell_type": "markdown",
   "id": "e4f5a52f-8979-4730-a275-6988df839015",
   "metadata": {},
   "source": [
    "# For serials 1 to 15:\r\n",
    "## Indexing and Slicing"
   ]
  },
  {
   "cell_type": "markdown",
   "id": "82c35fed-e91e-41ba-b1c3-41c70377d162",
   "metadata": {},
   "source": [
    "1. Given a 2D array of shape (5, 5), extract a 3x3 sub-array starting from the element at position (1, 1)."
   ]
  },
  {
   "cell_type": "code",
   "execution_count": 5,
   "id": "701351a7-c7de-4555-9634-83afd4f0198f",
   "metadata": {},
   "outputs": [
    {
     "name": "stdout",
     "output_type": "stream",
     "text": [
      "5*5 2-D Array: \n",
      " [[7 8 0 0 5]\n",
      " [3 3 2 2 1]\n",
      " [0 8 9 4 4]\n",
      " [5 1 0 2 8]\n",
      " [4 4 4 8 0]]\n",
      "Extracted sub-array: \n",
      " [[3 2 2]\n",
      " [8 9 4]\n",
      " [1 0 2]]\n"
     ]
    }
   ],
   "source": [
    "#generating the random 2D array\n",
    "ar11 = np.random.randint(0,10,(5,5))\n",
    "print(f\"5*5 2-D Array: \\n {ar11}\")\n",
    "\n",
    "#extracting the 3*3 sub-array from the position (1,1)\n",
    "sub = ar11[1:-1,1:-1]\n",
    "print(f\"Extracted sub-array: \\n {sub}\")"
   ]
  },
  {
   "cell_type": "markdown",
   "id": "05bbf30f-cb37-4832-8478-f29ec713ae2b",
   "metadata": {},
   "source": [
    "2. From a 3D array of shape (4, 3, 2), extract all elements in the first two rows and all columns of the second slice along the third axis.\r\n"
   ]
  },
  {
   "cell_type": "code",
   "execution_count": 6,
   "id": "ae958df7-9dcd-4a17-a790-f5ce229b410f",
   "metadata": {},
   "outputs": [
    {
     "name": "stdout",
     "output_type": "stream",
     "text": [
      "3-D Array: \n",
      " [[[4 0]\n",
      "  [1 2]\n",
      "  [8 2]]\n",
      "\n",
      " [[6 0]\n",
      "  [3 8]\n",
      "  [1 0]]\n",
      "\n",
      " [[0 8]\n",
      "  [9 4]\n",
      "  [1 5]]\n",
      "\n",
      " [[7 7]\n",
      "  [2 6]\n",
      "  [5 4]]]\n",
      "Extracted sub-array: \n",
      " [[6 0]\n",
      " [3 8]]\n"
     ]
    }
   ],
   "source": [
    "#generating the random 3D array\n",
    "ar111 = np.random.randint(0,10,(4,3,2))\n",
    "print(f\"3-D Array: \\n {ar111}\")\n",
    "#extracting the all elements in the first two rows and all columns of the second slice along the third axis. from the position (4, 3, 2)\n",
    "subb = ar111[1,:2,:]\n",
    "print(f\"Extracted sub-array: \\n {subb}\")"
   ]
  },
  {
   "cell_type": "markdown",
   "id": "a7bdb43a-d509-4dec-8e3b-500ad1323ac0",
   "metadata": {},
   "source": [
    "3. Given an array of integers, use fancy indexing to extract elements at positions [1, 3, 4, 7]."
   ]
  },
  {
   "cell_type": "code",
   "execution_count": 7,
   "id": "80527fb1-71d1-400d-ab72-bc33106c1e88",
   "metadata": {},
   "outputs": [
    {
     "name": "stdout",
     "output_type": "stream",
     "text": [
      "Array: [6 2 8 9 8 6 9 0]\n",
      "Fancy Indexing, at positions [1,3,4,7]: [2 9 8 0]\n"
     ]
    }
   ],
   "source": [
    "# create a random array integer\n",
    "arr = np.random.randint(0,10,8)\n",
    "#initializing indices \n",
    "ind = [1,3,4,7]\n",
    "\n",
    "print(f\"Array: {arr}\")\n",
    "print(f\"Fancy Indexing, at positions [1,3,4,7]: {arr[ind]}\")"
   ]
  },
  {
   "cell_type": "markdown",
   "id": "7bd5484c-c420-4817-aaa2-b6732742187f",
   "metadata": {},
   "source": [
    "4. Given a 2D array, use fancy indexing to select rows [0, 2, 3] and columns [1, 3]."
   ]
  },
  {
   "cell_type": "code",
   "execution_count": 8,
   "id": "ed116f8a-40ab-427b-aa45-52544565aec6",
   "metadata": {},
   "outputs": [
    {
     "name": "stdout",
     "output_type": "stream",
     "text": [
      "Array: \n",
      "[[6 9 4 5 3]\n",
      " [9 5 0 5 4]\n",
      " [8 2 9 9 9]\n",
      " [6 1 6 1 8]\n",
      " [3 9 4 9 6]]\n",
      "Fancy Indexing: \n",
      " [[9 5]\n",
      " [2 9]\n",
      " [1 1]]\n"
     ]
    }
   ],
   "source": [
    "# create a random 2-D array integer\n",
    "ar = np.random.randint(0,10,(5,5))\n",
    "#initializing indices\n",
    "rows = np.array([0,2,3])\n",
    "col = np.array([1,3])\n",
    "print(f\"Array: \\n{ar}\")\n",
    "print(f\"Fancy Indexing: \\n {ar[np.ix_(rows, col)]}\")"
   ]
  },
  {
   "cell_type": "markdown",
   "id": "31dcae6e-d247-42c6-8323-683b26292f3c",
   "metadata": {},
   "source": [
    "5. From a 1D array of random integers, extract all elements that are greater than 10."
   ]
  },
  {
   "cell_type": "code",
   "execution_count": 9,
   "id": "bb7bbe1a-ecde-4bdd-93ab-fdf4e0ca36ac",
   "metadata": {},
   "outputs": [
    {
     "name": "stdout",
     "output_type": "stream",
     "text": [
      "Array: \n",
      " [ 4 11  6 15 11 10  9  9 19 14 17  9  9 11 10]\n",
      "Extracted array: \n",
      " [11, 15, 11, 19, 14, 17, 11]\n"
     ]
    }
   ],
   "source": [
    "#creating the random integer array\n",
    "arr = np.random.randint(0,20,15)\n",
    "\n",
    "print(f\"Array: \\n {arr}\")\n",
    "print(f\"Extracted array: \\n {[x for x in arr if x > 10]}\")"
   ]
  },
  {
   "cell_type": "markdown",
   "id": "3b15a983-7e4b-44c3-8d80-75252c1fdb34",
   "metadata": {},
   "source": [
    "6. Given a 2D array of shape (5, 5), replace all elements greater than 15 with the value 0."
   ]
  },
  {
   "cell_type": "code",
   "execution_count": 10,
   "id": "5e2105e7-fc08-4333-ac67-67b043fff224",
   "metadata": {},
   "outputs": [
    {
     "name": "stdout",
     "output_type": "stream",
     "text": [
      "Array: \n",
      " [[17  1  0 12  6]\n",
      " [12  0 10 17  5]\n",
      " [14 18 12  2 11]\n",
      " [ 5  6 10  9 16]\n",
      " [ 7 18  9 10 12]]\n",
      "Extracted array: \n",
      " [[ 0  1  0 12  6]\n",
      " [12  0 10  0  5]\n",
      " [14  0 12  2 11]\n",
      " [ 5  6 10  9  0]\n",
      " [ 7  0  9 10 12]]\n"
     ]
    }
   ],
   "source": [
    "#creating the random integer array\n",
    "arr1 = np.random.randint(0,20,(5,5))\n",
    "\n",
    "print(f\"Array: \\n {arr1}\")\n",
    "\n",
    "#replasing the entries\n",
    "arr1[arr1>15] = 0\n",
    "print(f\"Extracted array: \\n {arr1}\")"
   ]
  },
  {
   "cell_type": "markdown",
   "id": "de65d876-49c0-491f-8d94-0f56ddd2c584",
   "metadata": {},
   "source": [
    "## Broadcasting\r\n"
   ]
  },
  {
   "cell_type": "markdown",
   "id": "3cf18dea-8bf5-4cdf-a801-a67ffc8eab1d",
   "metadata": {},
   "source": [
    "1. Add a 1D array of shape (3,) to each row of a 2D array of shape (4, 3)."
   ]
  },
  {
   "cell_type": "code",
   "execution_count": 11,
   "id": "cb74eabf-81da-4c1a-a4ff-78e3e55265c2",
   "metadata": {},
   "outputs": [
    {
     "name": "stdout",
     "output_type": "stream",
     "text": [
      "Original 1D Array: \n",
      " [5 7 9]\n",
      "Original 2D Array: \n",
      " [[3 7 8]\n",
      " [2 8 1]\n",
      " [9 5 3]\n",
      " [9 9 2]]\n",
      "Addition: \n",
      " [[ 8 14 17]\n",
      " [ 7 15 10]\n",
      " [14 12 12]\n",
      " [14 16 11]]\n"
     ]
    }
   ],
   "source": [
    "#Creating the random array\n",
    "arr1 = np.random.randint(1,10,3)\n",
    "#Creating the 2D array\n",
    "arr2 = np.random.randint(1,10,(4,3))\n",
    "print(f\"Original 1D Array: \\n {arr1}\")\n",
    "print(f\"Original 2D Array: \\n {arr2}\")\n",
    "print(f\"Addition: \\n {arr1 + arr2}\")"
   ]
  },
  {
   "cell_type": "markdown",
   "id": "589be99d-37ea-460a-9dc0-76b0c63ccf8b",
   "metadata": {},
   "source": [
    "2. Multiply a 2D array of shape (3, 3) by a 1D array of shape (3,)."
   ]
  },
  {
   "cell_type": "code",
   "execution_count": 12,
   "id": "3685762a-072c-40d0-b89d-2e4effdf49e8",
   "metadata": {},
   "outputs": [
    {
     "name": "stdout",
     "output_type": "stream",
     "text": [
      "Original 1D Array: \n",
      " [4 5 8]\n",
      "Original 2D Array: \n",
      " [[9 3 6]\n",
      " [8 5 3]\n",
      " [7 4 3]]\n",
      "Mutiplication: \n",
      " [[36 15 48]\n",
      " [32 25 24]\n",
      " [28 20 24]]\n"
     ]
    }
   ],
   "source": [
    "#Creating the Ranadom 1D array\n",
    "arr1 = np.random.randint(1,10,3)\n",
    "print(f\"Original 1D Array: \\n {arr1}\")\n",
    "arr2 = np.random.randint(1,10,(3,3))\n",
    "print(f\"Original 2D Array: \\n {arr2}\")\n",
    "print(f\"Mutiplication: \\n {arr1 * arr2}\")"
   ]
  },
  {
   "cell_type": "markdown",
   "id": "7d4b7218-1e2e-43b7-9ee6-ea909b93c8e0",
   "metadata": {},
   "source": [
    "3. Create two 2D arrays of shapes (3, 1) and (1, 4) respectively, and perform element-wise addition."
   ]
  },
  {
   "cell_type": "code",
   "execution_count": 13,
   "id": "e9b4e9bc-b1de-457a-8986-9c0297400e3e",
   "metadata": {},
   "outputs": [
    {
     "name": "stdout",
     "output_type": "stream",
     "text": [
      "Original 2D Array: \n",
      " [[4]\n",
      " [7]\n",
      " [2]]\n",
      "Original 2D Array: \n",
      " [[9 3 4 8]]\n",
      "Addition: \n",
      " [[13  7  8 12]\n",
      " [16 10 11 15]\n",
      " [11  5  6 10]]\n"
     ]
    }
   ],
   "source": [
    "#Creating the 2D array\n",
    "arr1 = np.random.randint(1,10,(3,1))\n",
    "arr2 = np.random.randint(1,10,(1,4))\n",
    "\n",
    "print(f\"Original 2D Array: \\n {arr1}\")\n",
    "print(f\"Original 2D Array: \\n {arr2}\")\n",
    "print(f\"Addition: \\n {arr1 + arr2}\")"
   ]
  },
  {
   "cell_type": "markdown",
   "id": "53919a9e-aa64-40c5-b9a8-a2bb3931a189",
   "metadata": {},
   "source": [
    "4. Given a 3D array of shape (2, 3, 4), add a 2D array of shape (3, 4) to each 2D slice along the first axis."
   ]
  },
  {
   "cell_type": "code",
   "execution_count": 14,
   "id": "d85b4ecb-8cf8-4b3a-8d60-fcf55a085ed0",
   "metadata": {},
   "outputs": [
    {
     "name": "stdout",
     "output_type": "stream",
     "text": [
      "Original 3D Array: \n",
      " [[[2 7 6 8]\n",
      "  [9 8 3 5]\n",
      "  [8 7 9 8]]\n",
      "\n",
      " [[9 7 4 8]\n",
      "  [3 5 8 7]\n",
      "  [9 4 5 8]]]\n",
      "Original 2D Array: \n",
      " [[6 1 1 1]\n",
      " [5 2 1 8]\n",
      " [1 8 8 2]]\n",
      "Addition: \n",
      " [[ 8  8  7  9]\n",
      " [14 10  4 13]\n",
      " [ 9 15 17 10]]\n"
     ]
    }
   ],
   "source": [
    "#Creating the 3D array\n",
    "arr1 = np.random.randint(1,10,(2, 3, 4))\n",
    "#Creating the 2D array\n",
    "arr2 = np.random.randint(1,10,(3,4))\n",
    "\n",
    "print(f\"Original 3D Array: \\n {arr1}\")\n",
    "print(f\"Original 2D Array: \\n {arr2}\")\n",
    "print(f\"Addition: \\n {arr2 + arr1[0]}\")\n"
   ]
  },
  {
   "cell_type": "markdown",
   "id": "0e5e9863-02a1-493f-af86-27ba6dc0789d",
   "metadata": {},
   "source": [
    "## Some more"
   ]
  },
  {
   "cell_type": "markdown",
   "id": "1bcf75cb-5fec-4d6e-bdce-3a0fb2adc726",
   "metadata": {},
   "source": [
    "1. Given a 2D array, use slicing to extract every second row and every second column, then add a 1D array to each row of the sliced array."
   ]
  },
  {
   "cell_type": "code",
   "execution_count": 15,
   "id": "7f258803-41de-4ea2-9057-4fe7ee6ef8da",
   "metadata": {},
   "outputs": [
    {
     "name": "stdout",
     "output_type": "stream",
     "text": [
      "Original 2D Array: \n",
      " [[5 7 1 8]\n",
      " [1 9 5 7]\n",
      " [9 8 8 9]\n",
      " [9 9 9 6]]\n",
      "Original 1D Array: \n",
      " [7 4 7 0 1]\n",
      "Addition: \n",
      " [16 13 16  9 10]\n"
     ]
    }
   ],
   "source": [
    "#Creating 2D Array\n",
    "arr2 = np.random.randint(1,10,(4,4))\n",
    "#Creating 1D Array\n",
    "arr1 = np.random.randint(0,10,5)\n",
    "print(f\"Original 2D Array: \\n {arr2}\")\n",
    "print(f\"Original 1D Array: \\n {arr1}\")\n",
    "print(f\"Addition: \\n {arr1+arr2[1,1]}\")"
   ]
  },
  {
   "cell_type": "markdown",
   "id": "de641cd4-982f-4edf-81da-05c7e69d7c47",
   "metadata": {},
   "source": [
    "2. From a 3D array of shape (4, 3, 2), extract a sub-array using slicing and then use broadcasting to subtract a 2D array from each slice along the third axis."
   ]
  },
  {
   "cell_type": "code",
   "execution_count": 16,
   "id": "09394f9c-d753-4751-8c73-7f6a2a205a3d",
   "metadata": {},
   "outputs": [
    {
     "name": "stdout",
     "output_type": "stream",
     "text": [
      "Original 3D Array: \n",
      " [[[5 5]\n",
      "  [5 2]\n",
      "  [6 3]]\n",
      "\n",
      " [[6 7]\n",
      "  [6 2]\n",
      "  [1 9]]\n",
      "\n",
      " [[4 6]\n",
      "  [5 1]\n",
      "  [3 3]]\n",
      "\n",
      " [[2 6]\n",
      "  [1 5]\n",
      "  [6 8]]]\n",
      "Original 2D Array: \n",
      " [[9 4]\n",
      " [1 3]]\n",
      "Sub array: \n",
      " [[[5 5]\n",
      "  [5 2]]\n",
      "\n",
      " [[6 7]\n",
      "  [6 2]]\n",
      "\n",
      " [[4 6]\n",
      "  [5 1]]\n",
      "\n",
      " [[2 6]\n",
      "  [1 5]]]\n",
      "Addition: \n",
      " [[[14  9]\n",
      "  [ 6  5]]\n",
      "\n",
      " [[15 11]\n",
      "  [ 7  5]]\n",
      "\n",
      " [[13 10]\n",
      "  [ 6  4]]\n",
      "\n",
      " [[11 10]\n",
      "  [ 2  8]]]\n"
     ]
    }
   ],
   "source": [
    "#Creating 3D array\n",
    "arr2 = np.random.randint(1,10,(4,3,2))\n",
    "#Creating 2D array\n",
    "arr1 = np.random.randint(0,10,(2,2))\n",
    "print(f\"Original 3D Array: \\n {arr2}\")\n",
    "print(f\"Original 2D Array: \\n {arr1}\")\n",
    "\n",
    "sub = arr2[:,0:2,0:2]\n",
    "print(f\"Sub array: \\n {sub}\")\n",
    "\n",
    "print(f\"Addition: \\n {arr1+sub}\")"
   ]
  },
  {
   "cell_type": "markdown",
   "id": "94e57364-b4ff-472a-9714-9140482e3c3b",
   "metadata": {},
   "source": [
    "3. Given a 2D array, extract the diagonal elements and create a 1D array."
   ]
  },
  {
   "cell_type": "code",
   "execution_count": 17,
   "id": "3eefddc2-5946-4f3d-ba12-b8e8c6377ac7",
   "metadata": {},
   "outputs": [
    {
     "name": "stdout",
     "output_type": "stream",
     "text": [
      "Original 2D Array: \n",
      " [[9 0 5 1]\n",
      " [7 2 4 5]\n",
      " [1 4 6 6]\n",
      " [9 0 2 2]]\n",
      "Diagnol Entries: \n",
      " [9 2 6 2]\n"
     ]
    }
   ],
   "source": [
    "#Creating the 2D array\n",
    "arr1 = np.random.randint(0,10,(4,4))\n",
    "print(f\"Original 2D Array: \\n {arr1}\")\n",
    "print(f\"Diagnol Entries: \\n {np.diag(arr1)}\")"
   ]
  },
  {
   "cell_type": "markdown",
   "id": "b40d6d1a-f239-4c04-ab58-85408513cbcf",
   "metadata": {},
   "source": [
    "4. Use slicing to reverse the order of elements in each row of a 2D array."
   ]
  },
  {
   "cell_type": "code",
   "execution_count": 18,
   "id": "bcff435d-4b82-415b-b068-88ff96861e55",
   "metadata": {},
   "outputs": [
    {
     "name": "stdout",
     "output_type": "stream",
     "text": [
      "Original 2D Array: \n",
      " [[1 2 1 4]\n",
      " [6 8 4 7]\n",
      " [3 0 4 3]\n",
      " [1 3 1 8]]\n",
      "Reversed Order: \n",
      " [[4 1 2 1]\n",
      " [7 4 8 6]\n",
      " [3 4 0 3]\n",
      " [8 1 3 1]]\n"
     ]
    }
   ],
   "source": [
    "#Creating the 2D array\n",
    "arr1 = np.random.randint(0,10,(4,4))\n",
    "print(f\"Original 2D Array: \\n {arr1}\")\n",
    "print(f\"Reversed Order: \\n {arr1[:,::-1]}\")"
   ]
  },
  {
   "cell_type": "markdown",
   "id": "7b00f1d2-e8f8-4b52-967a-ecebd3f46453",
   "metadata": {},
   "source": [
    "5. Given a 3D array of shape (4, 5, 6), use slicing to extract a sub-array of shape (2, 3, 4) and then use broadcasting to add a 1D array of shape (4,) to each row along the third axis."
   ]
  },
  {
   "cell_type": "code",
   "execution_count": 19,
   "id": "5a42ae39-ed7a-440e-b61d-08f92e81c8e5",
   "metadata": {},
   "outputs": [
    {
     "name": "stdout",
     "output_type": "stream",
     "text": [
      "Original 1D Array: \n",
      " [[[3 8 6 8 1 1]\n",
      "  [9 0 9 3 5 8]\n",
      "  [9 5 5 4 6 4]\n",
      "  [3 1 0 4 7 9]\n",
      "  [8 3 3 6 8 3]]\n",
      "\n",
      " [[1 4 3 2 9 1]\n",
      "  [1 8 3 1 6 8]\n",
      "  [3 2 1 0 8 6]\n",
      "  [2 1 6 2 9 1]\n",
      "  [4 7 5 0 3 6]]\n",
      "\n",
      " [[0 8 9 2 3 9]\n",
      "  [5 1 1 1 3 7]\n",
      "  [2 9 1 2 7 5]\n",
      "  [3 8 5 2 9 5]\n",
      "  [5 0 0 3 3 9]]\n",
      "\n",
      " [[5 8 2 6 0 0]\n",
      "  [6 6 8 3 3 8]\n",
      "  [0 7 2 5 0 6]\n",
      "  [1 1 7 2 2 0]\n",
      "  [4 8 1 1 2 0]]]\n",
      "Original 3D Array: \n",
      " [2 0 1 1]\n",
      "Sub-Array: \n",
      " [[[3 8 6 8]\n",
      "  [9 0 9 3]\n",
      "  [9 5 5 4]]\n",
      "\n",
      " [[1 4 3 2]\n",
      "  [1 8 3 1]\n",
      "  [3 2 1 0]]]\n",
      "Addition: \n",
      " [[[ 5  8  7  9]\n",
      "  [11  0 10  4]\n",
      "  [11  5  6  5]]\n",
      "\n",
      " [[ 3  4  4  3]\n",
      "  [ 3  8  4  2]\n",
      "  [ 5  2  2  1]]]\n"
     ]
    }
   ],
   "source": [
    "#Creating the 3D array\n",
    "arr1 = np.random.randint(0,10,(4,5,6))\n",
    "#Creating the 1D array\n",
    "arr2 = np.random.randint(0,10,4)\n",
    "print(f\"Original 1D Array: \\n {arr1}\")\n",
    "print(f\"Original 3D Array: \\n {arr2}\")\n",
    "\n",
    "sub = arr1[:2,:3,:4]\n",
    "print(f\"Sub-Array: \\n {sub}\")\n",
    "print(f\"Addition: \\n {arr2+sub}\")"
   ]
  },
  {
   "cell_type": "markdown",
   "id": "99f4c71e-e718-4c4f-9962-a3ace11ca77f",
   "metadata": {},
   "source": [
    "6. Create a 2D array and use both slicing and broadcasting to set the last column to the sum of the first two columns for each row."
   ]
  },
  {
   "cell_type": "code",
   "execution_count": 20,
   "id": "56ff4474-f229-49cb-8c4d-10aa5cc23408",
   "metadata": {},
   "outputs": [
    {
     "name": "stdout",
     "output_type": "stream",
     "text": [
      "Original: \n",
      " [[9 6 5 0 9]\n",
      " [0 0 9 9 0]\n",
      " [4 1 9 7 9]\n",
      " [9 3 1 3 6]]\n",
      "Last Column Removed: \n",
      " [[9 6 5 0]\n",
      " [0 0 9 9]\n",
      " [4 1 9 7]\n",
      " [9 3 1 3]]\n",
      "Added first two columnns: \n",
      " [15  0  5 12]\n",
      "Converting New: \n",
      " [[15]\n",
      " [ 0]\n",
      " [ 5]\n",
      " [12]]\n",
      "Resulted Array: \n",
      " [[ 9  6  5  0 15]\n",
      " [ 0  0  9  9  0]\n",
      " [ 4  1  9  7  5]\n",
      " [ 9  3  1  3 12]]\n"
     ]
    }
   ],
   "source": [
    "#Creating the 2D Array\n",
    "arr1 = np.random.randint(0,10,(4,5))\n",
    "print(f\"Original: \\n {arr1}\")\n",
    "\n",
    "new = arr1[:,:-1]\n",
    "print(f\"Last Column Removed: \\n {new}\")\n",
    "print(f\"Added first two columnns: \\n {new[:,0]+new[:,1]}\")\n",
    "\n",
    "#print((new[:,0]+new[:,1]).reshape(1,-1))\n",
    "x = (new[:,0]+new[:,1]).reshape(1,-1)\n",
    "x1 = x[::-1].T\n",
    "print(f\"Converting New: \\n {x1}\")\n",
    "\n",
    "print(f\"Resulted Array: \\n {np.insert(new, 4, x, axis=1)}\")"
   ]
  },
  {
   "cell_type": "markdown",
   "id": "57aae6c8-0548-47ca-9db5-df68b7cda107",
   "metadata": {},
   "source": [
    "# For serial 16 to last:\n",
    "## Indexing and Slicing"
   ]
  },
  {
   "cell_type": "markdown",
   "id": "3743ebf4-3831-4afb-bf7f-1f484fbd176f",
   "metadata": {},
   "source": [
    "7. Given a 2D array of shape (6, 6), extract a 2x2 sub-array starting from the element at position (1, 1).\n"
   ]
  },
  {
   "cell_type": "code",
   "execution_count": 21,
   "id": "b229af43-b1d0-4cbc-be12-30666f2dc56b",
   "metadata": {},
   "outputs": [
    {
     "name": "stdout",
     "output_type": "stream",
     "text": [
      "Original: \n",
      " [[6 4 1 4 3 1]\n",
      " [2 2 7 9 1 6]\n",
      " [2 3 6 3 1 2]\n",
      " [0 8 7 5 3 7]\n",
      " [1 0 7 8 7 5]\n",
      " [6 3 8 1 0 3]]\n",
      "Sub-Array: \n",
      " [[2 7]\n",
      " [3 6]]\n"
     ]
    }
   ],
   "source": [
    "#Creating the 2D array\n",
    "arr1 = np.random.randint(0,10,(6,6))\n",
    "print(f\"Original: \\n {arr1}\")\n",
    "print(f\"Sub-Array: \\n {arr1[1:3,1:3]}\")"
   ]
  },
  {
   "cell_type": "markdown",
   "id": "ce6471bd-c4d2-482d-8c91-dc634b13299b",
   "metadata": {},
   "source": [
    "8. From a 3D array of shape (3, 2, 1), extract all elements in the first two rows and all columns of the second slice along the third axis.\n"
   ]
  },
  {
   "cell_type": "code",
   "execution_count": 22,
   "id": "40edb721-ee30-416f-b4da-ebda9c0c91e2",
   "metadata": {},
   "outputs": [
    {
     "name": "stdout",
     "output_type": "stream",
     "text": [
      "Original: \n",
      " [[[1]\n",
      "  [1]]\n",
      "\n",
      " [[6]\n",
      "  [1]]\n",
      "\n",
      " [[7]\n",
      "  [8]]]\n",
      "Extracted Array: \n",
      " [[6]\n",
      " [1]]\n"
     ]
    }
   ],
   "source": [
    "#Creating the 3D array\n",
    "arr1 = np.random.randint(0,10,(3,2,1))\n",
    "print(f\"Original: \\n {arr1}\")\n",
    "\n",
    "print(f\"Extracted Array: \\n {arr1[1,:2,:]}\")"
   ]
  },
  {
   "cell_type": "markdown",
   "id": "f12dc0d7-e8dd-481a-b40b-43716f8482df",
   "metadata": {},
   "source": [
    "9. Given an array of integers, use fancy indexing to extract elements at positions [1, 3, 4, 6].\n"
   ]
  },
  {
   "cell_type": "code",
   "execution_count": 23,
   "id": "b4b4e73d-a3ec-48b1-a136-f5107520fa54",
   "metadata": {},
   "outputs": [
    {
     "name": "stdout",
     "output_type": "stream",
     "text": [
      "Original: \n",
      " [4 0 1 9 1 9 4 8 9]\n",
      "Extracted Array: \n",
      " [0 9 1 4]\n"
     ]
    }
   ],
   "source": [
    "#Creating the random array\n",
    "arr1 = np.random.randint(0,10,9)\n",
    "print(f\"Original: \\n {arr1}\")\n",
    "indicies = [1,3,4,6]\n",
    "print(f\"Extracted Array: \\n {arr1[indicies]}\")"
   ]
  },
  {
   "cell_type": "markdown",
   "id": "74921b03-37bf-4b38-b22a-504148413f05",
   "metadata": {},
   "source": [
    "10. Given a 2D array, use fancy indexing to select rows [0, 2, 2] and columns [1, 3].\n"
   ]
  },
  {
   "cell_type": "code",
   "execution_count": 24,
   "id": "836fb50e-2497-4029-b26c-2a2dc14bfa67",
   "metadata": {},
   "outputs": [
    {
     "name": "stdout",
     "output_type": "stream",
     "text": [
      "Original: \n",
      " [[7 6 8 4 1]\n",
      " [0 0 8 2 6]\n",
      " [2 3 0 6 7]\n",
      " [6 0 7 6 5]]\n",
      "Extracting the fancy indexing: \n",
      " [[6 4]\n",
      " [3 6]\n",
      " [3 6]]\n"
     ]
    }
   ],
   "source": [
    "#Creating the 2D array\n",
    "arr1 = np.random.randint(0,10,(4,5))\n",
    "print(f\"Original: \\n {arr1}\")\n",
    "rows = [0,2,2]\n",
    "col = [1,3]\n",
    "print(f\"Extracting the fancy indexing: \\n {arr1[np.ix_(rows, col)]}\")"
   ]
  },
  {
   "cell_type": "markdown",
   "id": "cc74332a-23b2-4849-ac9e-358e6d0fd4c4",
   "metadata": {},
   "source": [
    "11. From a 1D array of random integers, extract all elements that are greater than 8.\n"
   ]
  },
  {
   "cell_type": "code",
   "execution_count": 25,
   "id": "0289bbc3-1f09-4552-889b-9d46dba38d29",
   "metadata": {},
   "outputs": [
    {
     "name": "stdout",
     "output_type": "stream",
     "text": [
      "Original: \n",
      " [6 5 0 0 6 6 2 1 5 6]\n",
      "Extracted array: \n",
      " []\n"
     ]
    }
   ],
   "source": [
    "#Creating the random array\n",
    "arr1 = np.random.randint(0,10,10)\n",
    "print(f\"Original: \\n {arr1}\")\n",
    "\n",
    "print(f\"Extracted array: \\n {arr1[arr1>8]}\")"
   ]
  },
  {
   "cell_type": "markdown",
   "id": "d675e6f4-060d-4db4-9eb5-bfdb0db16ccf",
   "metadata": {},
   "source": [
    "12. Given a 2D array of shape (6, 6), replace all elements greater than 13 with the value 0."
   ]
  },
  {
   "cell_type": "code",
   "execution_count": 26,
   "id": "378eee5d-0a1a-4eef-82b7-82b121360ddc",
   "metadata": {},
   "outputs": [
    {
     "name": "stdout",
     "output_type": "stream",
     "text": [
      "Original: \n",
      " [[18 10 15 19  3 14]\n",
      " [19  1  8 10 11  6]\n",
      " [13  5  6 15  6 12]\n",
      " [ 8 15  7 10 17  6]\n",
      " [19  5  6  0  6  9]\n",
      " [11 17  7  5  1 11]]\n",
      "After replacing: \n",
      " [[ 0 10  0  0  3  0]\n",
      " [ 0  1  8 10 11  6]\n",
      " [13  5  6  0  6 12]\n",
      " [ 8  0  7 10  0  6]\n",
      " [ 0  5  6  0  6  9]\n",
      " [11  0  7  5  1 11]]\n"
     ]
    }
   ],
   "source": [
    "#Creating the 2D array\n",
    "arr1 = np.random.randint(0,20,(6,6))\n",
    "print(f\"Original: \\n {arr1}\")\n",
    "arr1[arr1>13] = 0\n",
    "print(f\"After replacing: \\n {arr1}\")"
   ]
  },
  {
   "cell_type": "markdown",
   "id": "b2fef78e-a20f-43ca-87a4-091768c3d42a",
   "metadata": {},
   "source": [
    "## Broadcasting"
   ]
  },
  {
   "cell_type": "markdown",
   "id": "7d61d3f3-c74f-4f62-b550-28ecef55a374",
   "metadata": {},
   "source": [
    "5. Add a 1D array of shape (3,) to each row of a 2D array of shape (4, 3)."
   ]
  },
  {
   "cell_type": "code",
   "execution_count": 27,
   "id": "44f08506-4df9-48be-b721-096564ecbd59",
   "metadata": {},
   "outputs": [
    {
     "name": "stdout",
     "output_type": "stream",
     "text": [
      "1-D Array: \n",
      " [17  7 12]\n",
      "2-D Array: \n",
      " [[ 8  9 16]\n",
      " [ 3  1  7]\n",
      " [ 5  6  1]\n",
      " [ 8  9 17]]\n",
      "Addition: \n",
      " [[25 16 28]\n",
      " [20  8 19]\n",
      " [22 13 13]\n",
      " [25 16 29]]\n"
     ]
    }
   ],
   "source": [
    "#Creating the arrays\n",
    "arr1 = np.random.randint(0,20,3)\n",
    "arr2 = np.random.randint(0,20,(4,3))\n",
    "\n",
    "print(f\"1-D Array: \\n {arr1}\")\n",
    "print(f\"2-D Array: \\n {arr2}\")\n",
    "print(f\"Addition: \\n {arr1+arr2}\")"
   ]
  },
  {
   "cell_type": "markdown",
   "id": "7de16054-19cb-4f4b-9e8e-b581f0be96ce",
   "metadata": {},
   "source": [
    "6. Multiply a 2D array of shape (3, 3) by a 1D array of shape (3,)."
   ]
  },
  {
   "cell_type": "code",
   "execution_count": 28,
   "id": "931c5236-d4ef-4654-b08c-d8164a27e118",
   "metadata": {},
   "outputs": [
    {
     "name": "stdout",
     "output_type": "stream",
     "text": [
      "1-D Array: \n",
      " [11 10 10]\n",
      "2-D Array: \n",
      " [[ 0  7  9]\n",
      " [ 4  7 11]\n",
      " [19 11  7]]\n",
      "Multiplication: \n",
      " [[  0  70  90]\n",
      " [ 44  70 110]\n",
      " [209 110  70]]\n"
     ]
    }
   ],
   "source": [
    "#Creating the ararys\n",
    "arr1 = np.random.randint(0,20,3)\n",
    "arr2 = np.random.randint(0,20,(3,3))\n",
    "\n",
    "print(f\"1-D Array: \\n {arr1}\")\n",
    "print(f\"2-D Array: \\n {arr2}\")\n",
    "print(f\"Multiplication: \\n {arr2*arr1}\")"
   ]
  },
  {
   "cell_type": "markdown",
   "id": "77586786-9a04-4cc0-96ff-f4fc9d1c65e0",
   "metadata": {},
   "source": [
    "7. Create two 2D arrays of shapes (3, 1) and (1, 4) respectively, and perform element-wise addition."
   ]
  },
  {
   "cell_type": "code",
   "execution_count": 29,
   "id": "24ebae5e-7d3f-40c6-a977-52a0686aba6d",
   "metadata": {},
   "outputs": [
    {
     "name": "stdout",
     "output_type": "stream",
     "text": [
      "1-D Array: \n",
      " [[ 2]\n",
      " [ 3]\n",
      " [10]]\n",
      "2-D Array: \n",
      " [[17  1  9 18]]\n",
      "Addition: \n",
      " [[19  3 11 20]\n",
      " [20  4 12 21]\n",
      " [27 11 19 28]]\n"
     ]
    }
   ],
   "source": [
    "#Creating the arrays\n",
    "arr1 = np.random.randint(0,20,(3,1))\n",
    "arr2 = np.random.randint(0,20,(1,4))\n",
    "\n",
    "print(f\"1-D Array: \\n {arr1}\")\n",
    "print(f\"2-D Array: \\n {arr2}\")\n",
    "print(f\"Addition: \\n {arr2+arr1}\")"
   ]
  },
  {
   "cell_type": "markdown",
   "id": "898e4013-d49b-4b6b-ac33-0fa9f95f05b9",
   "metadata": {},
   "source": [
    "8. Given a 3D array of shape (2, 3, 4), add a 2D array of shape (3, 4) to each 2D slice along the first axis."
   ]
  },
  {
   "cell_type": "code",
   "execution_count": 30,
   "id": "0b4b518c-48cd-44a8-8191-f35bbdb846aa",
   "metadata": {},
   "outputs": [
    {
     "name": "stdout",
     "output_type": "stream",
     "text": [
      "3-D Array: \n",
      " [[[ 1  5 12 16]\n",
      "  [ 7 11  4  3]\n",
      "  [ 0  5  8  9]]\n",
      "\n",
      " [[ 0 18  5  7]\n",
      "  [10 15 16 17]\n",
      "  [ 7 14 12 17]]]\n",
      "2-D Array: \n",
      " [[11  1 13 14]\n",
      " [19 11 17 13]\n",
      " [ 7 12 10  3]]\n",
      "Addition: \n",
      " [[12  6 25 30]\n",
      " [26 22 21 16]\n",
      " [ 7 17 18 12]]\n"
     ]
    }
   ],
   "source": [
    "#Creating the arrays\n",
    "arr1 = np.random.randint(0,20,(2,3,4))\n",
    "arr2 = np.random.randint(0,20,(3,4))\n",
    "\n",
    "print(f\"3-D Array: \\n {arr1}\")\n",
    "print(f\"2-D Array: \\n {arr2}\")\n",
    "print(f\"Addition: \\n {arr2+arr1[0]}\")"
   ]
  },
  {
   "cell_type": "markdown",
   "id": "a503be41-1f79-4bb9-9870-dbf3bbebe332",
   "metadata": {},
   "source": [
    "## Some more"
   ]
  },
  {
   "cell_type": "markdown",
   "id": "14c4539a-a8f2-4959-85b3-27a121e36d9f",
   "metadata": {},
   "source": [
    "7. Given a 2D array, use slicing to extract every second row and every second column, then add a 1D array to each row of the sliced array."
   ]
  },
  {
   "cell_type": "code",
   "execution_count": 31,
   "id": "94516a10-edb3-422f-9285-125a00167f97",
   "metadata": {},
   "outputs": [
    {
     "name": "stdout",
     "output_type": "stream",
     "text": [
      "1-D Array: \n",
      " [11 18 14]\n",
      "2-D Array: \n",
      " [[ 4  8 17 16 12  4]\n",
      " [18 19 19  3  9 17]\n",
      " [18  2  6 14  1 15]\n",
      " [15  8 15  0  5 19]\n",
      " [ 2  6 19 13 11  4]\n",
      " [15 11  2  5 14 11]]\n",
      "Addition: \n",
      " [[15 35 26]\n",
      " [29 24 15]\n",
      " [13 37 25]]\n"
     ]
    }
   ],
   "source": [
    "#Creating the arrays\n",
    "arr1 = np.random.randint(0,20,3)\n",
    "arr2 = np.random.randint(0,20,(6,6))\n",
    "\n",
    "print(f\"1-D Array: \\n {arr1}\")\n",
    "print(f\"2-D Array: \\n {arr2}\")\n",
    "print(f\"Addition: \\n {arr2[::2,::2]+arr1}\")"
   ]
  },
  {
   "cell_type": "markdown",
   "id": "aff8f01c-0c51-49c7-854f-111355c1b78b",
   "metadata": {},
   "source": [
    "8. From a 3D array of shape (3, 2, 1), extract a sub-array using slicing and then use broadcasting to subtract a 2D array from each slice along the third axis."
   ]
  },
  {
   "cell_type": "code",
   "execution_count": 32,
   "id": "ce5ad673-eff6-41ba-a800-9a9bf0aa957c",
   "metadata": {},
   "outputs": [
    {
     "name": "stdout",
     "output_type": "stream",
     "text": [
      "1-D Array: \n",
      " [[[13]\n",
      "  [ 6]]\n",
      "\n",
      " [[ 6]\n",
      "  [ 9]]\n",
      "\n",
      " [[11]\n",
      "  [10]]]\n",
      "2-D Array: \n",
      " [[ 2]\n",
      " [10]]\n",
      "Addition: \n",
      " [[[-11]\n",
      "  [  4]]\n",
      "\n",
      " [[ -4]\n",
      "  [  1]]\n",
      "\n",
      " [[ -9]\n",
      "  [  0]]]\n"
     ]
    }
   ],
   "source": [
    "#Creating the arrays\n",
    "arr1 = np.random.randint(0,20,(3,2,1))\n",
    "arr2 = np.random.randint(0,20,(2,1))\n",
    "\n",
    "print(f\"1-D Array: \\n {arr1}\")\n",
    "print(f\"2-D Array: \\n {arr2}\")\n",
    "print(f\"Addition: \\n {arr2-arr1}\")"
   ]
  },
  {
   "cell_type": "markdown",
   "id": "0ed4612a-95c5-4adf-a41e-8c357afdc8e7",
   "metadata": {},
   "source": [
    "9. Given a 2D array, extract the diagonal elements and create a 1D array."
   ]
  },
  {
   "cell_type": "code",
   "execution_count": 33,
   "id": "b4b5d4d6-604d-4e93-b908-02ae76906da3",
   "metadata": {},
   "outputs": [
    {
     "name": "stdout",
     "output_type": "stream",
     "text": [
      "2-D Array: \n",
      " [[ 4  1  9]\n",
      " [15 11 10]\n",
      " [18 10  0]\n",
      " [12 16 17]]\n",
      "Diagnol Entries: \n",
      " [ 4 11  0]\n"
     ]
    }
   ],
   "source": [
    "#Creating the arrays\n",
    "arr2 = np.random.randint(0,20,(4,3))\n",
    "\n",
    "print(f\"2-D Array: \\n {arr2}\")\n",
    "print(f\"Diagnol Entries: \\n {np.diag(arr2)}\")"
   ]
  },
  {
   "cell_type": "markdown",
   "id": "476048ac-9b77-4a9c-867a-808c5e8d6752",
   "metadata": {},
   "source": [
    "10. Use slicing to reverse the order of elements in each row of a 2D array."
   ]
  },
  {
   "cell_type": "code",
   "execution_count": 34,
   "id": "074a0dc7-a9fa-43b4-9f05-c402b4300b0d",
   "metadata": {},
   "outputs": [
    {
     "name": "stdout",
     "output_type": "stream",
     "text": [
      "2-D Array: \n",
      " [[11 19  0]\n",
      " [ 5 15  0]\n",
      " [ 7 18  7]\n",
      " [ 5 17  0]]\n",
      "Reversed: \n",
      " [[ 0 19 11]\n",
      " [ 0 15  5]\n",
      " [ 7 18  7]\n",
      " [ 0 17  5]]\n"
     ]
    }
   ],
   "source": [
    "#Creating the arrays\n",
    "arr2 = np.random.randint(0,20,(4,3))\n",
    "\n",
    "print(f\"2-D Array: \\n {arr2}\")\n",
    "print(f\"Reversed: \\n {arr2[:,::-1]}\")"
   ]
  },
  {
   "cell_type": "markdown",
   "id": "6ff68d40-3b97-44ad-ae17-41eeffc7d08e",
   "metadata": {},
   "source": [
    "11. Given a 3D array of shape (7, 6, 5), use slicing to extract a sub-array of shape (2, 3, 4) and then use broadcasting to add a 1D array of shape (4,) to each row along the third axis."
   ]
  },
  {
   "cell_type": "code",
   "execution_count": 35,
   "id": "06e3cec4-d731-43c4-866b-5824126d4ce5",
   "metadata": {},
   "outputs": [
    {
     "name": "stdout",
     "output_type": "stream",
     "text": [
      "3-D Array: \n",
      " [[[15  8  5 16  2]\n",
      "  [12  3  2 14 12]\n",
      "  [12  3 14  1  9]\n",
      "  [15 13 12 16 15]\n",
      "  [ 9 17  4 14  7]\n",
      "  [ 5 10 11 16  8]]\n",
      "\n",
      " [[ 6 17 19 15  3]\n",
      "  [ 5  4  8  0 11]\n",
      "  [ 3 18  7 19  1]\n",
      "  [ 9  0  2  2 10]\n",
      "  [ 4 17  8 10  0]\n",
      "  [ 1  7  6  1 13]]\n",
      "\n",
      " [[ 8 17 17  5  2]\n",
      "  [11 19 10 14  6]\n",
      "  [ 7 14 14 18  5]\n",
      "  [ 1 10 12 12  7]\n",
      "  [16 13  2  8  7]\n",
      "  [ 3  6  0  8  9]]\n",
      "\n",
      " [[14 11 18 17  3]\n",
      "  [17 15 14 18  0]\n",
      "  [ 4  9 10 14  2]\n",
      "  [ 1 10  8  1  3]\n",
      "  [ 9 19 10 15 11]\n",
      "  [ 8 16  5  4 12]]\n",
      "\n",
      " [[17 12  3  4 12]\n",
      "  [ 9 10 13 18 14]\n",
      "  [ 3  7  4  4  4]\n",
      "  [16  2 11 16 12]\n",
      "  [14  7  1 10  8]\n",
      "  [19 16 17  2  2]]\n",
      "\n",
      " [[15  5  1 18 18]\n",
      "  [17 15 14 11  9]\n",
      "  [ 9 10 17 10 17]\n",
      "  [11 11 15  8  3]\n",
      "  [14  8  4  3  9]\n",
      "  [ 0 12 18 17  2]]\n",
      "\n",
      " [[ 2 17  3  6  3]\n",
      "  [14  7 18 18  0]\n",
      "  [ 9  3 13 19 18]\n",
      "  [19  3  8 16 17]\n",
      "  [ 4 11 10 13 10]\n",
      "  [ 7  9 13 14  0]]]\n",
      "1-D Array: \n",
      " [16 16 12  9]\n",
      "Sub-Array: \n",
      " [[[15  8  5 16]\n",
      "  [12  3  2 14]\n",
      "  [12  3 14  1]]\n",
      "\n",
      " [[ 6 17 19 15]\n",
      "  [ 5  4  8  0]\n",
      "  [ 3 18  7 19]]]\n",
      "Addition: \n",
      " [[[  1   8   7  -7]\n",
      "  [  4  13  10  -5]\n",
      "  [  4  13  -2   8]]\n",
      "\n",
      " [[ 10  -1  -7  -6]\n",
      "  [ 11  12   4   9]\n",
      "  [ 13  -2   5 -10]]]\n"
     ]
    }
   ],
   "source": [
    "#Creating the arrays\n",
    "arr1 = np.random.randint(0,20,(7,6,5))\n",
    "arr2 = np.random.randint(0,20,4)\n",
    "print(f\"3-D Array: \\n {arr1}\")\n",
    "print(f\"1-D Array: \\n {arr2}\")\n",
    "x = arr1[:2,:3,:4]\n",
    "print(f\"Sub-Array: \\n {arr1[:2,:3,:4]}\")\n",
    "print(f\"Addition: \\n {arr2-x}\")"
   ]
  },
  {
   "cell_type": "markdown",
   "id": "843f206c-0319-4d9e-8c62-9c06aac4d91e",
   "metadata": {},
   "source": [
    "12. Create a 2D array and use both slicing and broadcasting to set the last column to the sum of the first two columns for each row."
   ]
  },
  {
   "cell_type": "code",
   "execution_count": 36,
   "id": "00e19091-a248-49ed-ac86-f36d1242f4f1",
   "metadata": {},
   "outputs": [
    {
     "name": "stdout",
     "output_type": "stream",
     "text": [
      "Original: \n",
      " [[7 2 7 4 5]\n",
      " [6 8 2 7 3]\n",
      " [3 4 9 1 6]\n",
      " [9 8 8 2 7]]\n",
      "Last Column Removed: \n",
      " [[7 2 7 4]\n",
      " [6 8 2 7]\n",
      " [3 4 9 1]\n",
      " [9 8 8 2]]\n",
      "Added first two columnns: \n",
      " [ 9 14  7 17]\n",
      "Converting New: \n",
      " [[ 9]\n",
      " [14]\n",
      " [ 7]\n",
      " [17]]\n",
      "Resulted Array: \n",
      " [[ 7  2  7  4  9]\n",
      " [ 6  8  2  7 14]\n",
      " [ 3  4  9  1  7]\n",
      " [ 9  8  8  2 17]]\n"
     ]
    }
   ],
   "source": [
    "#Creating the arrays\n",
    "arr1 = np.random.randint(0,10,(4,5))\n",
    "print(f\"Original: \\n {arr1}\")\n",
    "new = arr1[:,:-1]\n",
    "print(f\"Last Column Removed: \\n {new}\")\n",
    "print(f\"Added first two columnns: \\n {new[:,0]+new[:,1]}\")\n",
    "#print((new[:,0]+new[:,1]).reshape(1,-1))\n",
    "x = (new[:,0]+new[:,1]).reshape(1,-1)\n",
    "x1 = x[::-1].T\n",
    "print(f\"Converting New: \\n {x1}\")\n",
    "\n",
    "print(f\"Resulted Array: \\n {np.insert(new, 4, x, axis=1)}\")"
   ]
  },
  {
   "cell_type": "markdown",
   "id": "0c64116c-daa7-44bc-98a3-c107e1ab3d12",
   "metadata": {},
   "source": [
    "# Practicle Application"
   ]
  },
  {
   "cell_type": "markdown",
   "id": "630a0018-f85d-44b4-b8b1-46007883070f",
   "metadata": {},
   "source": [
    "# Image Processing Application\n",
    "## Introduction\n",
    "\n",
    "This project demonstrates the use of NumPy advanced operations for image processing tasks. The application performs the following tasks:\n",
    "\n",
    "* Image Cropping\n",
    "* Image Flipping\n",
    "* Image Rotation\n",
    "* Image Filtering\n",
    "* Image Resizing\n",
    "\n",
    "Using NumPy arrays and functions, we can efficiently process and manipulate images. This application showcases the power of NumPy in image processing and provides a foundation for more advanced image processing techniques."
   ]
  },
  {
   "cell_type": "code",
   "execution_count": 37,
   "id": "9338ee5b-3c6d-4865-b321-1b9c178694ab",
   "metadata": {},
   "outputs": [
    {
     "name": "stdout",
     "output_type": "stream",
     "text": [
      "Cropped Image: \n",
      " [[1 2]\n",
      " [4 5]]\n",
      "Flipped Image: \n",
      " [[3 2 1]\n",
      " [6 5 4]\n",
      " [9 8 7]]\n",
      "Rotated Image: \n",
      " [[3 6 9]\n",
      " [2 5 8]\n",
      " [1 4 7]]\n",
      "Resized Image: \n",
      " [[1 2 3]\n",
      " [4 5 6]\n",
      " [7 8 9]]\n"
     ]
    }
   ],
   "source": [
    "import numpy as np\n",
    "\n",
    "def crop_image(image, size):\n",
    "    return image[:size[0], :size[1]]\n",
    "\n",
    "def flip_image(image, axis):\n",
    "    return np.flip(image, axis)\n",
    "\n",
    "def rotate_image(image, angle):\n",
    "    return np.rot90(image, angle)\n",
    "\n",
    "def resize_image(image, size):\n",
    "    return np.resize(image, size)\n",
    "\n",
    "# Example usage\n",
    "image = np.array([\n",
    "    [1, 2, 3],\n",
    "    [4, 5, 6],\n",
    "    [7, 8, 9]\n",
    "])\n",
    "\n",
    "cropped_image = crop_image(image, (2, 2))\n",
    "print(f\"Cropped Image: \\n {cropped_image}\")\n",
    "\n",
    "flipped_image = flip_image(image, 1)\n",
    "print(f\"Flipped Image: \\n {flipped_image}\")\n",
    "\n",
    "rotated_image = rotate_image(image, 1)\n",
    "print(f\"Rotated Image: \\n {rotated_image}\")\n",
    "\n",
    "resized_image = resize_image(image, (3, 3))\n",
    "print(f\"Resized Image: \\n {resized_image}\")"
   ]
  }
 ],
 "metadata": {
  "kernelspec": {
   "display_name": "Python 3 (ipykernel)",
   "language": "python",
   "name": "python3"
  },
  "language_info": {
   "codemirror_mode": {
    "name": "ipython",
    "version": 3
   },
   "file_extension": ".py",
   "mimetype": "text/x-python",
   "name": "python",
   "nbconvert_exporter": "python",
   "pygments_lexer": "ipython3",
   "version": "3.11.7"
  }
 },
 "nbformat": 4,
 "nbformat_minor": 5
}
