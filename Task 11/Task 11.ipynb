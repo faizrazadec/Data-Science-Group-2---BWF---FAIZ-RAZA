{
 "cells": [
  {
   "cell_type": "markdown",
   "id": "30dc4007-ba16-4cbb-b8c4-f6804e0cde78",
   "metadata": {},
   "source": [
    "# Numpy Advance Operations"
   ]
  },
  {
   "cell_type": "code",
   "execution_count": 2,
   "id": "31edc065-1a91-41dd-8cf7-3f782fea75a1",
   "metadata": {},
   "outputs": [],
   "source": [
    "import numpy as np\n",
    "from numpy import random"
   ]
  },
  {
   "cell_type": "markdown",
   "id": "e4f5a52f-8979-4730-a275-6988df839015",
   "metadata": {},
   "source": [
    "# For serials 1 to 15:\r\n",
    "## Indexing and Slicing"
   ]
  },
  {
   "cell_type": "markdown",
   "id": "82c35fed-e91e-41ba-b1c3-41c70377d162",
   "metadata": {},
   "source": [
    "1. Given a 2D array of shape (5, 5), extract a 3x3 sub-array starting from the element at position (1, 1)."
   ]
  },
  {
   "cell_type": "code",
   "execution_count": 3,
   "id": "701351a7-c7de-4555-9634-83afd4f0198f",
   "metadata": {},
   "outputs": [
    {
     "name": "stdout",
     "output_type": "stream",
     "text": [
      "5*5 2-D Array: \n",
      " [[6 6 9 0 4]\n",
      " [8 3 6 5 6]\n",
      " [8 1 9 9 6]\n",
      " [6 3 2 9 2]\n",
      " [1 5 9 9 2]]\n",
      "Extracted sub-array: \n",
      " [[3 6 5]\n",
      " [1 9 9]\n",
      " [3 2 9]]\n"
     ]
    }
   ],
   "source": [
    "#generating the random 2D array\n",
    "ar11 = np.random.randint(0,10,(5,5))\n",
    "print(f\"5*5 2-D Array: \\n {ar11}\")\n",
    "\n",
    "#extracting the 3*3 sub-array from the position (1,1)\n",
    "sub = ar11[1:-1,1:-1]\n",
    "print(f\"Extracted sub-array: \\n {sub}\")"
   ]
  },
  {
   "cell_type": "markdown",
   "id": "05bbf30f-cb37-4832-8478-f29ec713ae2b",
   "metadata": {},
   "source": [
    "2. From a 3D array of shape (4, 3, 2), extract all elements in the first two rows and all columns of the second slice along the third axis.\r\n"
   ]
  },
  {
   "cell_type": "code",
   "execution_count": 4,
   "id": "ae958df7-9dcd-4a17-a790-f5ce229b410f",
   "metadata": {},
   "outputs": [
    {
     "name": "stdout",
     "output_type": "stream",
     "text": [
      "3-D Array: \n",
      " [[[4 6]\n",
      "  [7 5]\n",
      "  [4 2]]\n",
      "\n",
      " [[8 4]\n",
      "  [8 8]\n",
      "  [9 4]]\n",
      "\n",
      " [[3 5]\n",
      "  [6 6]\n",
      "  [9 7]]\n",
      "\n",
      " [[4 8]\n",
      "  [8 3]\n",
      "  [8 6]]]\n",
      "Extracted sub-array: \n",
      " [[8 4]\n",
      " [8 8]]\n"
     ]
    }
   ],
   "source": [
    "#generating the random 3D array\n",
    "ar111 = np.random.randint(0,10,(4,3,2))\n",
    "print(f\"3-D Array: \\n {ar111}\")\n",
    "#extracting the all elements in the first two rows and all columns of the second slice along the third axis. from the position (4, 3, 2)\n",
    "subb = ar111[1,:2,:]\n",
    "print(f\"Extracted sub-array: \\n {subb}\")"
   ]
  },
  {
   "cell_type": "markdown",
   "id": "a7bdb43a-d509-4dec-8e3b-500ad1323ac0",
   "metadata": {},
   "source": [
    "3. Given an array of integers, use fancy indexing to extract elements at positions [1, 3, 4, 7]."
   ]
  },
  {
   "cell_type": "code",
   "execution_count": 5,
   "id": "80527fb1-71d1-400d-ab72-bc33106c1e88",
   "metadata": {},
   "outputs": [
    {
     "name": "stdout",
     "output_type": "stream",
     "text": [
      "Array: [1 8 3 4 8 3 1 2]\n",
      "Fancy Indexing, at positions [1,3,4,7]: [8 4 8 2]\n"
     ]
    }
   ],
   "source": [
    "# create a random array integer\n",
    "arr = np.random.randint(0,10,8)\n",
    "#initializing indices \n",
    "ind = [1,3,4,7]\n",
    "\n",
    "print(f\"Array: {arr}\")\n",
    "print(f\"Fancy Indexing, at positions [1,3,4,7]: {arr[ind]}\")"
   ]
  },
  {
   "cell_type": "markdown",
   "id": "7bd5484c-c420-4817-aaa2-b6732742187f",
   "metadata": {},
   "source": [
    "4. Given a 2D array, use fancy indexing to select rows [0, 2, 3] and columns [1, 3]."
   ]
  },
  {
   "cell_type": "code",
   "execution_count": 6,
   "id": "ed116f8a-40ab-427b-aa45-52544565aec6",
   "metadata": {},
   "outputs": [
    {
     "name": "stdout",
     "output_type": "stream",
     "text": [
      "Array: \n",
      "[[9 7 5 8 1]\n",
      " [2 0 3 9 0]\n",
      " [6 5 4 1 2]\n",
      " [1 6 3 2 4]\n",
      " [7 8 1 8 9]]\n",
      "Fancy Indexing: \n",
      " [[7 8]\n",
      " [5 1]\n",
      " [6 2]]\n"
     ]
    }
   ],
   "source": [
    "# create a random 2-D array integer\n",
    "ar = np.random.randint(0,10,(5,5))\n",
    "#initializing indices\n",
    "rows = np.array([0,2,3])\n",
    "col = np.array([1,3])\n",
    "print(f\"Array: \\n{ar}\")\n",
    "print(f\"Fancy Indexing: \\n {ar[np.ix_(rows, col)]}\")"
   ]
  },
  {
   "cell_type": "markdown",
   "id": "31dcae6e-d247-42c6-8323-683b26292f3c",
   "metadata": {},
   "source": [
    "5. From a 1D array of random integers, extract all elements that are greater than 10."
   ]
  },
  {
   "cell_type": "code",
   "execution_count": 7,
   "id": "bb7bbe1a-ecde-4bdd-93ab-fdf4e0ca36ac",
   "metadata": {},
   "outputs": [
    {
     "name": "stdout",
     "output_type": "stream",
     "text": [
      "Array: \n",
      " [10 18 15 10  8 17 17  2  3  5 14  0 10  0  4]\n",
      "Extracted array: \n",
      " [18, 15, 17, 17, 14]\n"
     ]
    }
   ],
   "source": [
    "#creating the random integer array\n",
    "arr = np.random.randint(0,20,15)\n",
    "\n",
    "print(f\"Array: \\n {arr}\")\n",
    "print(f\"Extracted array: \\n {[x for x in arr if x > 10]}\")"
   ]
  },
  {
   "cell_type": "markdown",
   "id": "3b15a983-7e4b-44c3-8d80-75252c1fdb34",
   "metadata": {},
   "source": [
    "6. Given a 2D array of shape (5, 5), replace all elements greater than 15 with the value 0."
   ]
  },
  {
   "cell_type": "code",
   "execution_count": 8,
   "id": "5e2105e7-fc08-4333-ac67-67b043fff224",
   "metadata": {},
   "outputs": [
    {
     "name": "stdout",
     "output_type": "stream",
     "text": [
      "Array: \n",
      " [[ 5  6 10 10 18]\n",
      " [12 17 11  0 17]\n",
      " [12 10 13 13  1]\n",
      " [19  9 19  5 11]\n",
      " [18 16 10  6 17]]\n",
      "Extracted array: \n",
      " [[ 5  6 10 10  0]\n",
      " [12  0 11  0  0]\n",
      " [12 10 13 13  1]\n",
      " [ 0  9  0  5 11]\n",
      " [ 0  0 10  6  0]]\n"
     ]
    }
   ],
   "source": [
    "#creating the random integer array\n",
    "arr1 = np.random.randint(0,20,(5,5))\n",
    "\n",
    "print(f\"Array: \\n {arr1}\")\n",
    "\n",
    "#replasing the entries\n",
    "arr1[arr1>15] = 0\n",
    "print(f\"Extracted array: \\n {arr1}\")"
   ]
  },
  {
   "cell_type": "markdown",
   "id": "de65d876-49c0-491f-8d94-0f56ddd2c584",
   "metadata": {},
   "source": [
    "## Broadcasting\r\n"
   ]
  },
  {
   "cell_type": "markdown",
   "id": "3cf18dea-8bf5-4cdf-a801-a67ffc8eab1d",
   "metadata": {},
   "source": [
    "1. Add a 1D array of shape (3,) to each row of a 2D array of shape (4, 3)."
   ]
  },
  {
   "cell_type": "code",
   "execution_count": 10,
   "id": "cb74eabf-81da-4c1a-a4ff-78e3e55265c2",
   "metadata": {},
   "outputs": [
    {
     "name": "stdout",
     "output_type": "stream",
     "text": [
      "Original 1D Array: \n",
      " [2 2 3]\n",
      "Original 2D Array: \n",
      " [[3 1 2]\n",
      " [5 3 3]\n",
      " [8 2 9]\n",
      " [2 3 7]]\n",
      "Addition: \n",
      " [[ 5  3  5]\n",
      " [ 7  5  6]\n",
      " [10  4 12]\n",
      " [ 4  5 10]]\n"
     ]
    }
   ],
   "source": [
    "#Creating the random array\n",
    "arr1 = np.random.randint(1,10,3)\n",
    "#Creating the 2D array\n",
    "arr2 = np.random.randint(1,10,(4,3))\n",
    "print(f\"Original 1D Array: \\n {arr1}\")\n",
    "print(f\"Original 2D Array: \\n {arr2}\")\n",
    "print(f\"Addition: \\n {arr1 + arr2}\")"
   ]
  },
  {
   "cell_type": "markdown",
   "id": "589be99d-37ea-460a-9dc0-76b0c63ccf8b",
   "metadata": {},
   "source": [
    "2. Multiply a 2D array of shape (3, 3) by a 1D array of shape (3,)."
   ]
  },
  {
   "cell_type": "code",
   "execution_count": 11,
   "id": "3685762a-072c-40d0-b89d-2e4effdf49e8",
   "metadata": {},
   "outputs": [
    {
     "name": "stdout",
     "output_type": "stream",
     "text": [
      "Original 1D Array: \n",
      " [9 6 2]\n",
      "Original 2D Array: \n",
      " [[1 5 8]\n",
      " [2 2 3]\n",
      " [6 3 8]]\n",
      "Mutiplication: \n",
      " [[ 9 30 16]\n",
      " [18 12  6]\n",
      " [54 18 16]]\n"
     ]
    }
   ],
   "source": [
    "#Creating the Ranadom 1D array\n",
    "arr1 = np.random.randint(1,10,3)\n",
    "print(f\"Original 1D Array: \\n {arr1}\")\n",
    "arr2 = np.random.randint(1,10,(3,3))\n",
    "print(f\"Original 2D Array: \\n {arr2}\")\n",
    "print(f\"Mutiplication: \\n {arr1 * arr2}\")"
   ]
  },
  {
   "cell_type": "markdown",
   "id": "7d4b7218-1e2e-43b7-9ee6-ea909b93c8e0",
   "metadata": {},
   "source": [
    "3. Create two 2D arrays of shapes (3, 1) and (1, 4) respectively, and perform element-wise addition."
   ]
  },
  {
   "cell_type": "code",
   "execution_count": 12,
   "id": "e9b4e9bc-b1de-457a-8986-9c0297400e3e",
   "metadata": {},
   "outputs": [
    {
     "name": "stdout",
     "output_type": "stream",
     "text": [
      "Original 2D Array: \n",
      " [[6]\n",
      " [1]\n",
      " [9]]\n",
      "Original 2D Array: \n",
      " [[3 8 5 1]]\n",
      "Addition: \n",
      " [[ 9 14 11  7]\n",
      " [ 4  9  6  2]\n",
      " [12 17 14 10]]\n"
     ]
    }
   ],
   "source": [
    "#Creating the 2D array\n",
    "arr1 = np.random.randint(1,10,(3,1))\n",
    "arr2 = np.random.randint(1,10,(1,4))\n",
    "\n",
    "print(f\"Original 2D Array: \\n {arr1}\")\n",
    "print(f\"Original 2D Array: \\n {arr2}\")\n",
    "print(f\"Addition: \\n {arr1 + arr2}\")"
   ]
  },
  {
   "cell_type": "markdown",
   "id": "53919a9e-aa64-40c5-b9a8-a2bb3931a189",
   "metadata": {},
   "source": [
    "4. Given a 3D array of shape (2, 3, 4), add a 2D array of shape (3, 4) to each 2D slice along the first axis."
   ]
  },
  {
   "cell_type": "code",
   "execution_count": 13,
   "id": "d85b4ecb-8cf8-4b3a-8d60-fcf55a085ed0",
   "metadata": {},
   "outputs": [
    {
     "name": "stdout",
     "output_type": "stream",
     "text": [
      "Original 3D Array: \n",
      " [[[7 6 1 5]\n",
      "  [4 7 2 9]\n",
      "  [7 9 5 1]]\n",
      "\n",
      " [[8 3 6 8]\n",
      "  [5 8 3 3]\n",
      "  [5 8 8 3]]]\n",
      "Original 2D Array: \n",
      " [[9 3 3 8]\n",
      " [8 6 9 6]\n",
      " [2 7 7 6]]\n",
      "Addition: \n",
      " [[16  9  4 13]\n",
      " [12 13 11 15]\n",
      " [ 9 16 12  7]]\n"
     ]
    }
   ],
   "source": [
    "#Creating the 3D array\n",
    "arr1 = np.random.randint(1,10,(2, 3, 4))\n",
    "#Creating the 2D array\n",
    "arr2 = np.random.randint(1,10,(3,4))\n",
    "\n",
    "print(f\"Original 3D Array: \\n {arr1}\")\n",
    "print(f\"Original 2D Array: \\n {arr2}\")\n",
    "print(f\"Addition: \\n {arr2 + arr1[0]}\")\n"
   ]
  },
  {
   "cell_type": "markdown",
   "id": "0e5e9863-02a1-493f-af86-27ba6dc0789d",
   "metadata": {},
   "source": [
    "## Some more"
   ]
  },
  {
   "cell_type": "markdown",
   "id": "1bcf75cb-5fec-4d6e-bdce-3a0fb2adc726",
   "metadata": {},
   "source": [
    "1. Given a 2D array, use slicing to extract every second row and every second column, then add a 1D array to each row of the sliced array."
   ]
  },
  {
   "cell_type": "code",
   "execution_count": 14,
   "id": "7f258803-41de-4ea2-9057-4fe7ee6ef8da",
   "metadata": {},
   "outputs": [
    {
     "name": "stdout",
     "output_type": "stream",
     "text": [
      "Original 2D Array: \n",
      " [[1 6 5 4]\n",
      " [9 8 2 7]\n",
      " [3 5 9 4]\n",
      " [3 6 2 4]]\n",
      "Original 1D Array: \n",
      " [0 7 0 3 8]\n",
      "Addition: \n",
      " [ 8 15  8 11 16]\n"
     ]
    }
   ],
   "source": [
    "#Creating 2D Array\n",
    "arr2 = np.random.randint(1,10,(4,4))\n",
    "#Creating 1D Array\n",
    "arr1 = np.random.randint(0,10,5)\n",
    "print(f\"Original 2D Array: \\n {arr2}\")\n",
    "print(f\"Original 1D Array: \\n {arr1}\")\n",
    "print(f\"Addition: \\n {arr1+arr2[1,1]}\")"
   ]
  },
  {
   "cell_type": "markdown",
   "id": "de641cd4-982f-4edf-81da-05c7e69d7c47",
   "metadata": {},
   "source": [
    "2. From a 3D array of shape (4, 3, 2), extract a sub-array using slicing and then use broadcasting to subtract a 2D array from each slice along the third axis."
   ]
  },
  {
   "cell_type": "code",
   "execution_count": 15,
   "id": "09394f9c-d753-4751-8c73-7f6a2a205a3d",
   "metadata": {},
   "outputs": [
    {
     "name": "stdout",
     "output_type": "stream",
     "text": [
      "Original 3D Array: \n",
      " [[[3 6]\n",
      "  [2 1]\n",
      "  [8 2]]\n",
      "\n",
      " [[5 1]\n",
      "  [4 6]\n",
      "  [8 2]]\n",
      "\n",
      " [[1 4]\n",
      "  [4 7]\n",
      "  [8 8]]\n",
      "\n",
      " [[9 5]\n",
      "  [5 8]\n",
      "  [8 2]]]\n",
      "Original 2D Array: \n",
      " [[9 5]\n",
      " [9 7]]\n",
      "Sub array: \n",
      " [[[3 6]\n",
      "  [2 1]]\n",
      "\n",
      " [[5 1]\n",
      "  [4 6]]\n",
      "\n",
      " [[1 4]\n",
      "  [4 7]]\n",
      "\n",
      " [[9 5]\n",
      "  [5 8]]]\n",
      "Addition: \n",
      " [[[12 11]\n",
      "  [11  8]]\n",
      "\n",
      " [[14  6]\n",
      "  [13 13]]\n",
      "\n",
      " [[10  9]\n",
      "  [13 14]]\n",
      "\n",
      " [[18 10]\n",
      "  [14 15]]]\n"
     ]
    }
   ],
   "source": [
    "#Creating 3D array\n",
    "arr2 = np.random.randint(1,10,(4,3,2))\n",
    "#Creating 2D array\n",
    "arr1 = np.random.randint(0,10,(2,2))\n",
    "print(f\"Original 3D Array: \\n {arr2}\")\n",
    "print(f\"Original 2D Array: \\n {arr1}\")\n",
    "\n",
    "sub = arr2[:,0:2,0:2]\n",
    "print(f\"Sub array: \\n {sub}\")\n",
    "\n",
    "print(f\"Addition: \\n {arr1+sub}\")"
   ]
  },
  {
   "cell_type": "markdown",
   "id": "94e57364-b4ff-472a-9714-9140482e3c3b",
   "metadata": {},
   "source": [
    "3. Given a 2D array, extract the diagonal elements and create a 1D array."
   ]
  },
  {
   "cell_type": "code",
   "execution_count": 16,
   "id": "3eefddc2-5946-4f3d-ba12-b8e8c6377ac7",
   "metadata": {},
   "outputs": [
    {
     "name": "stdout",
     "output_type": "stream",
     "text": [
      "Original 2D Array: \n",
      " [[0 8 7 7]\n",
      " [2 7 5 4]\n",
      " [6 9 4 1]\n",
      " [5 0 9 1]]\n",
      "Diagnol Entries: \n",
      " [0 7 4 1]\n"
     ]
    }
   ],
   "source": [
    "#Creating the 2D array\n",
    "arr1 = np.random.randint(0,10,(4,4))\n",
    "print(f\"Original 2D Array: \\n {arr1}\")\n",
    "print(f\"Diagnol Entries: \\n {np.diag(arr1)}\")"
   ]
  },
  {
   "cell_type": "markdown",
   "id": "b40d6d1a-f239-4c04-ab58-85408513cbcf",
   "metadata": {},
   "source": [
    "4. Use slicing to reverse the order of elements in each row of a 2D array."
   ]
  },
  {
   "cell_type": "code",
   "execution_count": 17,
   "id": "bcff435d-4b82-415b-b068-88ff96861e55",
   "metadata": {},
   "outputs": [
    {
     "name": "stdout",
     "output_type": "stream",
     "text": [
      "Original 2D Array: \n",
      " [[0 5 6 8]\n",
      " [8 3 0 2]\n",
      " [7 1 5 4]\n",
      " [4 9 4 8]]\n",
      "Reversed Order: \n",
      " [[8 6 5 0]\n",
      " [2 0 3 8]\n",
      " [4 5 1 7]\n",
      " [8 4 9 4]]\n"
     ]
    }
   ],
   "source": [
    "#Creating the 2D array\n",
    "arr1 = np.random.randint(0,10,(4,4))\n",
    "print(f\"Original 2D Array: \\n {arr1}\")\n",
    "print(f\"Reversed Order: \\n {arr1[:,::-1]}\")"
   ]
  },
  {
   "cell_type": "markdown",
   "id": "7b00f1d2-e8f8-4b52-967a-ecebd3f46453",
   "metadata": {},
   "source": [
    "5. Given a 3D array of shape (4, 5, 6), use slicing to extract a sub-array of shape (2, 3, 4) and then use broadcasting to add a 1D array of shape (4,) to each row along the third axis."
   ]
  },
  {
   "cell_type": "code",
   "execution_count": 18,
   "id": "5a42ae39-ed7a-440e-b61d-08f92e81c8e5",
   "metadata": {},
   "outputs": [
    {
     "name": "stdout",
     "output_type": "stream",
     "text": [
      "Original 1D Array: \n",
      " [[[9 0 9 3 9 6]\n",
      "  [3 7 3 6 7 4]\n",
      "  [6 7 6 7 1 2]\n",
      "  [8 4 5 2 2 1]\n",
      "  [4 8 9 3 2 5]]\n",
      "\n",
      " [[4 1 7 4 3 9]\n",
      "  [2 6 9 6 6 6]\n",
      "  [5 8 0 9 4 8]\n",
      "  [2 9 6 3 7 6]\n",
      "  [0 7 0 7 0 2]]\n",
      "\n",
      " [[4 8 5 2 1 4]\n",
      "  [0 2 4 7 9 1]\n",
      "  [0 8 1 8 2 4]\n",
      "  [2 3 2 5 9 8]\n",
      "  [7 9 0 6 1 0]]\n",
      "\n",
      " [[2 6 8 3 8 5]\n",
      "  [3 0 0 3 9 4]\n",
      "  [2 4 1 1 0 8]\n",
      "  [0 1 4 7 6 5]\n",
      "  [5 3 1 0 5 6]]]\n",
      "Original 3D Array: \n",
      " [4 2 4 4]\n",
      "Sub-Array: \n",
      " [[[9 0 9 3]\n",
      "  [3 7 3 6]\n",
      "  [6 7 6 7]]\n",
      "\n",
      " [[4 1 7 4]\n",
      "  [2 6 9 6]\n",
      "  [5 8 0 9]]]\n",
      "Addition: \n",
      " [[[13  2 13  7]\n",
      "  [ 7  9  7 10]\n",
      "  [10  9 10 11]]\n",
      "\n",
      " [[ 8  3 11  8]\n",
      "  [ 6  8 13 10]\n",
      "  [ 9 10  4 13]]]\n"
     ]
    }
   ],
   "source": [
    "#Creating the 3D array\n",
    "arr1 = np.random.randint(0,10,(4,5,6))\n",
    "#Creating the 1D array\n",
    "arr2 = np.random.randint(0,10,4)\n",
    "print(f\"Original 1D Array: \\n {arr1}\")\n",
    "print(f\"Original 3D Array: \\n {arr2}\")\n",
    "\n",
    "sub = arr1[:2,:3,:4]\n",
    "print(f\"Sub-Array: \\n {sub}\")\n",
    "print(f\"Addition: \\n {arr2+sub}\")"
   ]
  },
  {
   "cell_type": "markdown",
   "id": "99f4c71e-e718-4c4f-9962-a3ace11ca77f",
   "metadata": {},
   "source": [
    "6. Create a 2D array and use both slicing and broadcasting to set the last column to the sum of the first two columns for each row."
   ]
  },
  {
   "cell_type": "code",
   "execution_count": 20,
   "id": "56ff4474-f229-49cb-8c4d-10aa5cc23408",
   "metadata": {},
   "outputs": [
    {
     "name": "stdout",
     "output_type": "stream",
     "text": [
      "Original: \n",
      " [[7 9 9 5 5]\n",
      " [9 9 6 7 3]\n",
      " [6 9 0 4 1]\n",
      " [8 6 5 6 6]]\n",
      "Last Column Removed: \n",
      " [[7 9 9 5]\n",
      " [9 9 6 7]\n",
      " [6 9 0 4]\n",
      " [8 6 5 6]]\n",
      "Added first two columnns: \n",
      " [16 18 15 14]\n",
      "Converting New: \n",
      " [[16]\n",
      " [18]\n",
      " [15]\n",
      " [14]]\n",
      "Resulted Array: \n",
      " [[ 7  9  9  5 16]\n",
      " [ 9  9  6  7 18]\n",
      " [ 6  9  0  4 15]\n",
      " [ 8  6  5  6 14]]\n"
     ]
    }
   ],
   "source": [
    "#Creating the 2D Array\n",
    "arr1 = np.random.randint(0,10,(4,5))\n",
    "print(f\"Original: \\n {arr1}\")\n",
    "\n",
    "new = arr1[:,:-1]\n",
    "print(f\"Last Column Removed: \\n {new}\")\n",
    "print(f\"Added first two columnns: \\n {new[:,0]+new[:,1]}\")\n",
    "\n",
    "#print((new[:,0]+new[:,1]).reshape(1,-1))\n",
    "x = (new[:,0]+new[:,1]).reshape(1,-1)\n",
    "x1 = x[::-1].T\n",
    "print(f\"Converting New: \\n {x1}\")\n",
    "\n",
    "print(f\"Resulted Array: \\n {np.insert(new, 4, x, axis=1)}\")"
   ]
  },
  {
   "cell_type": "markdown",
   "id": "57aae6c8-0548-47ca-9db5-df68b7cda107",
   "metadata": {},
   "source": [
    "# For serial 16 to last:\n",
    "## Indexing and Slicing"
   ]
  },
  {
   "cell_type": "markdown",
   "id": "3743ebf4-3831-4afb-bf7f-1f484fbd176f",
   "metadata": {},
   "source": [
    "7. Given a 2D array of shape (6, 6), extract a 2x2 sub-array starting from the element at position (1, 1).\n"
   ]
  },
  {
   "cell_type": "code",
   "execution_count": 21,
   "id": "b229af43-b1d0-4cbc-be12-30666f2dc56b",
   "metadata": {},
   "outputs": [
    {
     "name": "stdout",
     "output_type": "stream",
     "text": [
      "Original: \n",
      " [[5 0 1 0 5 0]\n",
      " [2 6 4 9 2 6]\n",
      " [5 8 8 9 5 7]\n",
      " [3 8 9 5 6 1]\n",
      " [1 2 4 2 2 7]\n",
      " [6 3 5 7 2 7]]\n",
      "Sub-Array: \n",
      " [[6 4]\n",
      " [8 8]]\n"
     ]
    }
   ],
   "source": [
    "#Creating the 2D array\n",
    "arr1 = np.random.randint(0,10,(6,6))\n",
    "print(f\"Original: \\n {arr1}\")\n",
    "print(f\"Sub-Array: \\n {arr1[1:3,1:3]}\")"
   ]
  },
  {
   "cell_type": "markdown",
   "id": "ce6471bd-c4d2-482d-8c91-dc634b13299b",
   "metadata": {},
   "source": [
    "8. From a 3D array of shape (3, 2, 1), extract all elements in the first two rows and all columns of the second slice along the third axis.\n"
   ]
  },
  {
   "cell_type": "code",
   "execution_count": 23,
   "id": "40edb721-ee30-416f-b4da-ebda9c0c91e2",
   "metadata": {},
   "outputs": [
    {
     "name": "stdout",
     "output_type": "stream",
     "text": [
      "Original: \n",
      " [[[7]\n",
      "  [7]]\n",
      "\n",
      " [[8]\n",
      "  [5]]\n",
      "\n",
      " [[2]\n",
      "  [1]]]\n",
      "Extracted Array: \n",
      " [[8]\n",
      " [5]]\n"
     ]
    }
   ],
   "source": [
    "#Creating the 3D array\n",
    "arr1 = np.random.randint(0,10,(3,2,1))\n",
    "print(f\"Original: \\n {arr1}\")\n",
    "\n",
    "print(f\"Extracted Array: \\n {arr1[1,:2,:]}\")"
   ]
  },
  {
   "cell_type": "markdown",
   "id": "f12dc0d7-e8dd-481a-b40b-43716f8482df",
   "metadata": {},
   "source": [
    "9. Given an array of integers, use fancy indexing to extract elements at positions [1, 3, 4, 6].\n"
   ]
  },
  {
   "cell_type": "code",
   "execution_count": 24,
   "id": "b4b4e73d-a3ec-48b1-a136-f5107520fa54",
   "metadata": {},
   "outputs": [
    {
     "name": "stdout",
     "output_type": "stream",
     "text": [
      "Original: \n",
      " [2 6 0 5 4 8 2 1 0]\n",
      "Extracted Array: \n",
      " [6 5 4 2]\n"
     ]
    }
   ],
   "source": [
    "#Creating the random array\n",
    "arr1 = np.random.randint(0,10,9)\n",
    "print(f\"Original: \\n {arr1}\")\n",
    "indicies = [1,3,4,6]\n",
    "print(f\"Extracted Array: \\n {arr1[indicies]}\")"
   ]
  },
  {
   "cell_type": "markdown",
   "id": "74921b03-37bf-4b38-b22a-504148413f05",
   "metadata": {},
   "source": [
    "10. Given a 2D array, use fancy indexing to select rows [0, 2, 2] and columns [1, 3].\n"
   ]
  },
  {
   "cell_type": "code",
   "execution_count": 25,
   "id": "836fb50e-2497-4029-b26c-2a2dc14bfa67",
   "metadata": {},
   "outputs": [
    {
     "name": "stdout",
     "output_type": "stream",
     "text": [
      "Original: \n",
      " [[0 3 1 6 4]\n",
      " [0 0 5 7 2]\n",
      " [5 0 5 5 0]\n",
      " [2 4 6 6 2]]\n",
      "Extracting the fancy indexing: \n",
      " [[3 6]\n",
      " [0 5]\n",
      " [0 5]]\n"
     ]
    }
   ],
   "source": [
    "#Creating the 2D array\n",
    "arr1 = np.random.randint(0,10,(4,5))\n",
    "print(f\"Original: \\n {arr1}\")\n",
    "rows = [0,2,2]\n",
    "col = [1,3]\n",
    "print(f\"Extracting the fancy indexing: \\n {arr1[np.ix_(rows, col)]}\")"
   ]
  },
  {
   "cell_type": "markdown",
   "id": "cc74332a-23b2-4849-ac9e-358e6d0fd4c4",
   "metadata": {},
   "source": [
    "11. From a 1D array of random integers, extract all elements that are greater than 8.\n"
   ]
  },
  {
   "cell_type": "code",
   "execution_count": 27,
   "id": "0289bbc3-1f09-4552-889b-9d46dba38d29",
   "metadata": {},
   "outputs": [
    {
     "name": "stdout",
     "output_type": "stream",
     "text": [
      "Original: \n",
      " [7 9 2 1 5 5 7 7 9 8]\n",
      "Extracted array: \n",
      " [9 9]\n"
     ]
    }
   ],
   "source": [
    "#Creating the random array\n",
    "arr1 = np.random.randint(0,10,10)\n",
    "print(f\"Original: \\n {arr1}\")\n",
    "\n",
    "print(f\"Extracted array: \\n {arr1[arr1>8]}\")"
   ]
  },
  {
   "cell_type": "markdown",
   "id": "d675e6f4-060d-4db4-9eb5-bfdb0db16ccf",
   "metadata": {},
   "source": [
    "12. Given a 2D array of shape (6, 6), replace all elements greater than 13 with the value 0."
   ]
  },
  {
   "cell_type": "code",
   "execution_count": 28,
   "id": "378eee5d-0a1a-4eef-82b7-82b121360ddc",
   "metadata": {},
   "outputs": [
    {
     "name": "stdout",
     "output_type": "stream",
     "text": [
      "Original: \n",
      " [[ 9 10 10  5  4 18]\n",
      " [17 14  0 19 16 17]\n",
      " [10 13  4  9 11 16]\n",
      " [18 18  9 15 11  2]\n",
      " [ 0  8  4  3  2 15]\n",
      " [13 16 18  4 10  5]]\n",
      "After replacing: \n",
      " [[ 9 10 10  5  4  0]\n",
      " [ 0  0  0  0  0  0]\n",
      " [10 13  4  9 11  0]\n",
      " [ 0  0  9  0 11  2]\n",
      " [ 0  8  4  3  2  0]\n",
      " [13  0  0  4 10  5]]\n"
     ]
    }
   ],
   "source": [
    "#Creating the 2D array\n",
    "arr1 = np.random.randint(0,20,(6,6))\n",
    "print(f\"Original: \\n {arr1}\")\n",
    "arr1[arr1>13] = 0\n",
    "print(f\"After replacing: \\n {arr1}\")"
   ]
  },
  {
   "cell_type": "markdown",
   "id": "b2fef78e-a20f-43ca-87a4-091768c3d42a",
   "metadata": {},
   "source": [
    "## Broadcasting"
   ]
  },
  {
   "cell_type": "markdown",
   "id": "7d61d3f3-c74f-4f62-b550-28ecef55a374",
   "metadata": {},
   "source": [
    "5. Add a 1D array of shape (3,) to each row of a 2D array of shape (4, 3)."
   ]
  },
  {
   "cell_type": "code",
   "execution_count": 29,
   "id": "44f08506-4df9-48be-b721-096564ecbd59",
   "metadata": {},
   "outputs": [
    {
     "name": "stdout",
     "output_type": "stream",
     "text": [
      "1-D Array: \n",
      " [13 16  1]\n",
      "2-D Array: \n",
      " [[ 7 16 17]\n",
      " [ 1 17  8]\n",
      " [ 7 18  1]\n",
      " [ 5 16 16]]\n",
      "Addition: \n",
      " [[20 32 18]\n",
      " [14 33  9]\n",
      " [20 34  2]\n",
      " [18 32 17]]\n"
     ]
    }
   ],
   "source": [
    "#Creating the arrays\n",
    "arr1 = np.random.randint(0,20,3)\n",
    "arr2 = np.random.randint(0,20,(4,3))\n",
    "\n",
    "print(f\"1-D Array: \\n {arr1}\")\n",
    "print(f\"2-D Array: \\n {arr2}\")\n",
    "print(f\"Addition: \\n {arr1+arr2}\")"
   ]
  },
  {
   "cell_type": "markdown",
   "id": "7de16054-19cb-4f4b-9e8e-b581f0be96ce",
   "metadata": {},
   "source": [
    "6. Multiply a 2D array of shape (3, 3) by a 1D array of shape (3,)."
   ]
  },
  {
   "cell_type": "code",
   "execution_count": 30,
   "id": "931c5236-d4ef-4654-b08c-d8164a27e118",
   "metadata": {},
   "outputs": [
    {
     "name": "stdout",
     "output_type": "stream",
     "text": [
      "1-D Array: \n",
      " [15 19  5]\n",
      "2-D Array: \n",
      " [[15  1 12]\n",
      " [15  7  6]\n",
      " [ 0  8 16]]\n",
      "Multiplication: \n",
      " [[225  19  60]\n",
      " [225 133  30]\n",
      " [  0 152  80]]\n"
     ]
    }
   ],
   "source": [
    "#Creating the ararys\n",
    "arr1 = np.random.randint(0,20,3)\n",
    "arr2 = np.random.randint(0,20,(3,3))\n",
    "\n",
    "print(f\"1-D Array: \\n {arr1}\")\n",
    "print(f\"2-D Array: \\n {arr2}\")\n",
    "print(f\"Multiplication: \\n {arr2*arr1}\")"
   ]
  },
  {
   "cell_type": "markdown",
   "id": "77586786-9a04-4cc0-96ff-f4fc9d1c65e0",
   "metadata": {},
   "source": [
    "7. Create two 2D arrays of shapes (3, 1) and (1, 4) respectively, and perform element-wise addition."
   ]
  },
  {
   "cell_type": "code",
   "execution_count": 31,
   "id": "24ebae5e-7d3f-40c6-a977-52a0686aba6d",
   "metadata": {},
   "outputs": [
    {
     "name": "stdout",
     "output_type": "stream",
     "text": [
      "1-D Array: \n",
      " [[ 0]\n",
      " [10]\n",
      " [16]]\n",
      "2-D Array: \n",
      " [[17  1  0  2]]\n",
      "Addition: \n",
      " [[17  1  0  2]\n",
      " [27 11 10 12]\n",
      " [33 17 16 18]]\n"
     ]
    }
   ],
   "source": [
    "#Creating the arrays\n",
    "arr1 = np.random.randint(0,20,(3,1))\n",
    "arr2 = np.random.randint(0,20,(1,4))\n",
    "\n",
    "print(f\"1-D Array: \\n {arr1}\")\n",
    "print(f\"2-D Array: \\n {arr2}\")\n",
    "print(f\"Addition: \\n {arr2+arr1}\")"
   ]
  },
  {
   "cell_type": "markdown",
   "id": "898e4013-d49b-4b6b-ac33-0fa9f95f05b9",
   "metadata": {},
   "source": [
    "8. Given a 3D array of shape (2, 3, 4), add a 2D array of shape (3, 4) to each 2D slice along the first axis."
   ]
  },
  {
   "cell_type": "code",
   "execution_count": 32,
   "id": "0b4b518c-48cd-44a8-8191-f35bbdb846aa",
   "metadata": {},
   "outputs": [
    {
     "name": "stdout",
     "output_type": "stream",
     "text": [
      "3-D Array: \n",
      " [[[ 7  3  7 14]\n",
      "  [13 13 10 14]\n",
      "  [10  8  7  9]]\n",
      "\n",
      " [[ 1  5  2  8]\n",
      "  [ 9 16  9 16]\n",
      "  [ 6 12  7  7]]]\n",
      "2-D Array: \n",
      " [[ 2 15 19 10]\n",
      " [10 19  1  4]\n",
      " [ 6 10 14 15]]\n",
      "Addition: \n",
      " [[ 9 18 26 24]\n",
      " [23 32 11 18]\n",
      " [16 18 21 24]]\n"
     ]
    }
   ],
   "source": [
    "#Creating the arrays\n",
    "arr1 = np.random.randint(0,20,(2,3,4))\n",
    "arr2 = np.random.randint(0,20,(3,4))\n",
    "\n",
    "print(f\"3-D Array: \\n {arr1}\")\n",
    "print(f\"2-D Array: \\n {arr2}\")\n",
    "print(f\"Addition: \\n {arr2+arr1[0]}\")"
   ]
  },
  {
   "cell_type": "markdown",
   "id": "a503be41-1f79-4bb9-9870-dbf3bbebe332",
   "metadata": {},
   "source": [
    "## Some more"
   ]
  },
  {
   "cell_type": "markdown",
   "id": "14c4539a-a8f2-4959-85b3-27a121e36d9f",
   "metadata": {},
   "source": [
    "7. Given a 2D array, use slicing to extract every second row and every second column, then add a 1D array to each row of the sliced array."
   ]
  },
  {
   "cell_type": "code",
   "execution_count": 33,
   "id": "94516a10-edb3-422f-9285-125a00167f97",
   "metadata": {},
   "outputs": [
    {
     "name": "stdout",
     "output_type": "stream",
     "text": [
      "1-D Array: \n",
      " [ 2 15  5]\n",
      "2-D Array: \n",
      " [[12  9 11  2  1 19]\n",
      " [15  3 17 10 16 17]\n",
      " [ 2  9  7 15  5  6]\n",
      " [ 1  3  4  9 12  6]\n",
      " [ 9  5 15  5  7 12]\n",
      " [16 18 13 18  0  8]]\n",
      "Addition: \n",
      " [[14 26  6]\n",
      " [ 4 22 10]\n",
      " [11 30 12]]\n"
     ]
    }
   ],
   "source": [
    "#Creating the arrays\n",
    "arr1 = np.random.randint(0,20,3)\n",
    "arr2 = np.random.randint(0,20,(6,6))\n",
    "\n",
    "print(f\"1-D Array: \\n {arr1}\")\n",
    "print(f\"2-D Array: \\n {arr2}\")\n",
    "print(f\"Addition: \\n {arr2[::2,::2]+arr1}\")"
   ]
  },
  {
   "cell_type": "markdown",
   "id": "aff8f01c-0c51-49c7-854f-111355c1b78b",
   "metadata": {},
   "source": [
    "8. From a 3D array of shape (3, 2, 1), extract a sub-array using slicing and then use broadcasting to subtract a 2D array from each slice along the third axis."
   ]
  },
  {
   "cell_type": "code",
   "execution_count": 34,
   "id": "ce5ad673-eff6-41ba-a800-9a9bf0aa957c",
   "metadata": {},
   "outputs": [
    {
     "name": "stdout",
     "output_type": "stream",
     "text": [
      "1-D Array: \n",
      " [[[ 6]\n",
      "  [ 6]]\n",
      "\n",
      " [[ 2]\n",
      "  [10]]\n",
      "\n",
      " [[ 7]\n",
      "  [14]]]\n",
      "2-D Array: \n",
      " [[4]\n",
      " [2]]\n",
      "Addition: \n",
      " [[[ -2]\n",
      "  [ -4]]\n",
      "\n",
      " [[  2]\n",
      "  [ -8]]\n",
      "\n",
      " [[ -3]\n",
      "  [-12]]]\n"
     ]
    }
   ],
   "source": [
    "#Creating the arrays\n",
    "arr1 = np.random.randint(0,20,(3,2,1))\n",
    "arr2 = np.random.randint(0,20,(2,1))\n",
    "\n",
    "print(f\"1-D Array: \\n {arr1}\")\n",
    "print(f\"2-D Array: \\n {arr2}\")\n",
    "print(f\"Addition: \\n {arr2-arr1}\")"
   ]
  },
  {
   "cell_type": "markdown",
   "id": "0ed4612a-95c5-4adf-a41e-8c357afdc8e7",
   "metadata": {},
   "source": [
    "9. Given a 2D array, extract the diagonal elements and create a 1D array."
   ]
  },
  {
   "cell_type": "code",
   "execution_count": 35,
   "id": "b4b5d4d6-604d-4e93-b908-02ae76906da3",
   "metadata": {},
   "outputs": [
    {
     "name": "stdout",
     "output_type": "stream",
     "text": [
      "2-D Array: \n",
      " [[ 8  1  6]\n",
      " [18 10  9]\n",
      " [ 3  9 17]\n",
      " [12  3  1]]\n",
      "Diagnol Entries: \n",
      " [ 8 10 17]\n"
     ]
    }
   ],
   "source": [
    "#Creating the arrays\n",
    "arr2 = np.random.randint(0,20,(4,3))\n",
    "\n",
    "print(f\"2-D Array: \\n {arr2}\")\n",
    "print(f\"Diagnol Entries: \\n {np.diag(arr2)}\")"
   ]
  },
  {
   "cell_type": "markdown",
   "id": "476048ac-9b77-4a9c-867a-808c5e8d6752",
   "metadata": {},
   "source": [
    "10. Use slicing to reverse the order of elements in each row of a 2D array."
   ]
  },
  {
   "cell_type": "code",
   "execution_count": 36,
   "id": "074a0dc7-a9fa-43b4-9f05-c402b4300b0d",
   "metadata": {},
   "outputs": [
    {
     "name": "stdout",
     "output_type": "stream",
     "text": [
      "2-D Array: \n",
      " [[ 1 19  3]\n",
      " [19  1 14]\n",
      " [18 13  7]\n",
      " [ 1  9  3]]\n",
      "Reversed: \n",
      " [[ 3 19  1]\n",
      " [14  1 19]\n",
      " [ 7 13 18]\n",
      " [ 3  9  1]]\n"
     ]
    }
   ],
   "source": [
    "#Creating the arrays\n",
    "arr2 = np.random.randint(0,20,(4,3))\n",
    "\n",
    "print(f\"2-D Array: \\n {arr2}\")\n",
    "print(f\"Reversed: \\n {arr2[:,::-1]}\")"
   ]
  },
  {
   "cell_type": "markdown",
   "id": "6ff68d40-3b97-44ad-ae17-41eeffc7d08e",
   "metadata": {},
   "source": [
    "11. Given a 3D array of shape (7, 6, 5), use slicing to extract a sub-array of shape (2, 3, 4) and then use broadcasting to add a 1D array of shape (4,) to each row along the third axis."
   ]
  },
  {
   "cell_type": "code",
   "execution_count": 37,
   "id": "06e3cec4-d731-43c4-866b-5824126d4ce5",
   "metadata": {},
   "outputs": [
    {
     "name": "stdout",
     "output_type": "stream",
     "text": [
      "3-D Array: \n",
      " [[[ 9  2 12  6  2]\n",
      "  [ 8 15  9 16 10]\n",
      "  [ 2  6 16  3 18]\n",
      "  [13  8 12 14 15]\n",
      "  [ 1  6  9  5 12]\n",
      "  [14  2 16  6 17]]\n",
      "\n",
      " [[ 2  5 15  2 11]\n",
      "  [15  7  1 18 18]\n",
      "  [ 4 10  7  2 15]\n",
      "  [18  0  4 13 15]\n",
      "  [16  1  7  8  0]\n",
      "  [19 10 14  6  3]]\n",
      "\n",
      " [[13 14  1  8  2]\n",
      "  [16  4  5 12  5]\n",
      "  [16  3  6  4 15]\n",
      "  [ 5 18  2  3 14]\n",
      "  [ 7 12  7 18 15]\n",
      "  [19  5 19  1 16]]\n",
      "\n",
      " [[ 5  9  0  0 11]\n",
      "  [ 8 11 17  4 19]\n",
      "  [ 0 12 13  7 18]\n",
      "  [16 19 14 13  9]\n",
      "  [ 4 16 15 13  6]\n",
      "  [15 19  8 13  6]]\n",
      "\n",
      " [[ 8  1  3 12 13]\n",
      "  [13  7  0  5 11]\n",
      "  [16 17 10 12  1]\n",
      "  [ 6  3  3 15 12]\n",
      "  [16  2 16  4 10]\n",
      "  [ 1 16 10 10  9]]\n",
      "\n",
      " [[ 3 10  5  8  7]\n",
      "  [15 15 19 13 19]\n",
      "  [13  8 11  0 14]\n",
      "  [16 11 19  0  5]\n",
      "  [16  7 10  3  3]\n",
      "  [17 13  0  2  8]]\n",
      "\n",
      " [[ 0  4  0 16  1]\n",
      "  [ 2 10 17 10 14]\n",
      "  [ 7  7  1  9 18]\n",
      "  [17  3 12  1 10]\n",
      "  [12  2  4 11  2]\n",
      "  [10  8  4 19  3]]]\n",
      "1-D Array: \n",
      " [ 6 18 18 18]\n",
      "Sub-Array: \n",
      " [[[ 9  2 12  6]\n",
      "  [ 8 15  9 16]\n",
      "  [ 2  6 16  3]]\n",
      "\n",
      " [[ 2  5 15  2]\n",
      "  [15  7  1 18]\n",
      "  [ 4 10  7  2]]]\n",
      "Addition: \n",
      " [[[-3 16  6 12]\n",
      "  [-2  3  9  2]\n",
      "  [ 4 12  2 15]]\n",
      "\n",
      " [[ 4 13  3 16]\n",
      "  [-9 11 17  0]\n",
      "  [ 2  8 11 16]]]\n"
     ]
    }
   ],
   "source": [
    "#Creating the arrays\n",
    "arr1 = np.random.randint(0,20,(7,6,5))\n",
    "arr2 = np.random.randint(0,20,4)\n",
    "print(f\"3-D Array: \\n {arr1}\")\n",
    "print(f\"1-D Array: \\n {arr2}\")\n",
    "x = arr1[:2,:3,:4]\n",
    "print(f\"Sub-Array: \\n {arr1[:2,:3,:4]}\")\n",
    "print(f\"Addition: \\n {arr2-x}\")"
   ]
  },
  {
   "cell_type": "markdown",
   "id": "843f206c-0319-4d9e-8c62-9c06aac4d91e",
   "metadata": {},
   "source": [
    "12. Create a 2D array and use both slicing and broadcasting to set the last column to the sum of the first two columns for each row."
   ]
  },
  {
   "cell_type": "code",
   "execution_count": 39,
   "id": "00e19091-a248-49ed-ac86-f36d1242f4f1",
   "metadata": {},
   "outputs": [
    {
     "name": "stdout",
     "output_type": "stream",
     "text": [
      "Original: \n",
      " [[2 5 6 0 8]\n",
      " [7 3 4 9 1]\n",
      " [6 2 5 4 8]\n",
      " [0 6 0 9 4]]\n",
      "Last Column Removed: \n",
      " [[2 5 6 0]\n",
      " [7 3 4 9]\n",
      " [6 2 5 4]\n",
      " [0 6 0 9]]\n",
      "Added first two columnns: \n",
      " [ 7 10  8  6]\n",
      "Converting New: \n",
      " [[ 7]\n",
      " [10]\n",
      " [ 8]\n",
      " [ 6]]\n",
      "Resulted Array: \n",
      " [[ 2  5  6  0  7]\n",
      " [ 7  3  4  9 10]\n",
      " [ 6  2  5  4  8]\n",
      " [ 0  6  0  9  6]]\n"
     ]
    }
   ],
   "source": [
    "#Creating the arrays\n",
    "arr1 = np.random.randint(0,10,(4,5))\n",
    "print(f\"Original: \\n {arr1}\")\n",
    "new = arr1[:,:-1]\n",
    "print(f\"Last Column Removed: \\n {new}\")\n",
    "print(f\"Added first two columnns: \\n {new[:,0]+new[:,1]}\")\n",
    "#print((new[:,0]+new[:,1]).reshape(1,-1))\n",
    "x = (new[:,0]+new[:,1]).reshape(1,-1)\n",
    "x1 = x[::-1].T\n",
    "print(f\"Converting New: \\n {x1}\")\n",
    "\n",
    "print(f\"Resulted Array: \\n {np.insert(new, 4, x, axis=1)}\")"
   ]
  },
  {
   "cell_type": "code",
   "execution_count": null,
   "id": "870c8214-a855-4b7d-8327-cc2e370eb45a",
   "metadata": {},
   "outputs": [],
   "source": []
  }
 ],
 "metadata": {
  "kernelspec": {
   "display_name": "Python 3 (ipykernel)",
   "language": "python",
   "name": "python3"
  },
  "language_info": {
   "codemirror_mode": {
    "name": "ipython",
    "version": 3
   },
   "file_extension": ".py",
   "mimetype": "text/x-python",
   "name": "python",
   "nbconvert_exporter": "python",
   "pygments_lexer": "ipython3",
   "version": "3.11.7"
  }
 },
 "nbformat": 4,
 "nbformat_minor": 5
}
