{
 "cells": [
  {
   "cell_type": "markdown",
   "id": "16dcdcd3-190d-453d-b28b-8c3c1a49873e",
   "metadata": {},
   "source": [
    "## Numpy"
   ]
  },
  {
   "cell_type": "markdown",
   "id": "583922f5-a520-418b-a015-f4891255643e",
   "metadata": {},
   "source": [
    "### Importing Libraries"
   ]
  },
  {
   "cell_type": "code",
   "execution_count": 198,
   "id": "185291a5-d5c2-499e-ad99-57f999e5f569",
   "metadata": {},
   "outputs": [],
   "source": [
    "import numpy as np\n",
    "from numpy import random\n",
    "import seaborn as sns\n",
    "import matplotlib.pyplot as plt"
   ]
  },
  {
   "cell_type": "markdown",
   "id": "aac9f52b-dd2a-4273-8a41-968fc80e74ca",
   "metadata": {},
   "source": [
    "Check the numpy version"
   ]
  },
  {
   "cell_type": "code",
   "execution_count": 199,
   "id": "22ceb32b-0d4c-4d46-a0fd-7c24494d835a",
   "metadata": {},
   "outputs": [
    {
     "data": {
      "text/plain": [
       "'1.26.4'"
      ]
     },
     "execution_count": 199,
     "metadata": {},
     "output_type": "execute_result"
    }
   ],
   "source": [
    "np.__version__"
   ]
  },
  {
   "cell_type": "markdown",
   "id": "e969687d-5a6a-4ad1-bec3-83ed0f5eb43d",
   "metadata": {},
   "source": [
    "1. Create a 1D NumPy array containing the integers from 0 to 9."
   ]
  },
  {
   "cell_type": "code",
   "execution_count": 265,
   "id": "2847da25-cfd4-4db9-afff-9ddce092b630",
   "metadata": {},
   "outputs": [
    {
     "name": "stdout",
     "output_type": "stream",
     "text": [
      "The 1-D array, [0 1 2 3 4 5 6 7 8 9]\n"
     ]
    }
   ],
   "source": [
    "arr1 = np.array([0,1,2,3,4,5,6,7,8,9])\n",
    "print(f'The 1-D array, {arr1}')"
   ]
  },
  {
   "cell_type": "markdown",
   "id": "e5d7926d-6e5a-4c3c-9ea0-eecaa2254858",
   "metadata": {},
   "source": [
    "2. Create a 2D NumPy array (3x3) containing random integers between 1 and 20."
   ]
  },
  {
   "cell_type": "code",
   "execution_count": 287,
   "id": "ea6fa489-1f9d-4d36-a082-826398cd310d",
   "metadata": {},
   "outputs": [
    {
     "name": "stdout",
     "output_type": "stream",
     "text": [
      "The 2-D array, \n",
      " [[19 20 12]\n",
      " [20 10 20]\n",
      " [19  4  1]]\n"
     ]
    }
   ],
   "source": [
    "arr2 = random.randint(1,21,(3,3))\n",
    "print(f'The 2-D array, \\n {arr2}')"
   ]
  },
  {
   "cell_type": "markdown",
   "id": "8a4041e5-d4e2-4af6-a01f-8daa3d9e2bc8",
   "metadata": {},
   "source": [
    "3. Create a 3D NumPy array with dimensions (2, 3, 4) filled with ones."
   ]
  },
  {
   "cell_type": "code",
   "execution_count": 288,
   "id": "0c36217a-05a9-46c8-ab11-c6ba68efb62e",
   "metadata": {},
   "outputs": [
    {
     "name": "stdout",
     "output_type": "stream",
     "text": [
      "The 3-D array, \n",
      " [[[1. 1. 1. 1.]\n",
      "  [1. 1. 1. 1.]\n",
      "  [1. 1. 1. 1.]]\n",
      "\n",
      " [[1. 1. 1. 1.]\n",
      "  [1. 1. 1. 1.]\n",
      "  [1. 1. 1. 1.]]]\n"
     ]
    }
   ],
   "source": [
    "arr3 = np.ones((2,3,4)) \n",
    "'''ones() took one value to procede it. but we want to be in the dimention of (2,3,4), so we insert it with the small bracket,\n",
    "it'll be count as one value'''\n",
    "print(f'The 3-D array, \\n {arr3}')"
   ]
  },
  {
   "cell_type": "markdown",
   "id": "d9d4c506-5e53-4ec3-8e0a-2e588bc5a181",
   "metadata": {},
   "source": [
    "4. Add two 1D arrays element-wise."
   ]
  },
  {
   "cell_type": "code",
   "execution_count": 290,
   "id": "47d910c8-946c-4f8b-95fe-20871f35c8cd",
   "metadata": {},
   "outputs": [
    {
     "name": "stdout",
     "output_type": "stream",
     "text": [
      "[7 6 1 8] \n",
      " [9 5 7 4]\n",
      "Numpy do addition element wise by both ways\n",
      "Using \"add()\" func: [16 11  8 12]\n",
      "Using \"+\": [16 11  8 12]\n"
     ]
    }
   ],
   "source": [
    "#creating 1-D arrays\n",
    "ar1 = random.randint(1,10,4)\n",
    "ar2 = random.randint(1,10,4)\n",
    "print(ar1,'\\n', ar2)    #\\n jumps to the next line\n",
    "print(\"Numpy do addition element wise by both ways\")\n",
    "# to do addition use the func add() or + \n",
    "print(f'Using \\\"add()\\\" func: {np.add(ar1, ar2)}')\n",
    "print(f'Using \\\"+\\\": {ar1+ar2}')"
   ]
  },
  {
   "cell_type": "markdown",
   "id": "33df1b94-ce6d-4637-9c6c-0a675b1e440c",
   "metadata": {},
   "source": [
    "5. Multiply two 2D arrays element-wise."
   ]
  },
  {
   "cell_type": "code",
   "execution_count": 291,
   "id": "4c6e9751-3c12-40a7-8a56-3158fa7e3f25",
   "metadata": {},
   "outputs": [
    {
     "name": "stdout",
     "output_type": "stream",
     "text": [
      "[[2 3 4]\n",
      " [5 9 4]] \n",
      " [[1 8 7]\n",
      " [7 3 8]]\n",
      "Numpy do multiplication element wise by both ways\n",
      "Using \"multiply()\" func: \n",
      " [[ 2 24 28]\n",
      " [35 27 32]]\n",
      "Using \"*\": \n",
      " [[ 2 24 28]\n",
      " [35 27 32]]\n"
     ]
    }
   ],
   "source": [
    "#creating 2-D arrays\n",
    "ar11 = random.randint(1,11,(2,3))\n",
    "ar22 = random.randint(1,11,(2,3))\n",
    "print(ar11,'\\n', ar22)\n",
    "print(\"Numpy do multiplication element wise by both ways\")\n",
    "# to multiply use the func multiply() or \n",
    "print(f'Using \\\"multiply()\\\" func: \\n {np.multiply(ar11, ar22)}')\n",
    "print(f'Using \\\"*\\\": \\n {ar11*ar22}')"
   ]
  },
  {
   "cell_type": "markdown",
   "id": "87981e5f-bd3c-4e38-960f-28cfd27c294f",
   "metadata": {},
   "source": [
    "6. Calculate the dot product of two matrices."
   ]
  },
  {
   "cell_type": "code",
   "execution_count": 292,
   "id": "5408f550-a671-4180-bef9-e2c18e0837aa",
   "metadata": {},
   "outputs": [
    {
     "name": "stdout",
     "output_type": "stream",
     "text": [
      "[[ 8  2  6]\n",
      " [ 5  2 10]] \n",
      " [[9 6 2]\n",
      " [4 1 4]\n",
      " [9 8 6]]\n",
      "Using \"dot()\" func:\n",
      " [[134  98  60]\n",
      " [143 112  78]]\n",
      "Using \"@\":\n",
      " [[134  98  60]\n",
      " [143 112  78]]\n"
     ]
    }
   ],
   "source": [
    "#creating the 2-D arrays with random numbers\n",
    "ar11 = random.randint(1,11,(2,3))\n",
    "ar22 = random.randint(1,11,(3,3))\n",
    "print(ar11,'\\n', ar22)\n",
    "# dot product\n",
    "print(f'Using \\\"dot()\\\" func:\\n {np.dot(ar11, ar22)}')\n",
    "print(f'Using \\\"@\\\":\\n {ar11@ar22}')"
   ]
  },
  {
   "cell_type": "markdown",
   "id": "53dd0318-22d3-45f4-aaa9-397a2f919036",
   "metadata": {},
   "source": [
    "7. Calculate the mean, median, and standard deviation of a 1D array."
   ]
  },
  {
   "cell_type": "code",
   "execution_count": 278,
   "id": "dcb41ce8-586e-4a9a-b1f2-ca46f3645e2b",
   "metadata": {},
   "outputs": [
    {
     "name": "stdout",
     "output_type": "stream",
     "text": [
      "[96 10 78  5 85 23 11 38  4  2]\n",
      "Mean: , 35.2\n",
      "Median:\" , 17.0\n",
      "Standard Deviation:\" , 35.18\n"
     ]
    }
   ],
   "source": [
    "ar1 = np.random.randint(1,100,10)\n",
    "print(ar1)\n",
    "#calculating mean, median and std (standard deviation)\n",
    "print(f'Mean: , {np.mean(ar1)}')\n",
    "print(f'Median:\" , {np.median(ar1)}')\n",
    "print(f'Standard Deviation:\" , {round(np.std(ar1), 2)}')"
   ]
  },
  {
   "cell_type": "markdown",
   "id": "9e572c70-cce5-482a-8299-93086d117c4d",
   "metadata": {},
   "source": [
    "8. Find the maximum and minimum values in a 2D array."
   ]
  },
  {
   "cell_type": "code",
   "execution_count": 279,
   "id": "d5e93e6c-532d-4e48-997a-479083deec58",
   "metadata": {},
   "outputs": [
    {
     "name": "stdout",
     "output_type": "stream",
     "text": [
      "[[9 5 6]\n",
      " [5 1 3]\n",
      " [6 1 9]]\n",
      "Maximun value: \", 9\n",
      "Minimum value:  {1}\n"
     ]
    }
   ],
   "source": [
    "#the array is already creating above in the code, so just printing it\n",
    "print(ar22)\n",
    "#finding the max and min value\n",
    "print(f'Maximun value: \", {np.max(ar22)}')\n",
    "print(f\"Minimum value: \", {np.min(ar22)})"
   ]
  },
  {
   "cell_type": "markdown",
   "id": "33f7ac7c-e0c0-4971-a2b0-d7478ac634a6",
   "metadata": {},
   "source": [
    "9. Generate an array of 1000 random numbers from a normal distribution with a mean of 0 and a standard deviation of 1."
   ]
  },
  {
   "cell_type": "code",
   "execution_count": 293,
   "id": "7896ecee-9f08-4436-8c78-ace38e73ed9e",
   "metadata": {
    "scrolled": true
   },
   "outputs": [
    {
     "name": "stdout",
     "output_type": "stream",
     "text": [
      "Normal Distribution:  \n",
      " [ 5.23637694e-01 -1.51893293e-01 -2.68629285e+00 -3.76166012e-01\n",
      " -1.95096917e-01 -9.28463075e-01 -3.46148120e-01 -3.55854108e-02\n",
      "  3.43941373e-02 -8.56322383e-02 -1.48735812e+00 -1.35191356e-01\n",
      " -4.55966370e-01  8.91744153e-02 -1.20837048e+00  1.73821380e+00\n",
      " -8.45802277e-01  5.32598052e-01  2.95187083e-01 -6.33681410e-01\n",
      " -8.03767707e-01 -1.78104582e-01 -1.50661803e-01  1.23467177e-01\n",
      "  6.54028137e-01  1.44014630e+00  5.15098307e-01  1.26945189e+00\n",
      "  2.12599866e-01 -2.74185603e-01  8.02403969e-01  1.71702374e-01\n",
      " -9.36954565e-01 -5.83669310e-01  1.03399727e+00 -5.70117793e-01\n",
      "  2.18200157e-01  2.15604134e+00 -1.94904311e+00  1.59444239e-01\n",
      " -7.32604532e-01  2.25187224e+00 -1.42604167e+00 -1.18633806e+00\n",
      " -1.48642913e-01  1.37807707e+00  1.52485553e+00 -1.02743912e+00\n",
      " -1.38085638e-02 -9.34627972e-01  3.15191500e-01 -4.21651706e-01\n",
      " -2.16999817e-01 -6.70931267e-01 -3.03304691e-01 -7.42178439e-01\n",
      "  4.88278339e-01  8.47005785e-01 -1.25163290e-01  1.32188292e+00\n",
      " -7.49631726e-01 -4.24379883e-01 -4.20309391e-01 -3.93360252e-01\n",
      "  9.33577143e-01  1.10738328e+00  4.07306234e-01 -7.15295353e-02\n",
      " -1.07150717e+00  9.86329357e-01 -4.47270286e-01 -4.94942761e-01\n",
      "  9.31651452e-01 -9.92928992e-01  1.10328628e+00 -1.15371916e+00\n",
      "  1.19729212e+00 -5.10557506e-01 -1.02440334e+00 -6.04896788e-01\n",
      " -8.69309101e-01 -2.06860025e+00 -1.25541514e-01  8.74213766e-01\n",
      " -4.19966933e-01  4.23018570e-01  1.24802717e+00 -1.42617440e-02\n",
      "  1.54736081e-01  2.32345116e-01 -5.20280107e-01  1.87406124e+00\n",
      " -5.28425270e-01  8.20662741e-01 -1.22057555e+00  3.50949280e-01\n",
      "  1.93442032e+00  7.68753312e-01  1.20684175e-01  8.56531072e-01\n",
      "  8.27552753e-01  3.84346940e-01  7.35059572e-01 -1.09975908e+00\n",
      "  1.40191489e+00  2.58049393e-01  1.24756461e+00  4.53864767e-01\n",
      " -2.53751207e+00 -1.31778505e+00 -6.07612909e-02 -1.15844570e+00\n",
      "  8.40654396e-01 -1.26961332e+00 -7.76697854e-01 -2.06910577e+00\n",
      "  1.44006660e+00 -1.30627764e+00 -6.28149495e-01 -4.39837624e-01\n",
      "  1.68640431e+00 -4.25285444e-01  1.07241721e+00  1.01172118e+00\n",
      "  3.20358372e-01  4.91593322e-01  1.02332686e-01 -2.98448134e-02\n",
      "  7.37624366e-02 -6.67471473e-01 -9.52577038e-01 -4.68260857e-01\n",
      "  1.45114899e+00 -5.06216027e-01 -2.41979882e+00 -1.78562473e-01\n",
      " -1.10604254e+00 -2.48827250e-01 -9.94934218e-01  4.49195158e-01\n",
      "  6.71615621e-01  2.47789549e+00  1.64300426e+00  7.45447519e-02\n",
      "  7.26791131e-01  8.02158340e-01 -1.25231559e+00  1.04456493e+00\n",
      "  1.44293851e+00  4.55222028e-02 -1.08663226e-01 -5.53739829e-01\n",
      " -8.95503482e-01 -4.50641165e-01  1.25987357e+00 -1.61312194e+00\n",
      " -1.55904439e+00 -1.17963939e+00  1.26849858e+00 -9.07291004e-03\n",
      " -1.50676945e-01 -4.43398148e-02 -1.41476946e+00  5.81933529e-01\n",
      " -4.17150987e-01  2.08646981e-02  3.42559762e-01  1.72889763e-01\n",
      " -1.29266033e+00  1.05299940e-01 -2.17124838e-01 -4.97886872e-01\n",
      "  1.74086078e+00 -4.31822008e-02 -3.51427585e-01  9.80686769e-02\n",
      " -2.07054928e+00  4.95820525e-01 -1.17935929e+00 -8.81101582e-01\n",
      " -1.16245634e-01 -1.10642693e+00 -1.73292233e-01  6.97098883e-02\n",
      "  7.94909688e-01 -7.60085136e-01  1.34464684e+00 -8.64678666e-01\n",
      " -1.17606890e+00 -2.18788741e+00 -6.19339506e-01  1.49971194e+00\n",
      "  1.12433289e+00  3.46516054e-01  6.76712322e-01  1.50159056e+00\n",
      " -7.45657386e-01 -5.72122177e-01 -1.75203890e-01 -3.43706545e-01\n",
      " -1.55607801e-01 -3.76350670e-01  2.05430891e+00 -2.68140217e-02\n",
      " -3.76740154e-01  8.49267493e-01  2.96799549e-01  5.71900429e-01\n",
      " -5.59265356e-01  3.80671805e-02  8.96531929e-01  2.37774752e+00\n",
      " -1.60898297e-01  7.20178519e-01  1.18974818e+00 -7.23434812e-01\n",
      " -2.25517132e-01 -2.41598861e-01  5.16740958e-01  1.37327625e+00\n",
      "  5.34234825e-01 -7.45216070e-01 -1.53407735e+00 -4.46003510e-01\n",
      " -9.33494855e-01 -1.80090918e+00 -1.74794547e+00  3.28727072e-01\n",
      "  7.09474682e-02 -2.14220322e+00 -7.03317135e-01 -1.63794861e-01\n",
      " -8.04354978e-01  3.53673372e-01 -4.92323549e-01 -1.96786058e-01\n",
      " -2.87112387e-02  2.21452219e-01  7.75373602e-01 -2.17102488e-01\n",
      " -2.65520402e-01  5.30606561e-01  1.00078357e+00 -1.07611151e+00\n",
      "  1.11490695e-01  4.79509807e-01  6.31398035e-01  9.84159894e-01\n",
      " -3.27970692e-01  3.90162153e-01 -1.96819939e+00 -3.51765544e-01\n",
      " -2.35243368e-01 -2.95431353e-01  1.99967632e-01 -8.31463861e-02\n",
      " -7.55644702e-01 -8.90078171e-01 -6.92165921e-01  1.15214048e+00\n",
      "  1.50828104e+00  8.23753970e-01 -5.87204373e-01  1.61325588e+00\n",
      "  1.59776151e+00  5.37657892e-01 -1.34688845e-01 -1.80199261e-01\n",
      "  1.43119532e+00 -6.63602846e-01 -2.24170775e+00  1.32474441e-01\n",
      " -6.09061437e-01 -6.91707967e-01 -8.66716947e-01 -2.90491837e-01\n",
      "  5.64129241e-01 -1.54434875e+00 -1.15746600e+00 -4.18890502e-01\n",
      " -1.29492046e+00 -8.53179247e-01  8.67078827e-01  5.15786412e-01\n",
      " -1.18746973e-01 -8.72054275e-01 -1.19973680e+00 -6.82122778e-01\n",
      "  7.07565141e-01 -1.55549027e+00 -8.05877538e-01 -4.02655427e-02\n",
      " -3.80625769e-01 -4.42157884e-01  1.00341742e+00  5.10484715e-02\n",
      " -1.71173977e+00  1.55713107e-01  3.43809958e-01  1.40494529e+00\n",
      " -4.52469514e-01 -3.30041823e-01  2.11104809e+00 -1.41560493e+00\n",
      " -1.75012915e+00  9.51729736e-01  1.03979133e+00 -3.49131198e-01\n",
      "  1.36902231e+00  1.70953051e+00  1.24146167e-01  1.04654878e-01\n",
      " -7.48842442e-01  6.75736855e-01  4.18332568e-01  4.73442328e-01\n",
      "  3.46634207e-01  2.80708398e-01  3.14310278e-01  4.11168481e-01\n",
      " -2.26478700e-01 -3.14286363e-01 -4.75944333e-01  1.15058239e-01\n",
      "  7.10444141e-01 -1.88669089e-01 -8.42211398e-01 -1.30365953e+00\n",
      " -7.71674874e-01  4.26084708e-01 -1.13861886e+00 -6.81286027e-01\n",
      " -2.09721604e+00  5.24159647e-01 -4.09209900e-01  4.62540739e-01\n",
      " -8.79700472e-01 -2.00473680e+00  1.84448148e-01  6.11669142e-02\n",
      "  1.83088724e+00 -1.53890368e+00  1.40637995e+00 -3.41952019e-01\n",
      "  5.35427242e-01 -8.67005393e-01  7.61130983e-01  6.53894325e-01\n",
      " -1.08299940e+00  1.11690801e+00 -9.50026970e-01 -6.37369262e-02\n",
      "  1.39682994e+00  1.31308784e+00  9.75809942e-01 -5.71202313e-01\n",
      " -1.22122233e+00  2.46997107e-01  2.38990398e-01 -7.66187412e-01\n",
      "  3.16625473e-01 -6.33231078e-01 -1.48436530e+00  8.43904781e-01\n",
      " -1.24382417e+00 -9.09967012e-01 -5.73209637e-01 -1.76787458e-01\n",
      "  1.52462316e+00  9.28400968e-02  1.32223040e+00  1.43205557e+00\n",
      " -3.14258037e-01 -2.40714381e+00 -2.36435698e-01 -1.87970959e-01\n",
      " -7.55088217e-01 -1.85541017e+00  1.56405758e-01 -8.19521838e-01\n",
      "  2.01020901e+00  4.38100396e-01 -2.31187437e-02  5.33805177e-01\n",
      " -1.46512491e-01  8.78306671e-01  4.83859797e-01 -1.67641992e+00\n",
      " -1.93247434e+00  1.37605502e+00  5.80803306e-02  8.47684031e-01\n",
      " -1.80289707e+00 -5.70089949e-01  1.15303280e+00 -1.88669271e-01\n",
      "  6.60385805e-02 -6.95118469e-01 -8.92403814e-01  1.08459234e-03\n",
      " -1.03645222e+00 -1.64043597e+00  2.82859254e-01  5.44234339e-01\n",
      "  1.29904268e+00 -1.71503022e+00 -5.71122933e-01  1.14547815e+00\n",
      "  1.68133283e-01 -4.14517915e-01  2.37170598e-01 -5.48057963e-02\n",
      " -1.03771392e+00  1.47191340e+00 -9.76987199e-01 -6.45379260e-01\n",
      "  5.28448271e-01  5.71457745e-01 -7.93477636e-01 -7.34548312e-01\n",
      " -1.93680414e+00 -1.92297011e-01  4.88457415e-01  2.07087147e-01\n",
      " -5.13014121e-01 -3.61352141e-01  4.65800352e-01  1.31349913e+00\n",
      "  5.03288789e-01 -1.11291842e-01 -5.89866402e-01 -1.59622796e+00\n",
      "  1.93624425e+00  1.07772430e+00 -1.28164775e+00  9.94095023e-02\n",
      "  1.47009990e+00  2.03431607e-01  8.69841867e-01 -4.39492989e-01\n",
      " -1.33390708e-01  4.44347629e-01 -1.35728371e+00 -2.17245129e+00\n",
      " -9.76714660e-01 -1.50720442e+00  1.09245004e-01  6.61457766e-01\n",
      " -1.34181119e+00  5.13209711e-01 -1.70766794e-01  3.10205771e-01\n",
      "  1.08597796e+00  1.83798053e+00 -7.06787774e-01 -7.66735979e-03\n",
      " -5.97087809e-01  1.07771087e+00 -1.35451920e+00  8.53020876e-02\n",
      "  3.58501911e-01  6.72025179e-01 -6.23461692e-01 -7.83522482e-02\n",
      " -3.94090117e-01 -9.37325394e-01 -1.46150388e+00  6.23188980e-01\n",
      "  2.04663338e-01 -3.41543513e-01 -1.23936541e+00  2.51236377e-01\n",
      "  2.59160638e+00 -2.86400239e-01  2.10787690e-01  1.13627344e+00\n",
      "  3.23021555e-01 -3.23384382e-01 -1.99861321e-01  4.46946587e-02\n",
      "  9.74449477e-02  2.05825242e+00 -5.92241241e-01 -6.38629791e-01\n",
      " -6.00743491e-01 -1.23947522e+00 -1.49649258e-02 -1.22738518e+00\n",
      " -8.05221338e-01 -6.75064422e-02  7.84971581e-01 -3.23097735e+00\n",
      " -4.27633315e-01  7.70018561e-01  7.26641792e-01  3.39962068e-01\n",
      " -1.55616727e-01 -1.48092345e+00 -6.85326183e-02 -5.11984908e-01\n",
      "  3.52206747e-01  5.53363180e-01  8.96760366e-01  7.10741119e-01\n",
      " -8.38287223e-01  6.29780688e-01 -2.17649610e-01 -9.97045226e-01\n",
      " -1.58650287e+00  3.48119765e-01  1.98108607e+00 -2.39626190e-01\n",
      " -3.39337748e-01 -5.76147775e-01  9.06892360e-01  8.75991446e-01\n",
      " -2.21862015e+00  1.45603592e+00  2.33207125e+00 -4.82092449e-01\n",
      "  9.43077089e-01 -6.26331354e-01 -1.55460204e-01 -1.16976220e+00\n",
      " -1.78426686e+00  1.64521627e+00 -3.33301340e-02 -1.71655170e+00\n",
      "  6.63165548e-01  1.24317346e+00 -1.76692455e-01  8.96331703e-01\n",
      " -5.63227702e-01 -4.51151873e-01 -1.19256090e+00  6.82601481e-01\n",
      "  1.84650441e-01  3.31452426e-01 -5.18042765e-01  4.78999740e-02\n",
      " -1.16799936e-01 -3.54105366e-01  2.49551042e-01 -2.77019126e-01\n",
      "  3.59416205e-01  1.00119273e+00 -6.14968179e-01 -8.96672152e-01\n",
      " -5.41678909e-01  6.08222558e-01  1.56889482e+00  3.29101296e-01\n",
      "  3.10414973e+00  1.24231579e+00 -1.06035094e+00 -8.74198729e-02\n",
      "  1.27984382e+00  1.53653005e+00 -1.88715674e+00  1.70057300e-01\n",
      "  4.84043140e-01  9.52687756e-01  6.66982490e-01  7.75194611e-01\n",
      "  3.30971804e-01 -7.39511381e-01  1.85774700e-01  1.02150389e+00\n",
      "  1.33308582e+00  2.57844167e-01  9.90713412e-01  1.28426340e-01\n",
      "  3.80722654e-02 -1.56668008e+00 -8.85427770e-01 -1.00691410e+00\n",
      " -1.59458208e-01  1.11298117e+00 -5.05694145e-01  1.94273147e+00\n",
      " -4.69122697e-01 -1.11364380e-01 -1.52599177e+00  2.51764542e+00\n",
      "  1.53354708e+00 -4.39971169e-01  2.33012334e-01  3.44156147e-03\n",
      " -3.00925505e-03  7.48507471e-01  8.51969178e-01 -1.29988559e-01\n",
      " -1.38539182e-01  2.44685185e-01 -7.91191737e-01  4.73648711e-01\n",
      "  6.75692435e-01  1.04259004e+00 -7.27829113e-01 -6.95776412e-01\n",
      " -8.93525572e-01  2.67247401e-01  6.26562620e-01 -2.69345973e-01\n",
      "  1.85048372e+00 -4.37375106e-01 -1.00483922e+00  2.37755358e-01\n",
      " -9.80102018e-01 -1.01205769e+00  4.10719926e-01 -2.17220163e-01\n",
      " -9.53938542e-01 -9.30421873e-01 -1.70096453e+00  1.54459312e-01\n",
      "  1.60706994e+00  7.49710083e-01  1.03561673e+00  7.03889725e-02\n",
      " -9.55974012e-02 -3.88457192e-01  3.46158317e-01 -1.15872019e+00\n",
      "  7.92784385e-01 -2.68631936e-02 -2.65697866e-01 -8.72904732e-01\n",
      " -6.92975562e-01 -7.54017385e-01  1.83433517e-02  2.57134597e-01\n",
      " -2.83303246e+00  1.47910514e+00  1.02559784e+00 -9.10659666e-02\n",
      " -1.98892018e-01 -1.35613572e+00  2.48913202e-01 -1.06002904e+00\n",
      "  1.72855841e+00  1.72916380e+00 -2.27071067e+00  6.52135783e-01\n",
      "  1.36681364e-01 -4.25793992e-01  8.63850482e-01 -3.02719695e-01\n",
      " -3.90036867e-01 -1.75820141e+00  6.80716907e-01  4.33954187e-01\n",
      "  1.80004211e+00 -2.07325796e+00 -2.67281910e+00 -1.09791194e+00\n",
      "  5.09068916e-01 -1.95028892e+00 -6.50043838e-01  1.43939701e+00\n",
      "  2.08426084e-01 -2.53138973e+00  4.88750073e-01  1.14301994e+00\n",
      " -1.49179122e+00 -5.74037426e-01 -1.96179443e-01  1.46696347e+00\n",
      " -1.64230292e-01  1.83369536e-01  1.49877762e+00  2.60161200e+00\n",
      "  2.08398646e-01  2.16296229e+00  4.28811834e-02  9.84745596e-01\n",
      " -6.08400973e-01  2.24945125e+00 -1.93122640e+00  3.08343186e-01\n",
      " -1.08656539e+00  1.37680771e+00  4.91306281e-01  1.23069138e+00\n",
      " -9.16573319e-01  1.35466828e+00  2.54490644e-01  9.60504726e-01\n",
      " -1.60558952e+00 -7.33333527e-01 -7.70239306e-01 -1.48305952e-01\n",
      "  1.60063014e+00 -3.58656923e-01 -1.93311449e-02  9.32364561e-01\n",
      " -1.91176002e+00  1.37153859e+00 -1.37600026e+00  6.39165959e-01\n",
      " -5.18035563e-01  1.43491145e-01 -7.46586479e-01 -1.20269942e+00\n",
      " -3.09698899e-01  1.35384763e+00 -3.35552389e-01 -3.01351575e-01\n",
      " -3.65606006e-01  1.30096226e+00  2.01675860e-01  2.42642688e-01\n",
      "  5.73744252e-01 -1.12507292e+00  4.74970970e-01 -3.94988691e-01\n",
      "  1.49525832e+00  3.52491394e-01  2.44380571e+00  2.16102366e-01\n",
      " -2.01244850e-01 -1.34482429e+00 -1.23591693e-01 -1.35275490e+00\n",
      "  8.07823546e-01 -8.25722909e-01 -4.68422868e-01 -4.17388712e-01\n",
      " -7.10625142e-01  5.35146226e-01 -8.55422118e-01 -2.20202751e+00\n",
      "  5.92924603e-01  1.82043951e+00 -1.45812883e+00  6.96956293e-01\n",
      "  5.55298109e-01 -4.15963986e-01  1.33265178e-02  9.67990333e-01\n",
      " -4.17311306e-01  5.29015108e-01  5.75607032e-01 -4.41185682e-01\n",
      " -1.35225502e+00 -8.66990829e-01 -1.27081408e+00 -7.42935305e-01\n",
      "  1.99190039e+00 -1.26206355e+00 -9.08511435e-01 -5.72022467e-01\n",
      " -1.40064034e-01 -6.86651066e-01  1.17456549e+00 -6.14768397e-01\n",
      " -1.73769549e+00 -1.62803041e+00  7.76264266e-01 -1.75822141e+00\n",
      "  1.83667332e-01 -6.62646389e-01 -1.18344112e+00 -1.06743766e+00\n",
      "  6.15411106e-01 -1.31130894e+00  3.89829096e-01  7.78881194e-01\n",
      "  3.98174592e-01 -2.38909518e-01 -8.15675765e-01 -3.89213995e-01\n",
      "  1.92756846e+00  2.05633997e+00  2.98878153e-01 -8.53364530e-01\n",
      "  1.04205138e+00 -6.93368952e-01 -9.05049831e-01 -2.65823512e-01\n",
      " -1.46723112e+00  1.34033639e-01  8.41498012e-01  8.69396603e-01\n",
      "  1.99726480e-01  1.81002692e+00 -1.48328752e-01 -2.83272714e-01\n",
      " -1.01147859e+00 -3.42724503e-01  1.48850826e+00  2.75244130e-01\n",
      "  6.44083028e-01 -9.70227603e-01 -4.89462460e-01 -1.67222058e+00\n",
      " -4.64712579e-02 -6.89564398e-01  4.27400106e-01  2.45488403e-01\n",
      " -4.25574371e-01  1.35028058e+00  1.27213127e-01  1.60298532e+00\n",
      "  5.04941991e-01  3.51047529e-01  2.69261573e-01  4.40744661e-01\n",
      "  1.41999614e+00  9.06153912e-01  2.29437241e+00 -7.81960342e-01\n",
      " -2.98797814e-02  4.47293507e-02 -3.03089034e+00 -5.31320686e-01\n",
      " -8.29161884e-01 -2.26995746e-01  1.77311745e+00  2.56435219e-01\n",
      " -1.47787876e+00 -9.56955852e-01 -9.25754867e-01 -1.41253127e-01\n",
      "  2.14235807e-01  3.21334499e-01  7.73216020e-01 -5.70527600e-01\n",
      "  1.20935521e+00  2.61479903e-01 -4.23325167e-01  4.34967784e-01\n",
      "  6.87194082e-01  4.16597721e-01 -2.99788019e-02 -9.25387194e-01\n",
      " -2.96150669e-01  2.48400847e+00 -1.63969439e+00  9.20832149e-01\n",
      " -3.47877041e-01  8.51040296e-02  1.80561700e-01 -1.82712999e+00\n",
      "  7.50395991e-01  2.73938920e-01  4.21830717e-01  3.16682123e-01\n",
      "  2.19891805e-02  1.18311567e+00 -5.06548201e-02  7.98027115e-01\n",
      "  1.18856140e+00 -9.13851051e-01 -7.49824209e-01 -2.28292689e-01\n",
      "  1.36771997e+00  2.28850999e+00 -1.23501934e+00  6.41745989e-01\n",
      " -2.42384858e-03 -7.52007101e-01 -1.97746174e+00 -7.42743119e-02\n",
      "  1.38526463e+00  1.82245359e-01 -2.66713391e-01 -1.12895104e+00\n",
      " -9.98812859e-01  1.91971852e+00 -1.32361369e+00  3.82449921e-01\n",
      "  1.04110437e+00 -6.33687333e-01  6.00360279e-01  2.28753950e+00\n",
      "  8.16556449e-01  1.67595679e+00 -4.24069719e-01 -1.57307048e-01\n",
      " -6.65875995e-01 -6.61069035e-02  3.99525780e-02  2.47605092e+00\n",
      " -2.90184935e-01  1.15072404e+00 -1.05262287e+00 -2.87009052e-01\n",
      "  8.07705548e-01  1.91896362e+00  1.13819391e+00 -3.63426192e-01\n",
      " -8.66280213e-01 -2.55496809e+00 -5.79908765e-01  1.23638678e+00\n",
      "  1.70541875e+00  5.21723758e-01 -8.90533386e-01 -1.34980689e-01\n",
      " -3.22042364e-01 -2.20482415e-01 -6.64757488e-01  5.14831300e-01\n",
      " -7.68712231e-01 -4.07270561e-01  7.71991097e-01 -1.55252856e-01\n",
      " -9.14096350e-01 -2.44041165e+00  2.68341892e-01  8.55500303e-01\n",
      " -1.81824494e-01  9.43155327e-01  2.23982415e+00  2.16062041e-01\n",
      " -8.13181380e-01  1.06371844e-01 -1.97159472e-01  3.46191716e-01\n",
      "  9.27200260e-01 -1.51579460e-01 -1.05358073e+00  2.84610825e-01\n",
      " -6.15045905e-01  6.42699482e-01 -9.17549800e-02 -1.17829792e+00\n",
      "  3.26963207e-01  4.96940039e-01  1.01479727e+00 -3.37049427e-01\n",
      " -1.60637301e+00  2.29541343e-01  7.28678722e-01 -6.34491786e-01\n",
      "  5.44641439e-01  1.36711661e+00  2.76008416e-01 -5.78898361e-01\n",
      " -1.25404191e+00 -1.79377689e+00  1.07858857e+00  2.87393478e-01\n",
      "  6.18453106e-01  7.59471786e-01 -7.34372224e-01 -2.64727746e-01\n",
      " -1.51531408e+00 -1.69172174e-02  1.35623631e+00  1.66249109e-01\n",
      "  1.68794144e-01 -8.23721024e-01 -9.60581389e-01 -6.99715755e-02\n",
      " -4.40705861e-01 -7.65024923e-01 -4.25737317e-01 -1.82114959e-01\n",
      " -5.41851653e-02  1.06388015e+00 -1.73109187e+00  7.71561813e-01\n",
      " -5.72599740e-01  1.34339420e-01 -1.44454309e-01 -7.04503416e-01\n",
      "  8.02343679e-01  7.96999423e-01 -2.99394274e+00  7.27890049e-01\n",
      " -3.45240595e-01 -1.04928862e+00  2.37347332e+00  2.04077888e+00\n",
      "  9.19171009e-02  2.99724871e-01 -5.69723070e-01  4.45655723e-02\n",
      " -2.33216576e+00 -8.24940755e-01  1.01184626e+00 -4.54601187e-01\n",
      "  1.20783133e+00  6.63462451e-01 -4.31384548e-01 -5.34353804e-01\n",
      " -1.78127133e+00 -1.48036276e+00  1.08833244e+00  1.34817720e+00\n",
      " -4.48738225e-01  7.30380451e-01  3.19347623e-01 -4.49191779e-02\n",
      " -2.24157164e-01  2.03994729e+00  1.54716144e-01 -7.00689135e-02]\n"
     ]
    }
   ],
   "source": [
    "#normal distribution is also called gaussian distribution\n",
    "nordist = np.random.normal(0, 1, 1000)\n",
    "print(f\"Normal Distribution:  \\n {nordist}\")"
   ]
  },
  {
   "cell_type": "code",
   "execution_count": 209,
   "id": "6dfb2cd9-16f1-48ba-b038-468bb6c6bdd8",
   "metadata": {},
   "outputs": [
    {
     "data": {
      "image/png": "[encoded data removed]",
      "text/plain": [
       "<Figure size 640x480 with 1 Axes>"
      ]
     },
     "metadata": {},
     "output_type": "display_data"
    }
   ],
   "source": [
    "#ignore the future errors\n",
    "import warnings\n",
    "warnings.filterwarnings('ignore')\n",
    "#Visulization of the Normal Distribution\n",
    "sns.distplot(nordist)\n",
    "plt.show()"
   ]
  },
  {
   "cell_type": "markdown",
   "id": "15909ba8-06e5-4de5-9067-b6e6baae0a2c",
   "metadata": {},
   "source": [
    "10. Create a 2D array of shapes (5, 5) with random integers from a uniform distribution between 10 and 50."
   ]
  },
  {
   "cell_type": "code",
   "execution_count": 294,
   "id": "eaecc2e1-59c6-4539-a8e3-aaf3f925822c",
   "metadata": {},
   "outputs": [
    {
     "name": "stdout",
     "output_type": "stream",
     "text": [
      "Uniform Distribution: \n",
      " [[32.15467069 26.73537666 18.42565101 48.52201813 23.12299553]\n",
      " [45.30643845 46.3739516  39.82407385 26.71424244 27.81926928]\n",
      " [28.13104302 44.48503032 30.7877669  39.2716261  16.20399501]\n",
      " [42.94779209 49.8722589  22.7561401  30.23896701 42.30515617]\n",
      " [47.9526156  48.79719678 36.94920621 17.20830363 13.56844421]]\n"
     ]
    }
   ],
   "source": [
    "#uniform distriution\n",
    "unidist = np.random.uniform(10, 51, (5,5))\n",
    "print(f\"Uniform Distribution: \\n {unidist}\")"
   ]
  },
  {
   "cell_type": "code",
   "execution_count": 211,
   "id": "7b7550f5-7006-4441-aa54-bd3e252a33c4",
   "metadata": {},
   "outputs": [
    {
     "data": {
      "image/png": "[encoded data removed]",
      "text/plain": [
       "<Figure size 640x480 with 1 Axes>"
      ]
     },
     "metadata": {},
     "output_type": "display_data"
    }
   ],
   "source": [
    "#visulization of the Uniform distribution\n",
    "sns.distplot(unidist)\n",
    "plt.show()"
   ]
  },
  {
   "cell_type": "markdown",
   "id": "275f2ef1-4b08-4416-aed1-c3c721b88b60",
   "metadata": {},
   "source": [
    "11. Calculate the cumulative sum of a 1D array."
   ]
  },
  {
   "cell_type": "code",
   "execution_count": 283,
   "id": "7fdc36b6-7234-48ac-a933-cf6e148477ca",
   "metadata": {},
   "outputs": [
    {
     "name": "stdout",
     "output_type": "stream",
     "text": [
      "[96 10 78  5 85 23 11 38  4  2]\n",
      "Cumulative Sum: [ 96 106 184 189 274 297 308 346 350 352]\n"
     ]
    },
    {
     "data": {
      "text/plain": [
       "'Cumulative sum is the sum of the array, which adds the previous number to become the new element in the array'"
      ]
     },
     "execution_count": 283,
     "metadata": {},
     "output_type": "execute_result"
    }
   ],
   "source": [
    "#calculating the cumulative sum, \n",
    "print(ar1)\n",
    "print(f\"Cumulative Sum: {ar1.cumsum()}\") \n",
    "'''Cumulative sum is the sum of the array, which adds the previous number to become the new element in the array'''"
   ]
  },
  {
   "cell_type": "markdown",
   "id": "1ff043df-7b1a-45f4-a78d-6c15e8d5c3e5",
   "metadata": {},
   "source": [
    "12. Compute the correlation coefficient matrix of a 2D array."
   ]
  },
  {
   "cell_type": "code",
   "execution_count": 286,
   "id": "66b3da53-a13b-4a5a-a85b-c569019181a0",
   "metadata": {},
   "outputs": [
    {
     "name": "stdout",
     "output_type": "stream",
     "text": [
      "[[ 6 10  2]\n",
      " [ 4  3  1]]\n",
      "Correlation Coefficient: \n",
      " [[1.         0.65465367]\n",
      " [0.65465367 1.        ]]\n"
     ]
    }
   ],
   "source": [
    "#array is already defined so just printing it\n",
    "print(ar11)\n",
    "print(f\"Correlation Coefficient: \\n {np.corrcoef(ar11)}\")"
   ]
  },
  {
   "cell_type": "markdown",
   "id": "51ca9b05-fd43-40d9-9566-4be0e20c631f",
   "metadata": {},
   "source": [
    "13. Simulate rolling a six-sided die 1000 times and count the frequency of each outcome."
   ]
  },
  {
   "cell_type": "code",
   "execution_count": 263,
   "id": "306fd12f-8cc8-47a7-80fa-7cb169ccdfa1",
   "metadata": {},
   "outputs": [
    {
     "data": {
      "text/plain": [
       "array([164, 148, 162, 179, 183, 164], dtype=int64)"
      ]
     },
     "execution_count": 263,
     "metadata": {},
     "output_type": "execute_result"
    }
   ],
   "source": [
    "#simulating the rolls 1000 times\n",
    "rolls = np.random.randint(1,7, 1000)\n",
    "#counting the occurrence of each output of the roll\n",
    "freq = np.bincount(rolls, minlength=6)\n",
    "freq[1:]"
   ]
  },
  {
   "cell_type": "markdown",
   "id": "be25bd08-bc9a-4eb7-9a4b-2409c2209fdf",
   "metadata": {},
   "source": [
    "# EXTRA WORK"
   ]
  },
  {
   "cell_type": "markdown",
   "id": "6fa627ab-a641-4aa9-aec8-4a9f14b20495",
   "metadata": {},
   "source": [
    "Why Numpy?\n",
    "Numpy aims to provide an array object that is up to 50x faster than traditional python lists. The array object array in Numpy is called ndarray, it provides a lot of supporting functions that make working with ndarray very easy.\n",
    "\n",
    "Why is NumPy Faster Than Lists?\r\n",
    "NumPy arrays are stored at one continuous place in memory unlike lists, so processes can access and manipulate them very efficiently\r\n",
    "\r\n",
    "This behavior is called locality of reference in computer scien\n",
    "\n",
    "Which Language is NumPy written in?\r\n",
    "NumPy is a Python library and is written partially in Python, but most of the parts that require fast computation are written in C or C++.ce."
   ]
  },
  {
   "cell_type": "code",
   "execution_count": 2,
   "id": "74cbd055-9503-491d-850b-b01478f0fdf6",
   "metadata": {},
   "outputs": [
    {
     "data": {
      "text/plain": [
       "array([1, 1, 2, 2])"
      ]
     },
     "execution_count": 2,
     "metadata": {},
     "output_type": "execute_result"
    }
   ],
   "source": []
  },
  {
   "cell_type": "code",
   "execution_count": 5,
   "id": "3ebe088e-a58e-42d5-8266-68e1d7f4588f",
   "metadata": {},
   "outputs": [
    {
     "data": {
      "text/plain": [
       "numpy.ndarray"
      ]
     },
     "execution_count": 5,
     "metadata": {},
     "output_type": "execute_result"
    }
   ],
   "source": [
    "type(arr)"
   ]
  },
  {
   "cell_type": "markdown",
   "id": "aae54380-bb0c-4ec1-a189-b3414964832b",
   "metadata": {},
   "source": [
    "# 0-D Array"
   ]
  },
  {
   "cell_type": "code",
   "execution_count": 11,
   "id": "1a4a9efe-171e-46fd-aaee-b0a172791ae1",
   "metadata": {},
   "outputs": [
    {
     "data": {
      "text/plain": [
       "array(23)"
      ]
     },
     "execution_count": 11,
     "metadata": {},
     "output_type": "execute_result"
    }
   ],
   "source": [
    "zero_d_arr = np.array(23)\n",
    "zero_d_arr"
   ]
  },
  {
   "cell_type": "code",
   "execution_count": 18,
   "id": "f2d78556-f2cc-41b9-ba73-3b80da01f29c",
   "metadata": {},
   "outputs": [
    {
     "data": {
      "text/plain": [
       "array([1, 1, 2, 2])"
      ]
     },
     "execution_count": 18,
     "metadata": {},
     "output_type": "execute_result"
    }
   ],
   "source": [
    "one_d_arr = np.array([1,1,2,2])\n",
    "one_d_arr"
   ]
  },
  {
   "cell_type": "code",
   "execution_count": 17,
   "id": "30f2dedd-2caf-45d7-ac84-a23447b367ea",
   "metadata": {},
   "outputs": [
    {
     "data": {
      "text/plain": [
       "array([[1, 1, 2, 2],\n",
       "       [2, 2, 2, 1]])"
      ]
     },
     "execution_count": 17,
     "metadata": {},
     "output_type": "execute_result"
    }
   ],
   "source": [
    "two_d_arr = np.array([[1,1,2,2], [2,2,2,1]])\n",
    "two_d_arr"
   ]
  },
  {
   "cell_type": "code",
   "execution_count": 16,
   "id": "7abd4f1f-4897-48fc-8d92-068cfbb59edf",
   "metadata": {},
   "outputs": [
    {
     "data": {
      "text/plain": [
       "array([[[1, 1, 2, 2],\n",
       "        [2, 2, 2, 1],\n",
       "        [3, 3, 2, 1]]])"
      ]
     },
     "execution_count": 16,
     "metadata": {},
     "output_type": "execute_result"
    }
   ],
   "source": [
    "three_d_arr = np.array([[[1,1,2,2], [2,2,2,1], [3,3,2,1]]])\n",
    "three_d_arr"
   ]
  },
  {
   "cell_type": "code",
   "execution_count": 23,
   "id": "13c31cce-e4d9-4e14-9ff2-b754d5181c20",
   "metadata": {},
   "outputs": [
    {
     "data": {
      "text/plain": [
       "0"
      ]
     },
     "execution_count": 23,
     "metadata": {},
     "output_type": "execute_result"
    }
   ],
   "source": [
    "zero_d_arr.ndim"
   ]
  },
  {
   "cell_type": "code",
   "execution_count": 27,
   "id": "5e385aac-27ac-4dc3-8fa2-700fe6c39a0b",
   "metadata": {},
   "outputs": [
    {
     "data": {
      "text/plain": [
       "5"
      ]
     },
     "execution_count": 27,
     "metadata": {},
     "output_type": "execute_result"
    }
   ],
   "source": [
    "arr = np.array([1,1,2,2], ndmin=5)\n",
    "arr.ndim"
   ]
  },
  {
   "cell_type": "code",
   "execution_count": 32,
   "id": "15209c36-1150-4783-a332-aa54a36875cd",
   "metadata": {},
   "outputs": [
    {
     "data": {
      "text/plain": [
       "array([], shape=(1, 1, 0), dtype=int32)"
      ]
     },
     "execution_count": 32,
     "metadata": {},
     "output_type": "execute_result"
    }
   ],
   "source": [
    "random.randint(np.array([],ndmin=3))"
   ]
  },
  {
   "cell_type": "code",
   "execution_count": null,
   "id": "d39089fa-858f-4b50-8b4a-3f8f7faf4d6c",
   "metadata": {},
   "outputs": [],
   "source": []
  }
 ],
 "metadata": {
  "kernelspec": {
   "display_name": "Python 3 (ipykernel)",
   "language": "python",
   "name": "python3"
  },
  "language_info": {
   "codemirror_mode": {
    "name": "ipython",
    "version": 3
   },
   "file_extension": ".py",
   "mimetype": "text/x-python",
   "name": "python",
   "nbconvert_exporter": "python",
   "pygments_lexer": "ipython3",
   "version": "3.11.7"
  }
 },
 "nbformat": 4,
 "nbformat_minor": 5
}
