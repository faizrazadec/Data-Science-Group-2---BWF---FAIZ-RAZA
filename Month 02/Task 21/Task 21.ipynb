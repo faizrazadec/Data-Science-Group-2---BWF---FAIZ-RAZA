{
 "cells": [
  {
   "cell_type": "markdown",
   "id": "b5b549bd-40d9-41cd-ab8a-ab70d077ca99",
   "metadata": {},
   "source": [
    "# Linear algebra and calculus in NumPy"
   ]
  },
  {
   "cell_type": "code",
   "execution_count": 402,
   "id": "8d397cec-d3ea-4993-9b6b-e9382a53c5ad",
   "metadata": {},
   "outputs": [],
   "source": [
    "import numpy as np\n",
    "import scipy as sp"
   ]
  },
  {
   "cell_type": "markdown",
   "id": "68d2b9c9-9f0b-4a49-90b3-c20e0bd3c5a7",
   "metadata": {},
   "source": [
    "## Linear Algebra Tasks\n",
    "### 1. Matrix Creation and Manipulation"
   ]
  },
  {
   "cell_type": "markdown",
   "id": "7703ae1a-3aa8-487c-b37b-5c912d301598",
   "metadata": {},
   "source": [
    "##### Creating the matrix with random function"
   ]
  },
  {
   "cell_type": "code",
   "execution_count": 189,
   "id": "da7b2f1a-a209-413e-9af3-c7645a7a00ca",
   "metadata": {},
   "outputs": [],
   "source": [
    "mat1 = np.random.randint(0,10,(3,3)) #random matrix\n",
    "mat2 = np.eye(3) #identity matrix\n",
    "mat3 = np.zeros((3,3)) # zeros matrix\n",
    "mat4 = np.ones((3,3)) # ones matrix"
   ]
  },
  {
   "cell_type": "markdown",
   "id": "0cba395f-d0b4-41b4-8521-16385caf58cc",
   "metadata": {},
   "source": [
    "#### Addition\r\n",
    "\r\n",
    "For matrix addition, we can use the `+` operator or the `add()` function. Both perform element-wise addition. The `+` operator is broadcasted, meaning if a scalar is added to a 3x3 matrix, NumPy will create a 3x3 matrix of the scalar value and then add the two matrice\r\n",
    "\r\n",
    "In NumPy, the `+` operator and the `np.add()` function both perform element-wise addition, with some differences:\r\n",
    "\r\n",
    "- The `+` operator allows for adding any number of matrices and supports broadcasting. This means if you add a scalar to a matrix, NumPy will automatically expand the scalar to match the shape of the matrix.\r\n",
    "\r\n",
    "- The `np.add()` function can add a maximum of three matrices simultaneously and does not support broadcasting for scalars or differently shaped arrays.\r\n",
    ".\r\n"
   ]
  },
  {
   "cell_type": "markdown",
   "id": "e6281c1c-6308-4b15-8c04-ab8d513ae74a",
   "metadata": {},
   "source": [
    "###### Using `+` \n",
    "It do element wise operation. with broadcasting"
   ]
  },
  {
   "cell_type": "code",
   "execution_count": 153,
   "id": "2fe1ecc4-ed40-4336-bcf7-a714ddbb9b71",
   "metadata": {},
   "outputs": [
    {
     "data": {
      "text/plain": [
       "array([[ 3., 10.,  8.],\n",
       "       [ 4.,  5.,  1.],\n",
       "       [ 6.,  5.,  6.]])"
      ]
     },
     "execution_count": 153,
     "metadata": {},
     "output_type": "execute_result"
    }
   ],
   "source": [
    "mat1 + mat2 + mat3 + mat4"
   ]
  },
  {
   "cell_type": "markdown",
   "id": "67c57edb-624e-4601-8aa3-d62592f73b3b",
   "metadata": {},
   "source": [
    "###### Using `add()`\r\n",
    "\r\n",
    "With the `+` operator, we can add any number of matrices without limitation. However, with the `add()` function, you can add a maximum of three matrices simultaneousl.\r\n"
   ]
  },
  {
   "cell_type": "code",
   "execution_count": 156,
   "id": "f0cf63d3-6c77-40d1-acdd-69f65ba5a85e",
   "metadata": {},
   "outputs": [
    {
     "data": {
      "text/plain": [
       "array([[2., 9., 7.],\n",
       "       [3., 4., 0.],\n",
       "       [5., 4., 5.]])"
      ]
     },
     "execution_count": 156,
     "metadata": {},
     "output_type": "execute_result"
    }
   ],
   "source": [
    "np.add(mat1 , mat2 , mat3)"
   ]
  },
  {
   "cell_type": "markdown",
   "id": "7b76075c-d4ca-477f-b983-4007d313fc16",
   "metadata": {},
   "source": [
    "#### Subtraction\n",
    "\n",
    "For matrix subtraction, we can use the `-` operator or the `subtract()` function. Both perform element-wise subtraction. The `-` operator is broadcasted, meaning if a scalar is subtracted to a 3x3 matrix, NumPy will create a 3x3 matrix of the scalar value and then add the two matrices.\r\n",
    "\r\n",
    "In NumPy, the `-` operator and the `np.subtract()` function both perform element-wise subtraction, but there are some differences:\r\n",
    "\r\n",
    "- The `-` operator allows for flexible usage and can be applied to multiple matrices, supporting broadcasting when the shapes differ.\r\n",
    "\r\n",
    "- The `np.subtract()` function requires that the arrays have the same shape; otherwise, it will raise an error.\r\n",
    ".\r\n"
   ]
  },
  {
   "cell_type": "markdown",
   "id": "779e9c96-9657-4f12-bd3a-fd8887061e09",
   "metadata": {},
   "source": [
    "###### Using `-` \n",
    "It do element wise operation. with broadcasting"
   ]
  },
  {
   "cell_type": "code",
   "execution_count": 160,
   "id": "72df29d2-3316-48a5-a0d4-7dd788b953dd",
   "metadata": {},
   "outputs": [
    {
     "data": {
      "text/plain": [
       "array([[-3., -1., -1.],\n",
       "       [-1., -3., -1.],\n",
       "       [-1., -1., -3.]])"
      ]
     },
     "execution_count": 160,
     "metadata": {},
     "output_type": "execute_result"
    }
   ],
   "source": [
    "mat1 - mat2 - mat3 - mat4"
   ]
  },
  {
   "cell_type": "markdown",
   "id": "9df9a846-bea1-43ea-b850-e6ce7b52b9de",
   "metadata": {},
   "source": [
    "###### Using `subtract()`\n",
    "\n",
    "With the `-` operator, we can subtraact any number of matrices without limitation. However, with the `subtract()` function, you can subtarct a maximum of three matrices simultaneously."
   ]
  },
  {
   "cell_type": "code",
   "execution_count": 163,
   "id": "862378f4-30c5-4653-b204-86070e268550",
   "metadata": {},
   "outputs": [
    {
     "data": {
      "text/plain": [
       "array([[0., 9., 7.],\n",
       "       [3., 2., 0.],\n",
       "       [5., 4., 3.]])"
      ]
     },
     "execution_count": 163,
     "metadata": {},
     "output_type": "execute_result"
    }
   ],
   "source": [
    "np.subtract(mat1 , mat2 , mat3)"
   ]
  },
  {
   "cell_type": "markdown",
   "id": "f294b43f-bbe1-4a68-a879-817276facdeb",
   "metadata": {},
   "source": [
    "#### Multiplication\n",
    "\n",
    "For matrix multiplication, we can use the `*` operator or the `Multiply()` function. Both perform element-wise muliplication. The `*` operator is broadcasted, meaning if a scalar is multuply to a 3x3 matrix, NumPy will create a 3x3 matrix of the scalar value and then multiply the two matrices.\r\n",
    "\r\n",
    "In NumPy, the `*` operator and the `np.multiply()` function both perform element-wise multiplication, but there is a subtle difference between them:\r\n",
    "\r\n",
    "- The `*` operator performs element-wise multiplication and broadcasts the arrays if they have different shapes. This means that if you have two arrays of different shapes, NumPy will automatically align them for multiplication.\r\n",
    "\r\n",
    "- In contrast, `np.multiply()` performs element-wise multiplication without broadcasting. This means that the arrays must have the same shape; otherwise, you will encounter an error.\r\n"
   ]
  },
  {
   "cell_type": "markdown",
   "id": "00b82407-050b-417b-8d69-8c6c57d4781b",
   "metadata": {},
   "source": [
    "###### Using `*` \n",
    "It do element wise operation. with broadcasting"
   ]
  },
  {
   "cell_type": "code",
   "execution_count": 167,
   "id": "6c052a33-e860-45a0-a051-b3ba5286b291",
   "metadata": {},
   "outputs": [
    {
     "data": {
      "text/plain": [
       "array([[ 0.,  0.,  0.],\n",
       "       [ 0.,  6.,  0.],\n",
       "       [ 0.,  0., 12.]])"
      ]
     },
     "execution_count": 167,
     "metadata": {},
     "output_type": "execute_result"
    }
   ],
   "source": [
    "mat1 * mat2 * mat3 * mat4"
   ]
  },
  {
   "cell_type": "markdown",
   "id": "d32312ca-1649-4b0f-b31d-e2c3e88dde2c",
   "metadata": {},
   "source": [
    "###### Using `Multiply()`\n",
    "\n",
    "With the `*` operator, we can multiply any number of matrices without limitation. However, with the `multiply()` function, you can multiply a maximum of three matrices simultaneously."
   ]
  },
  {
   "cell_type": "code",
   "execution_count": 170,
   "id": "30ac653f-b5fa-40c9-9504-097a85dfc3b5",
   "metadata": {},
   "outputs": [
    {
     "data": {
      "text/plain": [
       "array([[1., 0., 0.],\n",
       "       [0., 3., 0.],\n",
       "       [0., 0., 4.]])"
      ]
     },
     "execution_count": 170,
     "metadata": {},
     "output_type": "execute_result"
    }
   ],
   "source": [
    "np.multiply(mat1 , mat2 , mat3)"
   ]
  },
  {
   "cell_type": "markdown",
   "id": "29057242-ccd7-4eed-a6b0-1c566460a569",
   "metadata": {},
   "source": [
    "#### Division\n",
    "For matrix division, we can use the `/` operator or the `divide()` function. Both perform element-wise division. The `/` operator is broadcasted, meaning if a scalar is divided to a 3x3 matrix, NumPy will create a 3x3 matrix of the scalar value and then divide the two matrices.\n",
    "\n",
    "In NumPy, the `/` operator and the `np.divide()` function both perform element-wise division, but there are key differences:\n",
    "\n",
    "- The `/` operator supports broadcasting, allowing division between arrays of different shapes. NumPy automatically aligns the arrays for the operation.\n",
    "\n",
    "- The `np.divide()` function requires that the arrays have the same shape. If they do not, an error will be raised.\n"
   ]
  },
  {
   "cell_type": "markdown",
   "id": "838cead9-9073-44f4-b7db-e140f4a2a748",
   "metadata": {},
   "source": [
    "###### Using `/` \n",
    "It do element wise operation. with broadcasting"
   ]
  },
  {
   "cell_type": "code",
   "execution_count": 187,
   "id": "4731310c-6613-4e00-92da-85e4ef76ae6b",
   "metadata": {},
   "outputs": [
    {
     "name": "stderr",
     "output_type": "stream",
     "text": [
      "C:\\Users\\faizr\\AppData\\Local\\Temp\\ipykernel_8820\\2171388105.py:1: RuntimeWarning: divide by zero encountered in divide\n",
      "  mat1 / mat2 / mat4\n",
      "C:\\Users\\faizr\\AppData\\Local\\Temp\\ipykernel_8820\\2171388105.py:1: RuntimeWarning: invalid value encountered in divide\n",
      "  mat1 / mat2 / mat4\n"
     ]
    },
    {
     "data": {
      "text/plain": [
       "array([[ 1., inf, inf],\n",
       "       [inf,  3., nan],\n",
       "       [inf, inf,  4.]])"
      ]
     },
     "execution_count": 187,
     "metadata": {},
     "output_type": "execute_result"
    }
   ],
   "source": [
    "mat1 / mat2 / mat4"
   ]
  },
  {
   "cell_type": "markdown",
   "id": "de6ae848-ab44-40b5-a67a-02403ebfd327",
   "metadata": {},
   "source": [
    "###### Using `divide()`\n",
    "\n",
    "With the `/` operator, we can divide any number of matrices without limitation. However, with the `divide()` function, you can divide a maximum of two matrices simultaneously."
   ]
  },
  {
   "cell_type": "code",
   "execution_count": 185,
   "id": "6c34d28c-1b33-4a13-9253-9715da211f9e",
   "metadata": {},
   "outputs": [
    {
     "data": {
      "text/plain": [
       "array([[1., 9., 7.],\n",
       "       [3., 3., 0.],\n",
       "       [5., 4., 4.]])"
      ]
     },
     "execution_count": 185,
     "metadata": {},
     "output_type": "execute_result"
    }
   ],
   "source": [
    "np.divide(mat1 , mat4)"
   ]
  },
  {
   "cell_type": "markdown",
   "id": "8f0dae1c-16b1-43eb-bc72-a763b411d34c",
   "metadata": {},
   "source": [
    "- In all the above operation that we use, `+` is the python operation and `.add()` are the numpy operation."
   ]
  },
  {
   "cell_type": "markdown",
   "id": "a464ea93-d2a1-4644-a1f6-879d40b9e723",
   "metadata": {},
   "source": [
    "#### Transpose of the Matrix\r\n",
    "\r\n",
    "The transpose of a matrix converts its rows into columns and its columns into rows. This operation is commonly used in various mathematical and computational application\r\n",
    "\r\n",
    "In NumPy, both `.T` and `.transpose()` are used to calculate the transpose of a matrix, but there are subtle differences between them:\r\n",
    "\r\n",
    "- `.T` is a property of the array, making it faster and more efficient, as it returns a view of the original array with the axes reversed without creating a new array object.\r\n",
    "\r\n",
    "- `.transpose()`, on the other hand, is a function that creates a new array object. This can be slower and more memory-intensive, especially for large arays.\r\n",
    ".\r\n"
   ]
  },
  {
   "cell_type": "code",
   "execution_count": 204,
   "id": "8b20d8a5-8ac7-4230-8ab6-a297cbefed03",
   "metadata": {},
   "outputs": [
    {
     "data": {
      "text/plain": [
       "array([[3, 3, 5],\n",
       "       [0, 2, 7]])"
      ]
     },
     "execution_count": 204,
     "metadata": {},
     "output_type": "execute_result"
    }
   ],
   "source": [
    "mat1 = np.random.randint(0,10,(2,3)) #random matrix\n",
    "mat1"
   ]
  },
  {
   "cell_type": "markdown",
   "id": "5a4e4674-6bcb-4536-9b7c-510f5df77422",
   "metadata": {},
   "source": [
    "Using `.T`.\n",
    "- `.T` is a property of the array, making it faster and more efficient, as it returns a view of the original array with the axes reversed without creating a new array object."
   ]
  },
  {
   "cell_type": "code",
   "execution_count": 201,
   "id": "9813ff2e-c95a-4c78-8fe6-c3c08cc03e83",
   "metadata": {},
   "outputs": [
    {
     "data": {
      "text/plain": [
       "array([[0, 8],\n",
       "       [9, 3],\n",
       "       [1, 7]])"
      ]
     },
     "execution_count": 201,
     "metadata": {},
     "output_type": "execute_result"
    }
   ],
   "source": [
    "mat1.T"
   ]
  },
  {
   "cell_type": "markdown",
   "id": "d0c6c3a6-ec98-4edf-9395-20d41c892948",
   "metadata": {},
   "source": [
    "#### using `trandposr()`\n",
    "- `.transpose()`, on the other hand, is a function that creates a new array object. This can be slower and more memory-intensive, especially for large arrays."
   ]
  },
  {
   "cell_type": "code",
   "execution_count": 209,
   "id": "1c9ab8dd-8b07-4d5d-abfa-afe0ec72d0d7",
   "metadata": {},
   "outputs": [
    {
     "data": {
      "text/plain": [
       "array([[3, 0],\n",
       "       [3, 2],\n",
       "       [5, 7]])"
      ]
     },
     "execution_count": 209,
     "metadata": {},
     "output_type": "execute_result"
    }
   ],
   "source": [
    "np.transpose(mat1)"
   ]
  },
  {
   "cell_type": "markdown",
   "id": "25a838e3-9dea-4ab2-8820-8df3ab5b2867",
   "metadata": {},
   "source": [
    "#### Determinent\n",
    "- In NumPy, det is a function in the numpy.linalg module that calculates the determinant of a square matrix.\n",
    "\n",
    "### \r\n",
    "`numpy.linalg` is a module in NumPy that provides functions for linear algebra operations. Here are some of the key functions in `numpy.linalg`:\r\n",
    "\r\n",
    "- **`det`**: Calculates the determinant of a square matrix.\r\n",
    "- **`inv`**: Calculates the inverse of a square matrix.\r\n",
    "- **`solve`**: Solves a system of linear scalar equations.\r\n",
    "- **`eig`**: Calculates the eigenvalues and eigenvectors of a square matrix.\r\n",
    "- **`eigvals`**: Calculates the eigenvalues of a square matrix.\r\n",
    "- **`svd`**: Calculates the singular value decomposition (SVD) of a matrix.\r\n",
    "- **`qr`**: Calculates the QR decomposition of a matrix.\r\n",
    "- **`matrix_rank`**: Calculates the rank of a matrix.\r\n",
    "\r\n",
    "These functions are essential for various linear algebra operations, such as solving systems of equations, finding eigenvalues and eigenvectors, and performing decomposition techniques like SVD and QR.\r\n"
   ]
  },
  {
   "cell_type": "code",
   "execution_count": 218,
   "id": "77ba9646-fa61-49cf-b6a7-ff87a2bbe5d1",
   "metadata": {},
   "outputs": [
    {
     "data": {
      "text/plain": [
       "79.99999999999997"
      ]
     },
     "execution_count": 218,
     "metadata": {},
     "output_type": "execute_result"
    }
   ],
   "source": [
    "mat1 = np.random.randint(0,10,(3,3)) #random matrix\n",
    "mat1\n",
    "np.linalg.det(mat1)"
   ]
  },
  {
   "cell_type": "markdown",
   "id": "cf35a81b-cedc-420e-b1d1-24f379432114",
   "metadata": {},
   "source": [
    "#### Inverse of a Matrix\n",
    "\n",
    "The inverse of a matrix \\( A \\) is denoted as \\( A^{-1} \\) and is defined such that when multiplied by the original matrix, it yields the identity matrix: \n",
    "\n",
    "\\[ A \\cdot A^{-1} = I \\]\n",
    "\n",
    "In NumPy, you can compute the inverse of a square matrix using the `numpy.linalg.inv()` function. It's important to note that only square matrices that are non-singular (i.e., have a non-zero determinant) have an inverse.\n"
   ]
  },
  {
   "cell_type": "code",
   "execution_count": 220,
   "id": "91b98213-3d99-4d60-8ad6-8a73701b8d50",
   "metadata": {},
   "outputs": [
    {
     "data": {
      "text/plain": [
       "array([[-0.27142857,  0.22857143, -0.08571429],\n",
       "       [-0.1       ,  0.4       , -0.4       ],\n",
       "       [ 0.4       , -0.6       ,  0.6       ]])"
      ]
     },
     "execution_count": 220,
     "metadata": {},
     "output_type": "execute_result"
    }
   ],
   "source": [
    "mat1 = np.random.randint(0,10,(3,3)) #random matrix\n",
    "mat1\n",
    "np.linalg.inv(mat1)"
   ]
  },
  {
   "cell_type": "markdown",
   "id": "107dc9af-7fd5-4e71-a45b-171a8d9d868d",
   "metadata": {},
   "source": [
    "### 2. Solving Linear Equations\r\n",
    "\r\n",
    "#### System of Linear Equations\r\n",
    "\r\n",
    "Let's solm of linear equations using NumPy. The linear equation is:\r\n",
    "\r\n",
    "$$ y = mx + c $$\r\n",
    "\r\n",
    "This equation represents a simple regression model or a line equation, where:\r\n",
    "\r\n",
    "- \\( y \\) (or \\( \\hat{y} \\)) is the output, also called the predicted value.\r\n",
    "- \\( m \\) is the slope, referred to as the weight in machine learning.\r\n",
    "- \\( x \\) is the input.\r\n",
    "- \\( c \\) is the line intercept, called the bias in machine learning. It is simply a constant.\r\n",
    "\n"
   ]
  },
  {
   "cell_type": "code",
   "execution_count": 316,
   "id": "b4a4b0c5-bae4-43a4-974d-d9f774abbe17",
   "metadata": {},
   "outputs": [
    {
     "data": {
      "text/plain": [
       "array([[123, 233, 343]])"
      ]
     },
     "execution_count": 316,
     "metadata": {},
     "output_type": "execute_result"
    }
   ],
   "source": [
    "x = np.array([[12, 23,34]])\n",
    "m = 10\n",
    "c = 3\n",
    "# the above the variables is defined of the equation\n",
    "\n",
    "yhat = m * x +c\n",
    "yhat"
   ]
  },
  {
   "cell_type": "markdown",
   "id": "65672ab1-0c78-4639-928a-bf4f89bb2ca3",
   "metadata": {},
   "source": [
    "### Let's try system of linear equationns\r\n",
    "\r\n",
    "Let's solve a system of linear equations using NumPy. Consider the following equations:\r\n",
    "\r\n",
    "Equation 1: \r\n",
    "\r\n",
    "$$ 2x + 3y = 7 $$\r\n",
    "\r\n",
    "Equation 2:\r\n",
    "\r\n",
    "$$ x - 2y = -3 $$\r\n",
    "\r\n",
    "This system of equations can be represented in matrix form as:\r\n",
    "\r\n",
    "\\[ \r\n",
    "\\begin{cases} \r\n",
    "2x + 3y = 7 \\\\\r\n",
    "x - 2y = -3 \r\n",
    "\\end{cases}\r\n",
    "\\]\r\n",
    "\r\n",
    "where we can solve for \\( x \\) ad \\( y \\) using NumPy.\r\n"
   ]
  },
  {
   "cell_type": "markdown",
   "id": "96192160-76ef-4ec3-bca1-d6e06f3185f8",
   "metadata": {},
   "source": [
    "- Initializing of the matrixs of the system of equations"
   ]
  },
  {
   "cell_type": "code",
   "execution_count": 323,
   "id": "d412df53-5eec-44e4-bc0f-7b06752bd738",
   "metadata": {},
   "outputs": [
    {
     "name": "stdout",
     "output_type": "stream",
     "text": [
      "the actual matrix:\n",
      "[[ 2  3]\n",
      " [ 1 -2]],\n",
      " and:\n",
      "[[ 7]\n",
      " [-3]]\n"
     ]
    }
   ],
   "source": [
    "mat = np.array([[2, 3],\n",
    "                [1, -2]])\n",
    "mat2 = np.array([[7],\n",
    "                 [-3]])\n",
    "print(f\"the actual matrix:\\n{mat},\\n and:\\n{mat2}\")"
   ]
  },
  {
   "cell_type": "markdown",
   "id": "493e1b06-3e75-4305-a027-2ae1bc136ce0",
   "metadata": {},
   "source": [
    "### \r\n",
    "\r\n",
    "Let's solve a system of linear equations using NumPy. Consider the following equations:\r\n",
    "\r\n",
    "Equation 1: \r\n",
    "\r\n",
    "$$ 2x + 3y = 7 $$\r\n",
    "\r\n",
    "Equation 2:\r\n",
    "\r\n",
    "$$ x - 2y = -3 $$\r\n",
    "\r\n",
    "This system of equations can be represented in matrix form as:\r\n",
    "\r\n",
    "\\[ \r\n",
    "\\begin{cases} \r\n",
    "2x + 3y = 7 \\\\\r\n",
    "x - 2y = -3 \r\n",
    "\\end{cases}\r\n",
    "\\]\r\n",
    "\r\n",
    "where we can solve for \\( x \\) and \\( y \\) using Cramer's Rule.\r\n",
    "\r\n",
    "#### Cramer's Rule\r\n",
    "\r\n",
    "Cramer's Rule states that for a system of linear equations \\( Ax = B \\), where \\( A \\) is the coefficient matrix and \\( B \\) is the constant matrix, the solution for each variable can be found using determinants.\r\n",
    "\r\n",
    "1. **Coefficient Matrix (A)** and **Constant Matrix (B)**:\r\n",
    "   \\[\r\n",
    "   A = \\begin{pmatrix}\r\n",
    "   2 & 3 \\\\\r\n",
    "   1 & -2\r\n",
    "   \\end{pmatrix}\r\n",
    "   \\]\r\n",
    "   \\[\r\n",
    "   B = \\begin{pmatrix}\r\n",
    "   7 \\\\\r\n",
    "   -3\r\n",
    "   \\end{pmatrix}\r\n",
    "   \\]\r\n",
    "\r\n",
    "2. **Determinant of A (\\(\\Delta\\))**:\r\n",
    "   \\[\r\n",
    "   \\Delta = \\text{det}(A) = \\begin{vmatrix}\r\n",
    "   2 & 3 \\\\\r\n",
    "   1 & -2\r\n",
    "   \\end{vmatrix} = (2 \\cdot -2) - (3 \\cdot 1) = -4 - 3 = -7\r\n",
    "   \\]\r\n",
    "\r\n",
    "3. **Determinant of A with B replacing the first column (\\(\\Delta_x\\))**:\r\n",
    "   \\[\r\n",
    "   \\Delta_x = \\text{det}(A_x) = \\begin{vmatrix}\r\n",
    "   7 & 3 \\\\\r\n",
    "   -3 & -2\r\n",
    "   \\end{vmatrix} = (7 \\cdot -2) - (3 \\cdot -3) = -14 + 9 = -5\r\n",
    "   \\]\r\n",
    "\r\n",
    "4. **Determinant of A with B replacing the second column (\\(\\Delta_y\\))**:\r\n",
    "   \\[\r\n",
    "   \\Delta_y = \\text{det}(A_y) = \\begin{vmatrix}\r\n",
    "   2 & 7 \\\\\r\n",
    "   1 & -3\r\n",
    "   \\end{vmatrix} = (2 \\cdot -3) - (7 \\cdot 1) = -6 - 7 = -13\r\n",
    "   \\]\r\n",
    "\r\n",
    "5. **Solutions for \\( x \\) and \\( y \\)**:\r\n",
    "   \\[\r\n",
    "   x = \\frac{\\Delta_x}{\\Delta} = \\frac{-5}{-7} = \\frac{5}{7}\r\n",
    "   \\]\r\n",
    "   \\[\r\n",
    "   y = \\frac{\\Delta_y}{\\Delta} = \\frac{-13}{-7} = \\frac{13}{7}\r\n",
    "   \\]\r\n",
    "\r\n",
    "Therefore, the solution t the system of equations is:\r\n",
    "\\[\r\n",
    "x = \\frac{5}{7}, \\quad y = \\frac{13}{7}\r\n",
    "\\]\r\n"
   ]
  },
  {
   "cell_type": "markdown",
   "id": "97a0babc-6d9b-4394-b3fd-9710a3ce816a",
   "metadata": {},
   "source": [
    "- creating the matrixes for the solution"
   ]
  },
  {
   "cell_type": "code",
   "execution_count": 375,
   "id": "846964c8-b9ea-48bc-a009-540a37e83c27",
   "metadata": {},
   "outputs": [],
   "source": [
    "mat_x = np.concatenate((mat2, mat[:, 1].reshape(2,1)), axis=1)\n",
    "mat_y = np.concatenate((mat[:, 0].reshape(2,1), mat2), axis=1)"
   ]
  },
  {
   "cell_type": "markdown",
   "id": "f481ce23-fa44-476c-b3be-18ad3967ae2f",
   "metadata": {},
   "source": [
    "- Finding the determinants to find the value of `x` and `y`"
   ]
  },
  {
   "cell_type": "code",
   "execution_count": 383,
   "id": "52b5422c-8aa0-4cb7-859b-dd8b23b809cf",
   "metadata": {},
   "outputs": [],
   "source": [
    "mat_det = np.linalg.det(mat)\n",
    "mat_det_x = np.linalg.det(mat_x)\n",
    "mat_det_y = np.linalg.det(mat_y)"
   ]
  },
  {
   "cell_type": "markdown",
   "id": "441f5cd7-8e0f-453e-ad53-20efadb9df83",
   "metadata": {},
   "source": [
    "- calculating `x` and `y`"
   ]
  },
  {
   "cell_type": "code",
   "execution_count": 393,
   "id": "c61c38f4-179a-4453-a411-cfc13eec65c7",
   "metadata": {},
   "outputs": [
    {
     "name": "stdout",
     "output_type": "stream",
     "text": [
      "The value of x: 0.71 and y: 1.86\n"
     ]
    }
   ],
   "source": [
    "x = mat_det_x / mat_det\n",
    "y = mat_det_y / mat_det\n",
    "print(f\"The value of x: {x:.2f} and y: {y:.2f}\")"
   ]
  },
  {
   "cell_type": "markdown",
   "id": "f1e9c7dc-3189-409f-a2cb-f480a2e47650",
   "metadata": {},
   "source": [
    "### Matrix factorization methods (LU decomposition, QR decomposition)"
   ]
  },
  {
   "cell_type": "markdown",
   "id": "1b549176-d238-4d47-8c01-07d3585f54a2",
   "metadata": {},
   "source": [
    "## LU Decomposition\r\n",
    "\r\n",
    "LU decomposition factors a matrix \\( A \\) into the product of a lower triangular matrix \\( L \\) and an upper triangular matrix \\( U \\):\r\n",
    "\r\n",
    "\\[ A = LU \\]\r\n",
    "\r\n",
    "where:\r\n",
    "- \\( L \\) is a lower triangular matrix (all elements above the diagonal are zero).\r\n",
    "- \\( U \\) is an upper triangular matrix (all elements below the diagonal are zero).\r\n",
    "\r\n",
    "### Finding the LU Decomposition using the `scipy` Library\r\n",
    "\r\n",
    "In Python, you can use the `scipy` library to perform LU decomposition. The function `scipy.linalg.lu` returns the permutation matrix \\( P \\), the lower triangular matrix \\( L \\), and the upper triangular mat(\"L:\\n\", L)\r\n",
    "print(\"U:\\n\", U)\r\n"
   ]
  },
  {
   "cell_type": "markdown",
   "id": "40b04620-44b3-436b-b36d-0489101e97d9",
   "metadata": {},
   "source": [
    "- Define a matrix of 4x4"
   ]
  },
  {
   "cell_type": "code",
   "execution_count": 418,
   "id": "f3af2533-9783-4883-8c68-bbcd7befc135",
   "metadata": {},
   "outputs": [
    {
     "data": {
      "text/plain": [
       "array([[13,  9, 18,  0],\n",
       "       [ 2, 19, 15,  9],\n",
       "       [17, 14, 15, 13],\n",
       "       [19,  4, 17, 14]])"
      ]
     },
     "execution_count": 418,
     "metadata": {},
     "output_type": "execute_result"
    }
   ],
   "source": [
    "mat = np.random.randint(0,20, (4,4))\n",
    "mat"
   ]
  },
  {
   "cell_type": "markdown",
   "id": "3d7cb064-2bf7-4a20-9436-ce592cd63ae1",
   "metadata": {},
   "source": [
    "- Finding the LU decomposition using the scipy library"
   ]
  },
  {
   "cell_type": "markdown",
   "id": "837402c9-f692-4f6a-8c50-c4f160141b7a",
   "metadata": {},
   "source": [
    "- During LU decomposition, rows are swapped to ensure that the pivot element (the element on the diagonal) is the largest in its column. This is done to avoid dividing by small numbers and to reduce round-off errors.\n",
    "The permutation matrix P represents these row swaps. When you multiply P with the original matrix A, the rows of A are rearranged according to the swaps performed during LU decomposition."
   ]
  },
  {
   "cell_type": "code",
   "execution_count": 436,
   "id": "5389c200-6810-4330-8382-fda0cd8b8cb1",
   "metadata": {},
   "outputs": [
    {
     "name": "stdout",
     "output_type": "stream",
     "text": [
      "Permutation matrix:\n",
      "[[1. 0. 0. 0. 0.]\n",
      " [0. 0. 0. 1. 0.]\n",
      " [0. 0. 1. 0. 0.]\n",
      " [0. 0. 0. 0. 1.]\n",
      " [0. 1. 0. 0. 0.]]\n",
      "\n",
      "Lower Triangular Matrix:\n",
      "[[ 1.          0.          0.          0.        ]\n",
      " [ 0.21052632  1.          0.          0.        ]\n",
      " [ 0.73684211  0.91794872  1.          0.        ]\n",
      " [ 0.89473684  0.62051282 -0.7703765   1.        ]\n",
      " [ 0.89473684  0.62051282 -0.20562681  0.43662153]]\n",
      "\n",
      " Upper Triangular Matrix:\n",
      "[[ 19.          13.           1.          13.        ]\n",
      " [  0.          10.26315789  13.78947368   6.26315789]\n",
      " [  0.           0.         -12.39487179 -13.32820513]\n",
      " [  0.           0.           0.         -25.78568473]]\n"
     ]
    }
   ],
   "source": [
    "P, L, U = sp.linalg.lu(mat)\n",
    "print(f\"Permutation matrix:\\n{P}\\n\\nLower Triangular Matrix:\\n{L}\\n\\n Upper Triangular Matrix:\\n{U}\")"
   ]
  },
  {
   "cell_type": "markdown",
   "id": "7660cf43-8800-4634-b6cd-5445cd8249d9",
   "metadata": {},
   "source": [
    "### Another example"
   ]
  },
  {
   "cell_type": "code",
   "execution_count": 434,
   "id": "60d0d004-4c6e-405d-b116-e5f65f87c8ff",
   "metadata": {},
   "outputs": [
    {
     "name": "stdout",
     "output_type": "stream",
     "text": [
      "Permutation matrix:\n",
      "[[1. 0. 0. 0. 0.]\n",
      " [0. 0. 0. 1. 0.]\n",
      " [0. 0. 1. 0. 0.]\n",
      " [0. 0. 0. 0. 1.]\n",
      " [0. 1. 0. 0. 0.]]\n",
      "\n",
      "Lower Triangular Matrix:\n",
      "[[ 1.          0.          0.          0.        ]\n",
      " [ 0.21052632  1.          0.          0.        ]\n",
      " [ 0.73684211  0.91794872  1.          0.        ]\n",
      " [ 0.89473684  0.62051282 -0.7703765   1.        ]\n",
      " [ 0.89473684  0.62051282 -0.20562681  0.43662153]]\n",
      "\n",
      " Upper Triangular Matrix:\n",
      "[[ 19.          13.           1.          13.        ]\n",
      " [  0.          10.26315789  13.78947368   6.26315789]\n",
      " [  0.           0.         -12.39487179 -13.32820513]\n",
      " [  0.           0.           0.         -25.78568473]]\n"
     ]
    }
   ],
   "source": [
    "mat = np.random.randint(0,20, (5,4))\n",
    "P, L, U = sp.linalg.lu(mat)\n",
    "print(f\"Permutation matrix:\\n{P}\\n\\nLower Triangular Matrix:\\n{L}\\n\\n Upper Triangular Matrix:\\n{U}\")"
   ]
  },
  {
   "cell_type": "markdown",
   "id": "e9ce2d5d-55f9-4f9e-accc-ad1efb503d90",
   "metadata": {},
   "source": [
    "## QR Decomposition\r\n",
    "\r\n",
    "QR decomposition is another fundamental factorization technique in linear algebra. It expresses a matrix \\( A \\) as the product of two matrices: \\( Q \\) and \\( R \\).\r\n",
    "\r\n",
    "### QR Decomposition Overview\r\n",
    "\r\n",
    "- **\\( Q \\) (Orthogonal matrix)**:\r\n",
    "  - Has the same number of rows and columns as \\( A \\).\r\n",
    "  - Columns are orthonormal vectors (perpendicular and have length 1).\r\n",
    "  - \\( Q^T = Q^{-1} \\) (its inverse is its transpose).\r\n",
    "\r\n",
    "- **\\( R \\) (Upper triangular matrix)**:\r\n",
    "  - Has the same number of rows and columns as \\( A \\).\r\n",
    "  - All elements below the diagonal are zero.\r\n",
    "  - Diagonal elements are non-zero (unless \\( A \\) is singular).\r\n",
    "\r\n",
    "The QR decomposition is written as:\r\n",
    "\\[ A = QR \\]\r\n",
    "\r\n",
    "### Applications of QR Decomposition\r\n",
    "\r\n",
    "- **Least Squares Problems**: QR decomposition can be used to solve least squares problems, such as finding the best-fit line or plane to a set of data points.\r\n",
    "- **Linear Regression**: In linear regression, QR decomposition is used to compute the coefficients of the regression line.\r\n",
    "- **Eigenvalue Decomposition**: QR decomposition is used as an intermediate step in some eigenvalue decomposition algorithms.\r\n",
    "- **Stable Solutions**: QR decomposition can be used to find stable solutions to systems of linear equations.\r\n",
    "\r\n",
    "### Finding the QR Decomposition using the `numpy` Library\r\n",
    "\r\n",
    "In Python, you can use the `numpy` library to perform QR decomposition. The function `numpy.linalg.qr` returns the orthogonal matrix \\( Q \\) and the upperesults\r\n",
    "print(\"Q:\\n\", Q)\r\n",
    "print(\"R:\\n\", R)\r\n"
   ]
  },
  {
   "cell_type": "code",
   "execution_count": 439,
   "id": "f3b2fb10-3bb8-482d-b10b-e93ca0cc13be",
   "metadata": {},
   "outputs": [
    {
     "name": "stdout",
     "output_type": "stream",
     "text": [
      "Orthogonal matrix:\n",
      "[[-0.45658412  0.40888512  0.36673345 -0.69989319]\n",
      " [-0.62780316 -0.28071808 -0.71446996 -0.1288147 ]\n",
      " [-0.05707301  0.86311236 -0.35322485  0.35638733]\n",
      " [-0.62780316 -0.09511768  0.47986608  0.60542908]]\n",
      "\n",
      "Upper Triangular Matrix:\n",
      "[[-17.52141547 -18.37751069 -15.23849489 -17.97799958]\n",
      " [  0.          16.16375888  10.39080072  18.04092246]\n",
      " [  0.           0.          -3.289306   -12.64178983]\n",
      " [  0.           0.           0.          -5.78807374]]\n"
     ]
    }
   ],
   "source": [
    "mat = np.random.randint(0,20, (4,4))\n",
    "Q, R = sp.linalg.qr(mat)\n",
    "print(f\"Orthogonal matrix:\\n{Q}\\n\\nUpper Triangular Matrix:\\n{R}\")"
   ]
  },
  {
   "cell_type": "markdown",
   "id": "a038d6ea-06b2-41e1-a91e-37b07f0d34f8",
   "metadata": {},
   "source": [
    "#### Let's verify it"
   ]
  },
  {
   "cell_type": "code",
   "execution_count": 455,
   "id": "753dbbc9-5864-4bbb-a3f7-097bbbc058d7",
   "metadata": {},
   "outputs": [
    {
     "name": "stdout",
     "output_type": "stream",
     "text": [
      "Verification Completed, Successfull!\n"
     ]
    }
   ],
   "source": [
    "QT = Q.T\n",
    "Qinv = np.linalg.inv(Q)\n",
    "if np.allclose(QT, Qinv):\n",
    "    print(\"Verification Completed, Successfull!\")\n",
    "else:\n",
    "    print(\"ERROR!!\")"
   ]
  },
  {
   "cell_type": "markdown",
   "id": "f607764a-62b2-4826-aece-5a2948921da7",
   "metadata": {},
   "source": [
    "### Another Example"
   ]
  },
  {
   "cell_type": "code",
   "execution_count": 465,
   "id": "cacf7d1b-2fd0-4273-948a-d60e8deef502",
   "metadata": {},
   "outputs": [
    {
     "name": "stdout",
     "output_type": "stream",
     "text": [
      "Orthogonal matrix:\n",
      "[[-0.67075489  0.49691259  0.54750743  0.05832118]\n",
      " [-0.25153308 -0.7492615   0.31595586  0.52489066]\n",
      " [-0.37729963 -0.43650993  0.02091434 -0.81649658]\n",
      " [-0.58691053  0.03382549 -0.77457737  0.23328474]]\n",
      "\n",
      "Upper Triangular Matrix:\n",
      "[[-23.85372088 -23.47642126 -24.18909833 -19.6615028  -24.23102051]\n",
      " [  0.           6.54657506 -18.31086654  -2.99113997  -0.74201318]\n",
      " [  0.           0.          -5.70961368   8.64583704  -1.80162064]\n",
      " [  0.           0.           0.           9.6813166    1.74963553]]\n",
      "\n",
      "Verification Completed, Successfull!\n"
     ]
    }
   ],
   "source": [
    "mat = np.random.randint(0,20, (4,5))\n",
    "Q, R = sp.linalg.qr(mat)\n",
    "print(f\"Orthogonal matrix:\\n{Q}\\n\\nUpper Triangular Matrix:\\n{R}\\n\")\n",
    "\n",
    "QT = Q.T\n",
    "Qinv = np.linalg.inv(Q)\n",
    "if np.allclose(QT, Qinv):\n",
    "    print(\"Verification Completed, Successfull!\")\n",
    "else:\n",
    "    print(\"ERROR!!\")"
   ]
  },
  {
   "cell_type": "markdown",
   "id": "612635c4-39af-450d-95df-c4d415a21471",
   "metadata": {},
   "source": [
    "### 3. Eigenvalues and Eigenvectors\r\n",
    "\r\n",
    "Eigenvalues and eigenvectors are fundamental concepts in linear algebra with numerous applications in various fields such as physics, engineering, and computer science.\r\n",
    "\r\n",
    "### Definitions\r\n",
    "\r\n",
    "- **Eigenvalues (\\(\\lambda\\))**: Scalars that indicate how much the eigenvector is stretched or shrunk during a linear transformation.\r\n",
    "- **Eigenvectors (\\(v\\))**: Non-zero vectors that only change by a scalar factor during a linear transformation.\r\n",
    "\r\n",
    "For a given square matrix \\( A \\), the eigenvalue equation is:\r\n",
    "\r\n",
    "\\[ A v = \\lambda v \\]\r\n",
    "\r\n",
    "where:\r\n",
    "- \\( A \\) is the matrix.\r\n",
    "- \\( v \\) is the eigenvector.\r\n",
    "- \\( \\lambda \\) is the eigenvalue.\r\n",
    "\r\n",
    "### Finding Eigenvalues and Eigenvectors using the `numpy` Library\r\n",
    "\r\n",
    "In Python, you can use the `numpy` library to compute the eigenvalues and eigenvectors of a matrix. The function `numpy.linalg.eig` returns a tuple containing an array of eigenvalues and a matrix with the corresponding eiget(\"Eigenvectors:\\n\", eigenvectors)\r\n"
   ]
  },
  {
   "cell_type": "markdown",
   "id": "bb637b69-51dd-453e-90a5-75756f55ec82",
   "metadata": {},
   "source": [
    "- Create a matrix to find eigen value and eigan matrix"
   ]
  },
  {
   "cell_type": "code",
   "execution_count": 591,
   "id": "b79d21e4-1239-4aef-a6d8-56c6e286856d",
   "metadata": {},
   "outputs": [
    {
     "data": {
      "text/plain": [
       "array([[2, 1],\n",
       "       [1, 1]])"
      ]
     },
     "execution_count": 591,
     "metadata": {},
     "output_type": "execute_result"
    }
   ],
   "source": [
    "mat = np.array([[2,1],\n",
    "              [1,1]])\n",
    "mat"
   ]
  },
  {
   "cell_type": "markdown",
   "id": "35656381-84a5-4642-97f3-8e0febe23f02",
   "metadata": {},
   "source": [
    "- Find eigan values and eigan vectors"
   ]
  },
  {
   "cell_type": "code",
   "execution_count": 594,
   "id": "4c37d0e4-6382-4702-88db-8b1b3c77fceb",
   "metadata": {},
   "outputs": [
    {
     "name": "stdout",
     "output_type": "stream",
     "text": [
      "Eigen Value:\n",
      "[2.61803399 0.38196601]\n",
      "\n",
      "Eigen Vector:\n",
      "[[ 0.85065081 -0.52573111]\n",
      " [ 0.52573111  0.85065081]]\n"
     ]
    }
   ],
   "source": [
    "eva, eve = np.linalg.eig(mat)\n",
    "print(f\"Eigen Value:\\n{eva}\\n\\nEigen Vector:\\n{eve}\")"
   ]
  },
  {
   "cell_type": "markdown",
   "id": "b804e81c-380a-40f6-a4d2-2c9c027578bf",
   "metadata": {},
   "source": [
    "#### \r\n",
    "Eigenvectors are special vectors that, when multiplied by their corresponding matrix \\( A \\), yield the same vector scaled by a factor known as the eigenvalue. This relationship can be expressed as:\r\n",
    "\r\n",
    "\\[ A v = \\lambda v \\]\r\n",
    "\r\n",
    "where:\r\n",
    "\r\n",
    "- \\( A \\) is the matrix,\r\n",
    "- \\( v \\) is the eigenvector,\r\n",
    "- \\( \\lambda \\) is the eigenvalue (a scalar).\r\n",
    "\r\n",
    "In simpler terms, multiplying an eigenvector by the matrix results in the eigenvector being stretched or shrunk by the eigenvalue, without changing it direction.\r\n"
   ]
  },
  {
   "cell_type": "markdown",
   "id": "729117c6-b452-4829-882c-fccfab2c1e7b",
   "metadata": {},
   "source": [
    "#### Let's verify it by reconstructing the original vector\n",
    "### Reconstructing the Original Matrix from Eigenvalues and Eigenvectors\r\n",
    "\r\n",
    "To reconstruct the original matrix \\( A \\) from its eigenvalues and eigenvectors, you can use the following formula:\r\n",
    "\r\n",
    "\\[ A = U \\Lambda U^{-1} \\]\r\n",
    "\r\n",
    "where:\r\n",
    "- \\( A \\) is the original matrix,\r\n",
    "- \\( U \\) is the matrix of eigenvectors (each column is an eigenvector),\r\n",
    "- \\( \\Lambda \\) is the diagonal matrix of eigenvalues,\r\n",
    "- \\( U^{-1} \\) is the inverse of the matrix \\( U \\).\r\n",
    "\r\n",
    "This formula is based on the eigendecomposition of a matrix, which states that a matrix can be represented as the product of its eigenvectors, eigenvalues, and the inverse of its egenvectors.\r\n"
   ]
  },
  {
   "cell_type": "code",
   "execution_count": 598,
   "id": "c853186d-5a58-4163-bd3e-6320de08950e",
   "metadata": {},
   "outputs": [
    {
     "name": "stdout",
     "output_type": "stream",
     "text": [
      "Verified\n"
     ]
    }
   ],
   "source": [
    "mat_recons = np.dot(eve, np.dot(np.diag(eva), eve.T))\n",
    "if np.allclose(mat, mat_recons):\n",
    "    print(\"Verified\")\n",
    "else:\n",
    "    print(\"ERROR\")"
   ]
  },
  {
   "cell_type": "markdown",
   "id": "7f9669e0-0d9c-4b72-bcf6-16029cb76e97",
   "metadata": {},
   "source": [
    "### Another Example"
   ]
  },
  {
   "cell_type": "code",
   "execution_count": 617,
   "id": "2cce495e-74fb-4628-b8aa-3ca08f96edf8",
   "metadata": {},
   "outputs": [
    {
     "name": "stdout",
     "output_type": "stream",
     "text": [
      "Eigen Value:\n",
      "[4.86619826 1.78924412 0.34455762]\n",
      "\n",
      "Eigen Vector:\n",
      "[[-0.41088775 -0.78579651 -0.46227167]\n",
      " [-0.85123513  0.51222983 -0.11410244]\n",
      " [-0.32645063 -0.34661859  0.87936655]]\n",
      "\n",
      "Verified\n"
     ]
    }
   ],
   "source": [
    "mat = np.array([[2,1,1],\n",
    "              [1,4,1],\n",
    "               [1,1,1]])\n",
    "eva, eve = np.linalg.eig(mat)\n",
    "print(f\"Eigen Value:\\n{eva}\\n\\nEigen Vector:\\n{eve}\\n\")\n",
    "mat_recons = np.dot(eve, np.dot(np.diag(eva), eve.T))\n",
    "if np.allclose(mat, mat_recons):\n",
    "    print(\"Verified\")\n",
    "else:\n",
    "    print(\"ERROR\")"
   ]
  },
  {
   "cell_type": "markdown",
   "id": "6b3575d7-7543-487d-818f-508d4664a4ae",
   "metadata": {},
   "source": [
    "### 4. Vector Operations\n",
    "\n",
    "Vector operations are fundamental in linear algebra and are widely used in various fields such as physics, engineering, and machine learning. Below are some common vector operations:\n",
    "\n",
    "### 1. Vector Addition\n",
    "\n",
    "Two vectors can be added together by adding their corresponding components:\n",
    "\n",
    "\\[ \\mathbf{u} + \\mathbf{v} = \\begin{pmatrix} u_1 + v_1 \\\\ u_2 + v_2 \\\\ \\vdots \\\\ u_n + v_n \\end{pmatrix} \\]\n",
    "\n",
    "### 2. Vector Subtraction\n",
    "\n",
    "Similar to addition, vectors can be subtracted by subtracting their corresponding components:\n",
    "\n",
    "\\[ \\mathbf{u} - \\mathbf{v} = \\begin{pmatrix} u_1 - v_1 \\\\ u_2 - v_2 \\\\ \\vdots \\\\ u_n - v_n \\end{pmatrix} \\]\n",
    "\n",
    "### 3. Scalar Multiplication\n",
    "\n",
    "A vector can be multiplied by a scalar, which scales each component of the vector:\n",
    "\n",
    "\\[ c \\cdot \\mathbf{v} = \\begin{pmatrix} c \\cdot v_1 \\\\ c \\cdot v_2 \\\\ \\vdots \\\\ c \\cdot v_n \\end{pmatrix} \\]\n",
    "\n",
    "### 4. Dot Product\n",
    "\n",
    "The dot product of two vectors is a scalar obtained by multiplying corresponding components and summing the results:\n",
    "\n",
    "\\[ \\mathbf{u} \\cdot \\mathbf{v} = u_1 v_1 + u_2 v_2 + \\ldots + u_n v_n \\]\n",
    "\n",
    "### 5. Cross Product\n",
    "\n",
    "The cross product is applicable only in three dimensions and results in a vector that is orthogonal to both input vectors:\n",
    "\n",
    "\\[ \\mathbf{u} \\times \\mathbf{v} = \\begin{pmatrix} u_2 v_3 - u_3 v_2 \\\\ u_3 v_1 - u_1 v_3 \\\\ u_1 v_2 - u_2 v_1 \\end{pmatrix} \\]\n",
    "\n",
    "### 6. Magnitude of a Vector\n",
    "\n",
    "The magnitude (or length) of a vector is calculated using the Euclidean norm:\n",
    "\n",
    "\\[ \\|\\mathbf{v}\\| = \\sqrt{v_1^2 + v_2^2 + \\ldots + v_n^2} \\]\n",
    "\n",
    "### 7. Normalization\n",
    "\n",
    "To normalize a vector, divide it by its magnitude, resulting in a unit vector:\n",
    "\n",
    "\\[ \\hat{\\mathbf{v}} = \\frac{\\mathbf{v}}{\\|\\mathbf{v}\\|} \\]"
   ]
  },
  {
   "cell_type": "markdown",
   "id": "67c48fd2-b13f-4e51-b777-3d6fc252eefa",
   "metadata": {},
   "source": [
    "#### Basic vector operations (addition, dot product, cross product).\n",
    "- Basic vector operations are fundamental in linear algebra and are widely used in various fields such as physics, engineering, and computer science."
   ]
  },
  {
   "cell_type": "markdown",
   "id": "acd49e41-a614-433a-a469-28b705f0bd48",
   "metadata": {},
   "source": [
    "### Addition\n",
    "- Addition of the vectors will be done by using `.add()` and it can also be done by `+`. Both do the same operations but the minor difference is the `+` do the broadcasting but the `.add()` don't do it."
   ]
  },
  {
   "cell_type": "code",
   "execution_count": 626,
   "id": "6b16279e-f530-484b-bc70-f28213bd932f",
   "metadata": {},
   "outputs": [
    {
     "name": "stdout",
     "output_type": "stream",
     "text": [
      "Addition Using +: \n",
      "[[17  8 13]\n",
      " [13  5  9]]\n",
      "\n",
      " Using .add(): \n",
      "[[17  8 13]\n",
      " [13  5  9]]\n"
     ]
    }
   ],
   "source": [
    "mat1 = np.random.randint(0,10,(2,3))\n",
    "mat2 = np.random.randint(0,10,(2,3))\n",
    "\n",
    "#using +\n",
    "mat_add = mat1 + mat2\n",
    "\n",
    "#using .add()\n",
    "mat_add_func = np.add(mat1, mat2)\n",
    "\n",
    "print(f\"Addition Using +: \\n{mat_add}\\n\\n Using .add(): \\n{mat_add_func}\")"
   ]
  },
  {
   "cell_type": "markdown",
   "id": "f04b2225-a436-47a1-b461-7ded6761fa5d",
   "metadata": {},
   "source": [
    "### Another Example"
   ]
  },
  {
   "cell_type": "code",
   "execution_count": 629,
   "id": "3c972c90-db2c-4b4e-9575-190c10d42bfd",
   "metadata": {},
   "outputs": [
    {
     "name": "stdout",
     "output_type": "stream",
     "text": [
      "Addition Using +: \n",
      "[[11 10  3]\n",
      " [ 8  0 10]\n",
      " [ 9  8  6]\n",
      " [10  9  9]]\n",
      "\n",
      " Using .add(): \n",
      "[[11 10  3]\n",
      " [ 8  0 10]\n",
      " [ 9  8  6]\n",
      " [10  9  9]]\n"
     ]
    }
   ],
   "source": [
    "mat1 = np.random.randint(0,10,(4,3))\n",
    "mat2 = np.random.randint(0,10,(4,3))\n",
    "\n",
    "#using +\n",
    "mat_add = mat1 + mat2\n",
    "\n",
    "#using .add()\n",
    "mat_add_func = np.add(mat1, mat2)\n",
    "\n",
    "print(f\"Addition Using +: \\n{mat_add}\\n\\n Using .add(): \\n{mat_add_func}\")"
   ]
  },
  {
   "cell_type": "markdown",
   "id": "ccd29217-7e35-4797-9c79-88dd794e9794",
   "metadata": {},
   "source": [
    "### Dot Product\n",
    "\n",
    "#### Dot Product Procedure\r\n",
    "\r\n",
    "The dot product (or scalar product) is a fundamental operation in linear algebra that combines two vectors to produce a single scalar value. Here’s how the procedure works- Dot Product of the vectors will be done by using `.dot()`.:\r\n",
    "\r\n",
    "### Definition\r\n",
    "\r\n",
    "Given two vectors \\( \\mathbf{u} \\) and \\( \\mathbf{v} \\):\r\n",
    "\r\n",
    "\\[\r\n",
    "\\mathbf{u} = \\begin{pmatrix} u_1 \\\\ u_2 \\\\ u_3 \\end{pmatrix}, \\quad \\mathbf{v} = \\begin{pmatrix} v_1 \\\\ v_2 \\\\ v_3 \\end{pmatrix}\r\n",
    "\\]\r\n",
    "\r\n",
    "The dot product is defined as:\r\n",
    "\r\n",
    "\\[\r\n",
    "\\mathbf{u} \\cdot \\mathbf{v} = u_1 v_1 + u_2 v_2 + u_3 v_3\r\n",
    "\\]\r\n",
    "\r\n",
    "### Steps to Calculate the Dot Product\r\n",
    "\r\n",
    "1. **Multiply Corresponding Components**: For each component of the vectors, multiply the corresponding elements.\r\n",
    "\r\n",
    "   - \\( u_1 \\cdot v_1 \\)\r\n",
    "   - \\( u_2 \\cdot v_2 \\)\r\n",
    "   - \\( u_3 \\cdot v_3 \\)\r\n",
    "\r\n",
    "2. **Sum the Results**: Add all the products obtained in the first step together:\r\n",
    "\r\n",
    "   \\[\r\n",
    "   \\text{Dot Product} = u_1 (u, v)\r\n",
    "\r\n",
    "# Display the result\r\n",
    "print(\"Dot Product:\", dot_product)\r\n"
   ]
  },
  {
   "cell_type": "code",
   "execution_count": 643,
   "id": "1f190e22-f808-4dd6-8e27-c6e31c5673b2",
   "metadata": {},
   "outputs": [
    {
     "name": "stdout",
     "output_type": "stream",
     "text": [
      "Dot Product: \n",
      "[[102  98]\n",
      " [ 24  24]]\n"
     ]
    }
   ],
   "source": [
    "mat1 = np.random.randint(0,10,(2,3))\n",
    "mat2 = np.random.randint(0,10,(2,3))\n",
    "\n",
    "mat_dot = np.dot(mat1, mat2.T)\n",
    "\n",
    "print(f\"Dot Product: \\n{mat_dot}\")"
   ]
  },
  {
   "cell_type": "markdown",
   "id": "07338e9a-cf1c-49f0-85b5-ef8f3446d85d",
   "metadata": {},
   "source": [
    "### Another Example"
   ]
  },
  {
   "cell_type": "code",
   "execution_count": 646,
   "id": "9eec8a89-10af-410f-ad91-a2be154b837d",
   "metadata": {},
   "outputs": [
    {
     "name": "stdout",
     "output_type": "stream",
     "text": [
      "Dot Product: \n",
      "[[61 17 44]\n",
      " [96 34 67]\n",
      " [71 53 43]\n",
      " [55 24 31]\n",
      " [69 31 43]]\n"
     ]
    }
   ],
   "source": [
    "mat1 = np.random.randint(0,10,(5,3))\n",
    "mat2 = np.random.randint(0,10,(3,3))\n",
    "\n",
    "mat_dot = np.dot(mat1, mat2.T)\n",
    "\n",
    "print(f\"Dot Product: \\n{mat_dot}\")"
   ]
  },
  {
   "cell_type": "markdown",
   "id": "7de654cc-cc8f-4d2e-853f-4aba5ed828f9",
   "metadata": {},
   "source": [
    "### Cross Product\n",
    "- Cross Product of the vectors will be done by using `.cross()`."
   ]
  },
  {
   "cell_type": "markdown",
   "id": "d90cacb3-c76d-492b-ace4-0929e15ba2ad",
   "metadata": {},
   "source": [
    "### Cross Product\n",
    "\n",
    "#### Definition\n",
    "\n",
    "The cross product is an operation that takes two three-dimensional vectors and produces a third vector that is orthogonal (perpendicular) to both of the original vectors. It is denoted by the symbol \\( \\times \\).\n",
    "\n",
    "Given two vectors \\( \\mathbf{u} \\) and \\( \\mathbf{v} \\):\n",
    "\n",
    "\\[\n",
    "\\mathbf{u} = \\begin{pmatrix} u_1 \\\\ u_2 \\\\ u_3 \\end{pmatrix}, \\quad \\mathbf{v} = \\begin{pmatrix} v_1 \\\\ v_2 \\\\ v_3 \\end{pmatrix}\n",
    "\\]\n",
    "\n",
    "The cross product is defined as:\n",
    "\n",
    "\\[\n",
    "\\mathbf{u} \\times \\mathbf{v} = \\begin{pmatrix}\n",
    "u_2 v_3 - u_3 v_2 \\\\\n",
    "u_3 v_1 - u_1 v_3 \\\\\n",
    "u_1 v_2 - u_2 v_1\n",
    "\\end{pmatrix}\n",
    "\\]\n",
    "\n",
    "### Geometric Interpretation\n",
    "\n",
    "The magnitude of the cross product gives the area of the parallelogram formed by the two vectors, and the direction of the resulting vector follows the right-hand rule.\n",
    "\n",
    "### Steps to Calculate the Cross Product\n",
    "\n",
    "1. **Set Up the Determinant**: The cross product can be computed using a determinant of a 3x3 matrix:\n",
    "\n",
    "\\[\n",
    "\\mathbf{u} \\times \\mathbf{v} = \\begin{vmatrix}\n",
    "\\mathbf{i} & \\mathbf{j} & \\mathbf{k} \\\\\n",
    "u_1 & u_2 & u_3 \\\\\n",
    "v_1 & v_2 & v_3\n",
    "\\end{vmatrix}\n",
    "\\]\n",
    "\n",
    "Where \\( \\mathbf{i}, \\mathbf{j}, \\mathbf{k} \\) are the unit vectors in the x, y, and z directions.\n",
    "\n",
    "2. **Calculate the Components**: Using the determinant, compute the components of the resulting vector."
   ]
  },
  {
   "cell_type": "code",
   "execution_count": 662,
   "id": "2d65e7a7-1e9d-4d05-a7c9-1f95017eb0ae",
   "metadata": {},
   "outputs": [
    {
     "name": "stdout",
     "output_type": "stream",
     "text": [
      "corss Product: \n",
      "[[-40  66 -56]\n",
      " [ -3  -2  12]]\n"
     ]
    }
   ],
   "source": [
    "mat1 = np.random.randint(0,10,(2,3))\n",
    "mat2 = np.random.randint(0,10,(2,3))\n",
    "\n",
    "mat_cross = np.cross(mat1, mat2)\n",
    "\n",
    "print(f\"corss Product: \\n{mat_cross}\")"
   ]
  },
  {
   "cell_type": "markdown",
   "id": "120d1454-a6db-49fe-97a5-17a5c2173d84",
   "metadata": {},
   "source": [
    "### Another Example"
   ]
  },
  {
   "cell_type": "code",
   "execution_count": 668,
   "id": "e54b99dc-80b9-4ee0-89f4-c1a97a29fb01",
   "metadata": {},
   "outputs": [
    {
     "name": "stdout",
     "output_type": "stream",
     "text": [
      "corss Product: \n",
      "[[-27  27 -15]\n",
      " [-21 -28  42]\n",
      " [-24   5  27]\n",
      " [ -3   8  -8]]\n"
     ]
    }
   ],
   "source": [
    "mat1 = np.random.randint(0,10,(4,3))\n",
    "mat2 = np.random.randint(0,10,(4,3))\n",
    "\n",
    "mat_cross = np.cross(mat1, mat2)\n",
    "\n",
    "print(f\"corss Product: \\n{mat_cross}\")"
   ]
  },
  {
   "cell_type": "markdown",
   "id": "40a7cb50-fefb-4211-8fc2-b55e24b03e49",
   "metadata": {},
   "source": [
    "### Vector Norm (Magnitude or Length)\r\n",
    "\r\n",
    "The vector norm, also known as the magnitude or length, is a measure of the size of a vector. It is calculated using the following formula:\r\n",
    "\r\n",
    "\\[\r\n",
    "\\|\\mathbf{a}\\| = \\sqrt{a_1^2 + a_2^2 + \\ldots + a_n^2}\r\n",
    "\\]\r\n",
    "\r\n",
    "Where \\( \\mathbf{a} = (a_1, a_2, \\ldots, a_n) \\) is the vector.\r\n",
    "\r\n",
    "### Example Calculation\r\n",
    "\r\n",
    "For example, given a vector:\r\n",
    "\r\n",
    "\\[\r\n",
    "\\mathbf{a} = \\begin{pmatrix} 3 \\\\ 4 \\\\ 5 \\end{pmatrix}\r\n",
    "\\]\r\n",
    "\r\n",
    "The magnitude is calculated as:\r\n",
    "\r\n",
    "\\[\r\n",
    "\\|\\mathbf{a}\\| = \\sqrt{3^2 + 4^2 + 5^2} = \\sqrt{9 + 16 + 25} = \\sqrult\r\n",
    "print(\"Vector Norm:\", magnitude)\r\n"
   ]
  },
  {
   "cell_type": "code",
   "execution_count": 700,
   "id": "b067e759-921a-41e2-91f7-772963f98750",
   "metadata": {},
   "outputs": [
    {
     "name": "stdout",
     "output_type": "stream",
     "text": [
      "Vector Norm: \n",
      "7.0\n"
     ]
    }
   ],
   "source": [
    "mat1 = np.random.randint(0,10,(2,1))\n",
    "mat_norm = np.linalg.norm(mat1)\n",
    "\n",
    "print(f\"Vector Norm: \\n{mat_norm}\")"
   ]
  },
  {
   "cell_type": "markdown",
   "id": "55052e60-1f4e-4025-a494-ba5fec7e28f7",
   "metadata": {},
   "source": [
    "### Normalized Vector\n",
    "\n",
    "To normalize a vector, divide each component by the vector norm. The normalized vector has a magnitude of 1 and retains the direction of the original vector. The normalization is calculated as follows:\n",
    "\n",
    "\\[\n",
    "\\mathbf{a}_{\\text{normalized}} = \\frac{\\mathbf{a}}{\\|\\mathbf{a}\\|}\n",
    "\\]\n",
    "\n",
    "### Example Calculation\n",
    "\n",
    "Given a vector:\n",
    "\n",
    "\\[\n",
    "\\mathbf{a} = \\begin{pmatrix} 3 \\\\ 4 \\\\ 5 \\end{pmatrix}\n",
    "\\]\n",
    "\n",
    "First, calculate the norm:\n",
    "\n",
    "\\[\n",
    "\\|\\mathbf{a}\\| = \\sqrt{3^2 + 4^2 + 5^2} = \\sqrt{50} \\approx 7.07\n",
    "\\]\n",
    "\n",
    "Next, normalize the vector:\n",
    "\n",
    "\\[\n",
    "\\mathbf{a}_{\\text{normalized}} = \\frac{1}{\\sqrt{50}} \\begin{pmatrix} 3 \\\\ 4 \\\\ 5 \\end{pmatrix} \\approx \\begin{pmatrix} 0.424 \\\\ 0.566 \\\\ 0.707 \\end{pmatrix}\n",
    "\\]"
   ]
  },
  {
   "cell_type": "code",
   "execution_count": 706,
   "id": "461d8938-1b23-49a2-9d03-af7f9a9bd1e7",
   "metadata": {},
   "outputs": [
    {
     "name": "stdout",
     "output_type": "stream",
     "text": [
      "Original Vector:\n",
      "[[0]\n",
      " [7]]\n",
      "\n",
      "Normalize Vector: \n",
      "[[0.]\n",
      " [1.]]\n"
     ]
    }
   ],
   "source": [
    "norm_mat = mat1 / mat_norm\n",
    "\n",
    "print(f\"Original Vector:\\n{mat1}\\n\\nNormalize Vector: \\n{norm_mat}\")"
   ]
  },
  {
   "cell_type": "markdown",
   "id": "2c01a3a0-7820-431a-88f7-ec8dab45fb4c",
   "metadata": {},
   "source": [
    "### Another Example"
   ]
  },
  {
   "cell_type": "code",
   "execution_count": 718,
   "id": "1a4bba1a-f77e-49e7-a403-70de476cb973",
   "metadata": {},
   "outputs": [
    {
     "name": "stdout",
     "output_type": "stream",
     "text": [
      "Vector Norm: \n",
      "6.0\n",
      "\n",
      "Original Vector:\n",
      "[[0]\n",
      " [6]]\n",
      "\n",
      "Normalize Vector: \n",
      "[[0.]\n",
      " [1.]]\n"
     ]
    }
   ],
   "source": [
    "mat1 = np.random.randint(0,10,(2,1))\n",
    "mat_norm = np.linalg.norm(mat1)\n",
    "print(f\"Vector Norm: \\n{mat_norm}\\n\")\n",
    "\n",
    "norm_mat = mat1 / mat_norm\n",
    "print(f\"Original Vector:\\n{mat1}\\n\\nNormalize Vector: \\n{norm_mat}\")"
   ]
  },
  {
   "cell_type": "markdown",
   "id": "d40f31b0-fa95-4e80-8da5-3214242e5e33",
   "metadata": {},
   "source": [
    "### 5. Matrix Decomposition\n",
    "Matrix decomposition refers to the process of breaking down a matrix into simpler, constituent matrices that can be used to solve various mathematical problems more easily. Decompositions are fundamental in numerical linear algebra and have applications in optimization, statistics, and machine learning.\n",
    "\n",
    "Common Types of Matrix Decomposition\n",
    "LU Decomposition:\n",
    "\n",
    "Definition: Decomposes a matrix \n",
    "𝐴\n",
    "A into a lower triangular matrix \n",
    "𝐿\n",
    "L and an upper triangular matrix \n",
    "𝑈\n",
    "U.\n",
    "Form: \n",
    "𝐴\n",
    "=\n",
    "𝐿\n",
    "𝑈\n",
    "A=LU\n",
    "Applications: Solving systems of linear equations, computing determinants.\n",
    "QR Decomposition:\n",
    "\n",
    "Definition: Decomposes a matrix \n",
    "𝐴\n",
    "A into an orthogonal matrix \n",
    "𝑄\n",
    "Q and an upper triangular matrix \n",
    "𝑅\n",
    "R.\n",
    "Form: \n",
    "𝐴\n",
    "=\n",
    "𝑄\n",
    "𝑅\n",
    "A=QR\n",
    "Applications: Least squares problems, numerical stability in linear algebra.\n",
    "Singular Value Decomposition (SVD):\n",
    "\n",
    "Definition: Decomposes a matrix \n",
    "𝐴\n",
    "A into three matrices: \n",
    "𝑈\n",
    "U, \n",
    "Σ\n",
    "Σ, and \n",
    "𝑉\n",
    "𝑇\n",
    "V \n",
    "T\n",
    " , where \n",
    "𝑈\n",
    "U and \n",
    "𝑉\n",
    "V are orthogonal matrices and \n",
    "Σ\n",
    "Σ is a diagonal matrix.\n",
    "Form: \n",
    "𝐴\n",
    "=\n",
    "𝑈\n",
    "Σ\n",
    "𝑉\n",
    "𝑇\n",
    "A=UΣV \n",
    "T\n",
    " \n",
    "Applications: Dimensionality reduction (e.g., PCA), solving linear systems, image compression."
   ]
  },
  {
   "cell_type": "markdown",
   "id": "fffe529c-45fb-45c3-909e-b0536cdd2725",
   "metadata": {},
   "source": [
    "### PCA with SVD: Step-by-Step Guide\n",
    "#### Step 1: Standardize the Data\n",
    "\n",
    "Standardize the dataset to have a mean of 0 and a standard deviation of 1.\n",
    "\n",
    "#### Step 2: Compute the Covariance Matrix\n",
    "\n",
    "Calculate the covariance matrix to understand how the dimensions vary together.\n",
    "\n",
    "#### Step 3: Perform SVD\n",
    "\n",
    "Apply Singular Value Decomposition to the covariance matrix to extract the principal components.\n",
    "\n",
    "#### Step 4: Select Principal Components\n",
    "\n",
    "Choose the number of principal components to retain based on the explained variance.\n",
    "\n",
    "#### Step 5: Transform the Data\n",
    "\n",
    "Project the original standardized data onto the new principal component space.\n",
    "\n",
    "#### Step 6: Analyze Results\n",
    "\n",
    "Visualize or analyze the PCA results to understand the data's structure better."
   ]
  },
  {
   "cell_type": "markdown",
   "id": "e1016c1a-8065-4f12-84f0-8f1ae3ab58bf",
   "metadata": {},
   "source": [
    "- Define a function for PCA with SVD"
   ]
  },
  {
   "cell_type": "code",
   "execution_count": 721,
   "id": "c9b3587a-3780-4f7e-abf9-665c9b225f39",
   "metadata": {},
   "outputs": [],
   "source": [
    "def pca_svd(X, k):\n",
    "\t# Standardize data\n",
    "\tX_std = (X - X.mean(axis=0)) / X.std(axis=0)\n",
    "\t\n",
    "\t# SVD decomposition\n",
    "\tU, Sigma, Vt = np.linalg.svd(X_std)\n",
    "\t\n",
    "\t# Select top k components\n",
    "\tV_k = Vt[:, :k]\n",
    "\t\n",
    "\t# Transform data\n",
    "\tX_transformed = np.dot(X_std, V_k)\n",
    "\t\n",
    "\treturn X_transformed"
   ]
  },
  {
   "cell_type": "code",
   "execution_count": 1107,
   "id": "62d8b4b0-6cd0-4e7a-9925-2a7170e63925",
   "metadata": {},
   "outputs": [
    {
     "data": {
      "image/png": "[encoded data removed]",
      "text/plain": [
       "<Figure size 640x480 with 1 Axes>"
      ]
     },
     "metadata": {},
     "output_type": "display_data"
    }
   ],
   "source": [
    "# Generate a dataset\n",
    "np.random.seed(0)\n",
    "X = np.random.randn(100, 3)  # 100 samples, 3 features\n",
    "\n",
    "# Implement PCA using SVD\n",
    "def pca_svd(X, k):\n",
    "\t# Standardize data\n",
    "\tX_std = (X - X.mean(axis=0)) / X.std(axis=0)\n",
    "\t\n",
    "\t# SVD decomposition\n",
    "\tU, Sigma, Vt = np.linalg.svd(X_std)\n",
    "\t\n",
    "\t# Select top k components\n",
    "\tV_k = Vt[:, :k]\n",
    "\t\n",
    "\t# Transform data\n",
    "\tX_transformed = np.dot(X_std, V_k)\n",
    "\t\n",
    "\treturn X_transformed\n",
    "\n",
    "# Apply PCA to the dataset\n",
    "X_pca = pca_svd(X, 2)  # reduce to 2 dimensions\n",
    "\n",
    "# Visualize the results\n",
    "plt.scatter(X_pca[:, 0], X_pca[:, 1], c=np.random.rand(100))\n",
    "plt.xlabel(\"Principal Component 1\")\n",
    "plt.ylabel(\"Principal Component 2\")\n",
    "plt.title(\"PCA using SVD\")\n",
    "plt.show()"
   ]
  },
  {
   "cell_type": "markdown",
   "id": "c33bff91-a311-4e07-89f6-c852c27cb398",
   "metadata": {},
   "source": [
    "##### Look before we have 3 features and now we have two, but these two contain all the information with a bit trade on accuracy"
   ]
  },
  {
   "cell_type": "code",
   "execution_count": 1104,
   "id": "2cd0ba4b-892c-416f-89fb-22a981a8c1aa",
   "metadata": {},
   "outputs": [
    {
     "data": {
      "text/plain": [
       "array([[-1.9053026 ,  0.59254234],\n",
       "       [-0.64943556,  2.70380758],\n",
       "       [-0.59484473,  0.13791307],\n",
       "       [-1.38636485, -0.36565795],\n",
       "       [-0.86126484,  0.10531006],\n",
       "       [ 0.00439915,  1.30854976],\n",
       "       [ 1.61436493,  0.09036122],\n",
       "       [ 0.15174633,  1.0903275 ],\n",
       "       [-1.66967717, -0.45554077],\n",
       "       [-0.90527788,  0.55510538]])"
      ]
     },
     "execution_count": 1104,
     "metadata": {},
     "output_type": "execute_result"
    }
   ],
   "source": [
    "X_pca[:10]"
   ]
  },
  {
   "cell_type": "markdown",
   "id": "352f730e-f364-49d5-9dc3-a021557269d2",
   "metadata": {},
   "source": [
    "## Numerical Differentiation\n",
    "\n",
    "Numerical differentiation is a technique used to estimate the derivative of a function using discrete data points. It is particularly useful when an analytical form of the function is not available or when working with experimental data.\n",
    "\n",
    "### Basic Concepts\n",
    "\n",
    "The derivative of a function \\( f(x) \\) at a point \\( x \\) can be approximated using the following finite difference form.\n",
    "\n",
    "*Forward Difference*\n",
    "\n",
    "![Local Image](images/forward_difference.png)\n",
    "\n",
    "*Backward Difference*\n",
    "\n",
    "![Local Image](images/backward_difference.png)\n",
    "\n",
    "*Central Difference*\n",
    "\n",
    "![Local Image](images/central_difference.png)"
   ]
  },
  {
   "cell_type": "markdown",
   "id": "1e371db6-39d0-46e5-ac4f-fe5e3cbc360b",
   "metadata": {},
   "source": [
    "## Numerical Differentiation\n",
    "Calculus, the study of continuous change, is a fundamental subject in mathematics that has numerous applications in fields ranging from physics to economics. One of the key concepts in calculus is derivative, which measures the instantaneous rate of change of a function at a given point. If we have a function f(x), the derivative of that function at point x can be calculated as the limit of the difference quotient as h approaches zero:\n",
    "- f'(a) = lim(h -> 0) [(f(a+b) - f(a))/h]"
   ]
  },
  {
   "cell_type": "markdown",
   "id": "aaf8d87c-5be4-4dae-b095-0813f6823ce9",
   "metadata": {},
   "source": [
    "#### Step 1\n",
    "The first step is to define the function you want to take the derivative of. Let's say we want to find the derivative of the function f(x) = sin(x). We can define this function in NumPy using the following code:"
   ]
  },
  {
   "cell_type": "code",
   "execution_count": 881,
   "id": "265d32bf-4317-4ca6-ada2-216ad2cc964a",
   "metadata": {},
   "outputs": [],
   "source": [
    "def f(x):\n",
    "    return np.sin(x)"
   ]
  },
  {
   "cell_type": "markdown",
   "id": "c5cf739e-1e3c-459d-9f3c-eaebbee79158",
   "metadata": {},
   "source": [
    "### Step 2: Define the Domain\n",
    "\n",
    "The next step is to define the domain of the function. In other words, you need to specify the values of x that you want to compute the derivative at. For example, let's say you want to compute the derivative of f(x) = x^2 at x = 2. You can define this domain using the following code:"
   ]
  },
  {
   "cell_type": "code",
   "execution_count": 884,
   "id": "549a2836-96f3-420f-a670-7e4aa7eb70bf",
   "metadata": {},
   "outputs": [],
   "source": [
    "x = np.linspace(0,1,3)\n",
    "y = f(x)"
   ]
  },
  {
   "cell_type": "markdown",
   "id": "7f54c9a3-edab-42d6-a1cf-32bc46cb5672",
   "metadata": {},
   "source": [
    "### Step 3: Compute the Derivative\n",
    "\n",
    "Once we have established the function and domain, NumPy's gradient function comes into play to calculate the derivative. The beauty of the gradient function is its simplicity, requiring only two arguments: the function we wish to derive and the values of x where we want to compute the derivative. Let's take a closer look at how to utilize this function:"
   ]
  },
  {
   "cell_type": "code",
   "execution_count": 887,
   "id": "6838302c-befa-4579-9179-2db6a6f173c4",
   "metadata": {},
   "outputs": [
    {
     "data": {
      "text/plain": [
       "0.8414709848078965"
      ]
     },
     "execution_count": 887,
     "metadata": {},
     "output_type": "execute_result"
    }
   ],
   "source": [
    "derivative = np.gradient(y, x)\n",
    "derivative[1]"
   ]
  },
  {
   "cell_type": "markdown",
   "id": "9a34ca3d-f30c-457d-9019-096dbf660aa9",
   "metadata": {},
   "source": [
    "In this case, the gradient function will compute the derivative of f(x) = x^2 at x = 2. The output of the function will be a single value representing the value of the derivative at that point."
   ]
  },
  {
   "cell_type": "markdown",
   "id": "73b44b60-e9bd-4d7e-abc8-5cde25c0e1cb",
   "metadata": {},
   "source": [
    "### Multi−dimensional Derivatives"
   ]
  },
  {
   "cell_type": "markdown",
   "id": "258f74a6-8f4c-4feb-a916-434f2c7476da",
   "metadata": {},
   "source": [
    "Another useful feature of the gradient function in NumPy is its ability to compute partial derivatives of multi−dimensional functions. This means that you can find the rate of change of a function with respect to each of its variables separately. To compute partial derivatives, all you need to do is define the function in terms of multiple variables and provide a list of values for each variable. NumPy's gradient function will then return an array of partial derivatives for each variable at each point in the domain.\n",
    "\n",
    "Let's say we want to compute the partial derivatives of the function `f(x, y) = x^2 + y^2`. We can define this function in NumPy as follows:"
   ]
  },
  {
   "cell_type": "code",
   "execution_count": 892,
   "id": "20a9e9b8-d217-48c6-9885-f3f6c658398c",
   "metadata": {},
   "outputs": [],
   "source": [
    "def f(x,y):\n",
    "    return x**2 + y**2"
   ]
  },
  {
   "cell_type": "code",
   "execution_count": 894,
   "id": "f8625102-4af7-4eb2-bc9b-a4454d0cc5b3",
   "metadata": {},
   "outputs": [],
   "source": [
    "x = np.linspace(0,2,2)\n",
    "y = np.linspace(0,1,2)\n",
    "pr = f(x,y)"
   ]
  },
  {
   "cell_type": "code",
   "execution_count": 898,
   "id": "d6bd113d-1cef-4d3b-a90f-af7a09b1c623",
   "metadata": {},
   "outputs": [
    {
     "data": {
      "text/plain": [
       "2.5"
      ]
     },
     "execution_count": 898,
     "metadata": {},
     "output_type": "execute_result"
    }
   ],
   "source": [
    "derivative = np.gradient(pr, x)\n",
    "derivative[1]"
   ]
  },
  {
   "cell_type": "markdown",
   "id": "1780b49e-6112-4a91-bd70-8602ccb080ca",
   "metadata": {},
   "source": [
    "### Other Methods for Computing Derivatives"
   ]
  },
  {
   "cell_type": "markdown",
   "id": "06341efb-627a-4d9f-8e9c-604a997b7589",
   "metadata": {},
   "source": [
    "While NumPy's gradient function is a convenient and straightforward method to compute derivatives of functions, there are other approaches to calculating derivatives in Python. One common technique is to use symbolic computation libraries like SymPy, which can provide precise solutions to derivative problems. Another way is to use numerical differentiation methods like finite differences, which approximate derivatives by computing the difference between function values at points that are very close to each other. These methods are useful when you need more precision or when the function you are working with is too complex to compute a derivative analytically."
   ]
  },
  {
   "cell_type": "markdown",
   "id": "7e25b615-f81b-43e4-9a9d-d969980632d6",
   "metadata": {},
   "source": [
    "## Manually "
   ]
  },
  {
   "cell_type": "code",
   "execution_count": 909,
   "id": "01f948a7-54fe-4bcf-b996-a18ec519c58f",
   "metadata": {},
   "outputs": [
    {
     "data": {
      "text/plain": [
       "-9.482181661487038e-06"
      ]
     },
     "execution_count": 909,
     "metadata": {},
     "output_type": "execute_result"
    }
   ],
   "source": [
    "#defining the function\n",
    "def f(x):\n",
    "    return np.sin(x)\n",
    "\n",
    "#choose the samll increment\n",
    "h = 1e5 - 5\n",
    "\n",
    "#where we want to find the derivative\n",
    "x = np.linspace(0,2*np.pi,2)\n",
    "\n",
    "#derivative\n",
    "y = (f(x + h) - f(x)) / h\n",
    "y[1]"
   ]
  },
  {
   "cell_type": "markdown",
   "id": "95aac4d3-2501-440e-83a4-1505646e4c98",
   "metadata": {},
   "source": [
    "## forward Difference\n",
    "The forward difference is a method used to approximate the derivative of a function at a particular point using the function's values at two points. It is particularly useful for numerical differentiation when dealing with discrete data points.\n",
    "\n",
    "![Local Image](images/forward_difference.png)"
   ]
  },
  {
   "cell_type": "code",
   "execution_count": 932,
   "id": "febe9e6b-7467-4400-ab7a-c018f4fbc191",
   "metadata": {},
   "outputs": [
    {
     "name": "stdout",
     "output_type": "stream",
     "text": [
      "4.01\n"
     ]
    }
   ],
   "source": [
    "def f(x):\n",
    "    return x**2\n",
    "\n",
    "# Point of interest\n",
    "x = 2\n",
    "h = 0.01\n",
    "\n",
    "# Forward difference\n",
    "forward_diff = (f(x + h) - f(x)) / h\n",
    "print(f\"{forward_diff:.2f}\")"
   ]
  },
  {
   "cell_type": "markdown",
   "id": "37bbb0e0-d903-422f-977b-8aa60361c8dc",
   "metadata": {},
   "source": [
    "### Another example"
   ]
  },
  {
   "cell_type": "code",
   "execution_count": 934,
   "id": "6a391a3a-ce14-4615-8c0f-f4fa76d33e44",
   "metadata": {},
   "outputs": [
    {
     "name": "stdout",
     "output_type": "stream",
     "text": [
      "16.07\n"
     ]
    }
   ],
   "source": [
    "def f(x):\n",
    "    return x**2 + x**3 + 3\n",
    "\n",
    "# Point of interest\n",
    "x = 2\n",
    "h = 0.01\n",
    "\n",
    "# Forward difference\n",
    "forward_diff = (f(x + h) - f(x)) / h\n",
    "print(f\"{forward_diff:.2f}\")"
   ]
  },
  {
   "cell_type": "markdown",
   "id": "66f0dfe4-0629-40f7-99f5-d37c44c7a141",
   "metadata": {},
   "source": [
    "### Backward Difference\n",
    "The backward difference is a method used to approximate the derivative of a function at a particular point using the function's values at two points. It is particularly useful for numerical differentiation when dealing with discrete data points.\n",
    "\n",
    "![Local Image](images/backward_difference.png)"
   ]
  },
  {
   "cell_type": "code",
   "execution_count": 956,
   "id": "87e158a0-c99c-46c4-878b-deff325acb36",
   "metadata": {},
   "outputs": [
    {
     "name": "stdout",
     "output_type": "stream",
     "text": [
      "-16.07\n"
     ]
    }
   ],
   "source": [
    "def f(x):\n",
    "    return x**2 + x**3 + 3\n",
    "\n",
    "# Point of interest\n",
    "x = 2\n",
    "h = 0.01\n",
    "\n",
    "# Forward difference\n",
    "forward_diff = (f(x) - f(x + h)) / h\n",
    "print(f\"{forward_diff:.2f}\")"
   ]
  },
  {
   "cell_type": "markdown",
   "id": "92940a74-af04-408d-8cf4-6e86d6480cf4",
   "metadata": {},
   "source": [
    "### Another Example"
   ]
  },
  {
   "cell_type": "code",
   "execution_count": 942,
   "id": "befd15df-8dd6-4e22-aa81-eebb0d3284c1",
   "metadata": {},
   "outputs": [
    {
     "name": "stdout",
     "output_type": "stream",
     "text": [
      "6248.31\n"
     ]
    }
   ],
   "source": [
    "def f(x):\n",
    "    return x**2 + x**3 + 3 + x**4\n",
    "\n",
    "# Point of interest\n",
    "x = 2\n",
    "h = 0.01\n",
    "\n",
    "# Forward difference\n",
    "forward_diff = (f(x + h) + f(x)) / h\n",
    "print(f\"{forward_diff:.2f}\")"
   ]
  },
  {
   "cell_type": "markdown",
   "id": "08d9c05a-7993-4ece-b13c-7ec68eb3d035",
   "metadata": {},
   "source": [
    "## Another Example"
   ]
  },
  {
   "cell_type": "code",
   "execution_count": 954,
   "id": "a79d545e-aa51-438c-adb7-83bf081e11e3",
   "metadata": {},
   "outputs": [
    {
     "name": "stdout",
     "output_type": "stream",
     "text": [
      "-84.14\n"
     ]
    }
   ],
   "source": [
    "def f(x):\n",
    "    return np.cos(x)\n",
    "\n",
    "# Point of interest\n",
    "x = 2\n",
    "h = 0.01\n",
    "\n",
    "# Forward difference\n",
    "forward_diff = (f(x + h) + f(x)) / h\n",
    "print(f\"{forward_diff:.2f}\")"
   ]
  },
  {
   "cell_type": "markdown",
   "id": "ed24a1cf-cd07-4cd9-9c5f-a7bf6f5c410b",
   "metadata": {},
   "source": [
    "## Central Difference\n",
    "The backward difference is a method used to approximate the derivative of a function at a particular point using the function's values at two points. It is particularly useful for numerical differentiation when dealing with discrete data points.\n",
    "\n",
    "![Local Image](images/central_difference.png)"
   ]
  },
  {
   "cell_type": "code",
   "execution_count": 959,
   "id": "00059ba2-1b43-4bba-9f7f-a690b0ece3dc",
   "metadata": {},
   "outputs": [
    {
     "name": "stdout",
     "output_type": "stream",
     "text": [
      "-0.91\n"
     ]
    }
   ],
   "source": [
    "def f(x):\n",
    "    return np.cos(x)\n",
    "\n",
    "# Point of interest\n",
    "x = 2\n",
    "h = 0.01\n",
    "\n",
    "# Forward difference\n",
    "forward_diff = (f(x + 0.5 * h) - f(x - 0.5 * h)) / h\n",
    "print(f\"{forward_diff:.2f}\")"
   ]
  },
  {
   "cell_type": "markdown",
   "id": "90993158-8ff1-464a-98c2-3e19c10f3242",
   "metadata": {},
   "source": [
    "## Another Example"
   ]
  },
  {
   "cell_type": "code",
   "execution_count": 962,
   "id": "2a741b2d-5cb2-42ba-8200-ce6279506b9d",
   "metadata": {},
   "outputs": [
    {
     "name": "stdout",
     "output_type": "stream",
     "text": [
      "0.76\n"
     ]
    }
   ],
   "source": [
    "def f(x):\n",
    "    return np.cos(x)**2\n",
    "\n",
    "# Point of interest\n",
    "x = 2\n",
    "h = 0.01\n",
    "\n",
    "# Forward difference\n",
    "forward_diff = (f(x + 0.5 * h) - f(x - 0.5 * h)) / h\n",
    "print(f\"{forward_diff:.2f}\")"
   ]
  },
  {
   "cell_type": "markdown",
   "id": "4104105f-74e1-4374-bc12-afd2308ab600",
   "metadata": {},
   "source": [
    "## Numerical Integration\n",
    "\n",
    "Numerical integration is a method used to approximate the integral of a function when an analytical solution is difficult or impossible to obtain. There are several techniques for numerical integration, including the trapezoidal rule, Simpson's rule, and more.\n",
    "\n",
    "![local](images/integration.png)"
   ]
  },
  {
   "cell_type": "markdown",
   "id": "f8c5a3de-21c9-466d-99cd-10bd4a996534",
   "metadata": {},
   "source": [
    "- Define the function"
   ]
  },
  {
   "cell_type": "code",
   "execution_count": 967,
   "id": "f027c65d-fc02-47c0-bb35-f88f4fbe29b0",
   "metadata": {},
   "outputs": [
    {
     "name": "stdout",
     "output_type": "stream",
     "text": [
      "The integral of x from 1 to 3 is: 4.0\n"
     ]
    }
   ],
   "source": [
    "def integral_x(a, b):\n",
    "    return (b**2 / 2) - (a**2 / 2)\n",
    "\n",
    "# Define the limits\n",
    "a = 1  # lower limit\n",
    "b = 3  # upper limit\n",
    "\n",
    "# Calculate the integral\n",
    "result = integral_x(a, b)\n",
    "print(\"The integral of x from\", a, \"to\", b, \"is:\", result)"
   ]
  },
  {
   "cell_type": "markdown",
   "id": "5b31b4d0-44ef-4033-b36f-19862ba43ba7",
   "metadata": {},
   "source": [
    "## Another example"
   ]
  },
  {
   "cell_type": "code",
   "execution_count": 972,
   "id": "3dd48ad0-a54e-4de7-ac70-26083e319dcc",
   "metadata": {},
   "outputs": [
    {
     "name": "stdout",
     "output_type": "stream",
     "text": [
      "The integral of x from 1 to 4 is: 21.0\n"
     ]
    }
   ],
   "source": [
    "def integral_x(a, b):\n",
    "    return (b**3 / 3) - (a**3 / 3)\n",
    "# for function f = x^2\n",
    "# Define the limits\n",
    "a = 1  # lower limit\n",
    "b = 4  # upper limit\n",
    "\n",
    "# Calculate the integral\n",
    "result = integral_x(a, b)\n",
    "print(\"The integral of x from\", a, \"to\", b, \"is:\", result)\n"
   ]
  },
  {
   "cell_type": "markdown",
   "id": "0c938233-4c12-4f56-9220-e8528224817c",
   "metadata": {},
   "source": [
    "# trapezoidal rule\n",
    "The trapezoidal rule is a numerical method used to approximate the definite integral of a function. It is particularly useful when the function is difficult to integrate analytically or when dealing with discrete data points.\n",
    "\n",
    "Definition\n",
    "The trapezoidal rule approximates the area under a curve by dividing it into trapezoids instead of rectangles. The area of each trapezoid is calculated and summed to estimate the total integral.\n",
    "\n",
    "Formula\n",
    "Given a function \n",
    "𝑓\n",
    "(\n",
    "𝑥\n",
    ")\n",
    "f(x) over the interval \n",
    "[\n",
    "𝑎\n",
    ",\n",
    "𝑏\n",
    "]\n",
    "[a,b], and dividing this interval into \n",
    "𝑛\n",
    "n subintervals of equal width \n",
    "ℎ\n",
    "h:\n",
    "\n",
    "\n",
    "![local](images/trapezoidal_rule.png)"
   ]
  },
  {
   "cell_type": "markdown",
   "id": "dc550f78-a2de-45b0-bfad-2e36204fcfe6",
   "metadata": {},
   "source": [
    "- Let's first implemet the formula for trapezoidal_rule"
   ]
  },
  {
   "cell_type": "code",
   "execution_count": 999,
   "id": "e148f43d-447b-4bb4-ab96-beeec4e43b5a",
   "metadata": {},
   "outputs": [],
   "source": [
    "def trapezoidal_rule(f, a, b, n):\n",
    "    #step size finding in the bases of limits\n",
    "    h = (b - a) / n  # width of each subinterval\n",
    "    x = np.linspace(a, b, n + 1)  # x values\n",
    "    y = f(x)  # function values at x\n",
    "    \n",
    "    # implementing the formula\n",
    "    integral = (h / 2) * (y[0] + 2 * np.sum(y[1:-1]) + y[-1])  # trapezoidal rule formula\n",
    "    return integral"
   ]
  },
  {
   "cell_type": "markdown",
   "id": "9aa7b88e-c567-4954-bca7-61cdf65a482a",
   "metadata": {},
   "source": [
    "#### Define the function"
   ]
  },
  {
   "cell_type": "code",
   "execution_count": 989,
   "id": "ba419d32-d9ce-41e5-b911-4a297dcaac11",
   "metadata": {},
   "outputs": [],
   "source": [
    "def f(x):\n",
    "    return x**2"
   ]
  },
  {
   "cell_type": "markdown",
   "id": "24b0dcaf-4b1a-4a4d-9ada-cb70fa894402",
   "metadata": {},
   "source": [
    "#### Define the limits and number of intervals"
   ]
  },
  {
   "cell_type": "code",
   "execution_count": 992,
   "id": "d220d2e2-e585-4660-9828-0c8148b2bf1c",
   "metadata": {},
   "outputs": [],
   "source": [
    "a = 0  # lower limit\n",
    "b = 1  # upper limit\n",
    "n = 4  #let say number of subintervals is 4"
   ]
  },
  {
   "cell_type": "code",
   "execution_count": 994,
   "id": "8eb4e6b5-8650-4662-a1d4-218d822e5270",
   "metadata": {},
   "outputs": [
    {
     "name": "stdout",
     "output_type": "stream",
     "text": [
      "Approximate integral using the trapezoidal rule: 0.34375\n"
     ]
    }
   ],
   "source": [
    "result = trapezoidal_rule(f, a, b, n)\n",
    "print(\"Approximate integral using the trapezoidal rule:\", result)"
   ]
  },
  {
   "cell_type": "markdown",
   "id": "afb01212-59c6-46d4-ac0b-48be22ac0e30",
   "metadata": {},
   "source": [
    "### Another Example"
   ]
  },
  {
   "cell_type": "code",
   "execution_count": 1001,
   "id": "fd7309d2-caba-462b-8eb7-b2df54127d90",
   "metadata": {},
   "outputs": [],
   "source": [
    "def f(x):\n",
    "    return x**2 + x**3"
   ]
  },
  {
   "cell_type": "code",
   "execution_count": 1003,
   "id": "8f9da924-e2c3-4927-bc41-4204ab10112b",
   "metadata": {},
   "outputs": [
    {
     "name": "stdout",
     "output_type": "stream",
     "text": [
      "Approximate integral using the trapezoidal rule: 30.796875\n"
     ]
    }
   ],
   "source": [
    "a = 0  # lower limit\n",
    "b = 3  # upper limit\n",
    "n = 4  #let say number of subintervals is 4\n",
    "result = trapezoidal_rule(f, a, b, n)\n",
    "print(\"Approximate integral using the trapezoidal rule:\", result)"
   ]
  },
  {
   "cell_type": "markdown",
   "id": "7b5dbd6b-4025-4d65-ba05-5b42cfadeb36",
   "metadata": {},
   "source": [
    "## Simpson's rule\n",
    "Simpson's rule is a numerical method for approximating the definite integral of a function. It is more accurate than the trapezoidal rule, especially for smooth functions, as it fits a quadratic polynomial through the points rather than using straight lines.\n",
    "\n",
    "Definition\n",
    "Simpson's rule approximates the integral of a function \n",
    "𝑓\n",
    "(\n",
    "𝑥\n",
    ")\n",
    "f(x) over the interval \n",
    "[\n",
    "𝑎\n",
    ",\n",
    "𝑏\n",
    "]\n",
    "[a,b] by dividing the interval into an even number of subintervals \n",
    "𝑛\n",
    "n (where \n",
    "𝑛\n",
    "n is even). The rule uses quadratic functions to estimate the area under the curve.\n",
    "\n",
    "\n",
    "![local](images/Simpson_rule.png)"
   ]
  },
  {
   "cell_type": "markdown",
   "id": "efb2bd15-fbaa-4fa6-a7ef-980b8b3a6666",
   "metadata": {},
   "source": [
    "- Simpson's rule Implementation"
   ]
  },
  {
   "cell_type": "code",
   "execution_count": 1009,
   "id": "d7172a9f-b800-42e2-be91-5f5489c670e0",
   "metadata": {},
   "outputs": [],
   "source": [
    "def simpsons_rule(f, a, b, n):\n",
    "    if n % 2 != 0:  # we are here useing the raise values error because the value of n which is the total no. of sum should be evern cause odd will not let us to task\n",
    "        raise ValueError(\"n must be even.\")\n",
    "\n",
    "    h = (b - a) / n  # width of each subinterval\n",
    "    x = np.linspace(a, b, n + 1)  # x values\n",
    "    y = f(x)  # function values at x\n",
    "\n",
    "    integral = (h / 3) * (y[0] + 4 * np.sum(y[1:n:2]) + 2 * np.sum(y[2:n-1:2]) + y[-1])  # Simpson's rule formula\n",
    "    return integral"
   ]
  },
  {
   "cell_type": "markdown",
   "id": "ebcc52cd-e428-41ff-80d3-cc615af8bf24",
   "metadata": {},
   "source": [
    "### Define the function"
   ]
  },
  {
   "cell_type": "code",
   "execution_count": 1014,
   "id": "b57ce5de-b201-42fb-8650-c25ff5cb928b",
   "metadata": {},
   "outputs": [],
   "source": [
    "def f(x):\n",
    "    return x**2"
   ]
  },
  {
   "cell_type": "markdown",
   "id": "77c6274a-10ad-413b-9433-598ae29c97bd",
   "metadata": {},
   "source": [
    "### Define the limits and number of intervals"
   ]
  },
  {
   "cell_type": "code",
   "execution_count": 1017,
   "id": "5e01e9a8-da83-46b9-8a1a-d60cda523e40",
   "metadata": {},
   "outputs": [],
   "source": [
    "a = 0  # lower limit\n",
    "b = 1  # upper limit\n",
    "n = 4  # number of subintervals (must be even)"
   ]
  },
  {
   "cell_type": "markdown",
   "id": "57e69ad3-91b1-4597-adc4-ae0f9e1ba9b7",
   "metadata": {},
   "source": [
    "### Finding the Simpson's rule Integration now"
   ]
  },
  {
   "cell_type": "code",
   "execution_count": 1020,
   "id": "32a8e711-ec87-4b4c-8d76-ffb43eeca23e",
   "metadata": {},
   "outputs": [
    {
     "name": "stdout",
     "output_type": "stream",
     "text": [
      "Approximate integral using Simpson's rule: 0.3333333333333333\n"
     ]
    }
   ],
   "source": [
    "result = simpsons_rule(f, a, b, n)\n",
    "print(\"Approximate integral using Simpson's rule:\", result)"
   ]
  },
  {
   "cell_type": "markdown",
   "id": "8130a3e5-f2c2-4148-80fd-0aa589da713a",
   "metadata": {},
   "source": [
    "### Another Example"
   ]
  },
  {
   "cell_type": "code",
   "execution_count": 1025,
   "id": "e358b156-3e39-4e96-9f4d-9dec030bd32e",
   "metadata": {},
   "outputs": [
    {
     "name": "stdout",
     "output_type": "stream",
     "text": [
      "Approximate integral using Simpson's rule: 4.583333333333333\n"
     ]
    }
   ],
   "source": [
    "def f(x):\n",
    "    return x**2 + x **3 +4\n",
    "a = 0  # lower limit\n",
    "b = 1  # upper limit\n",
    "n = 4  # number of subintervals (must be even)\n",
    "result = simpsons_rule(f, a, b, n)\n",
    "print(\"Approximate integral using Simpson's rule:\", result)"
   ]
  },
  {
   "cell_type": "markdown",
   "id": "cf7c6c75-0b27-4e46-90d9-c5ad065278a6",
   "metadata": {},
   "source": [
    "#### Another Example"
   ]
  },
  {
   "cell_type": "code",
   "execution_count": 1027,
   "id": "fa5d1873-cb3f-432b-86a5-4851e9e25729",
   "metadata": {},
   "outputs": [
    {
     "name": "stdout",
     "output_type": "stream",
     "text": [
      "Approximate integral using Simpson's rule: 0.8414893826655623\n"
     ]
    }
   ],
   "source": [
    "def f(x):\n",
    "    return np.cos(x)\n",
    "a = 0  # lower limit\n",
    "b = 1  # upper limit\n",
    "n = 4  # number of subintervals (must be even)\n",
    "result = simpsons_rule(f, a, b, n)\n",
    "print(\"Approximate integral using Simpson's rule:\", result)"
   ]
  },
  {
   "cell_type": "markdown",
   "id": "71fbe167-7957-45bb-ac0f-1e583b693ec0",
   "metadata": {},
   "source": [
    "## Partial Derivatives\n",
    "Partial derivatives are a fundamental concept in multivariable calculus, used to analyze functions of multiple variables. They represent the rate of change of a function with respect to one variable while keeping the other variables constant.\n",
    "\n",
    "Definition\n",
    "For a function \n",
    "𝑓\n",
    "(\n",
    "𝑥\n",
    "1\n",
    ",\n",
    "𝑥\n",
    "2\n",
    ",\n",
    "…\n",
    ",\n",
    "𝑥\n",
    "𝑛\n",
    ")\n",
    "f(x \n",
    "1\n",
    "​\n",
    " ,x \n",
    "2\n",
    "​\n",
    " ,…,x \n",
    "n\n",
    "​\n",
    " ), the partial derivative with respect to a variable \n",
    "𝑥\n",
    "𝑖\n",
    "x \n",
    "i\n",
    "​\n",
    "  is denoted as:\n",
    "\n",
    "![local](images/partial.png)"
   ]
  },
  {
   "cell_type": "markdown",
   "id": "b2a297c5-2c66-4092-a412-d59180778495",
   "metadata": {},
   "source": [
    "- Define the Objective Function"
   ]
  },
  {
   "cell_type": "code",
   "execution_count": 1045,
   "id": "24d626a8-88b6-4cdc-bb8c-a85c36f3b477",
   "metadata": {},
   "outputs": [],
   "source": [
    "def objective_function(x, y):\n",
    "    return 5 * x**2"
   ]
  },
  {
   "cell_type": "markdown",
   "id": "e720de80-7ce3-4314-998b-69ec1a9fed9a",
   "metadata": {},
   "source": [
    "#### Partial derivative wrt x"
   ]
  },
  {
   "cell_type": "code",
   "execution_count": 1048,
   "id": "68c2e66d-b6e4-49fb-9529-b0dff7df4fac",
   "metadata": {},
   "outputs": [],
   "source": [
    "def partial_derivative_x(x, y, h=1e-5):\n",
    "    return (objective_function(x + h, y) - objective_function(x, y)) / h"
   ]
  },
  {
   "cell_type": "markdown",
   "id": "c3ce9bf9-856c-466d-bbae-fe122fe7daf6",
   "metadata": {},
   "source": [
    "- Let's calculate the derivative now"
   ]
  },
  {
   "cell_type": "code",
   "execution_count": 1051,
   "id": "e30d55af-9740-4eeb-8d02-68d0760deb86",
   "metadata": {},
   "outputs": [
    {
     "name": "stdout",
     "output_type": "stream",
     "text": [
      "Partial derivative with respect to x: 10.000050000069649\n"
     ]
    }
   ],
   "source": [
    "x = 1.0 # value at where we want to find the partial derivative of x\n",
    "partial_x = partial_derivative_x(x, y)\n",
    "print(\"Partial derivative with respect to x:\", partial_x)"
   ]
  },
  {
   "cell_type": "markdown",
   "id": "e22f513c-1cf6-4ec7-bfbf-3cf67629d4d1",
   "metadata": {},
   "source": [
    "### Comparing it with analytical solution\n",
    "\n",
    "![local](images/partial1.jpg)"
   ]
  },
  {
   "cell_type": "markdown",
   "id": "b31b6930-5c6b-45ab-a90c-da54163fc162",
   "metadata": {},
   "source": [
    "## Another Example"
   ]
  },
  {
   "cell_type": "code",
   "execution_count": null,
   "id": "ddbbe9b9-4833-400d-a65c-d87bdb11ca6b",
   "metadata": {},
   "outputs": [],
   "source": [
    "# Define the objective function\n",
    "def objective_function(x, y):\n",
    "    return 5 * x**2 - 5 * x * y + 2.5 * y**2 - x - 1.5 * y\n",
    "\n",
    "# Calculate the partial derivative with respect to x\n",
    "def partial_derivative_x(x, y, h=1e-5):\n",
    "    return (objective_function(x + h, y) - objective_function(x, y)) / h\n",
    "\n",
    "# Calculate the partial derivative with respect to y\n",
    "def partial_derivative_y(x, y, h=1e-5):\n",
    "    return (objective_function(x, y + h) - objective_function(x, y)) / h\n",
    "\n",
    "# Example values for x and y\n",
    "x = 1.0\n",
    "y = 2.0\n",
    "\n",
    "# Calculate partial derivatives\n",
    "partial_x = partial_derivative_x(x, y)\n",
    "partial_y = partial_derivative_y(x, y)\n",
    "\n",
    "print(\"Partial derivative with respect to x:\", partial_x)\n",
    "print(\"Partial derivative with respect to y:\", partial_y)"
   ]
  },
  {
   "cell_type": "markdown",
   "id": "6a6d04a0-7d28-478c-a47b-3d860ed9a3b0",
   "metadata": {},
   "source": [
    "### Comparing with analytical solution\n",
    "![local](images/partial2.jpg)\n",
    "![local](images/partial3.jpg)"
   ]
  },
  {
   "cell_type": "markdown",
   "id": "9ea7b525-09c5-4afa-a8e8-23d45b7aea81",
   "metadata": {},
   "source": [
    "## Optimization\n",
    "Optimization is the process of finding the best solution or outcome from a set of possible choices. In mathematics and computational fields, it often involves minimizing or maximizing a function subject to certain constraints.\n",
    "\n",
    "*Key Concepts*\n",
    "Objective Function: The function that needs to be optimized (minimized or maximized). For example, in machine learning, this could be a loss function.\n",
    "\n",
    "- Variables: The parameters or inputs that affect the outcome of the objective function.\n",
    "\n",
    "- Constraints: Conditions that the solution must satisfy. These can be equalities or inequalities.\n",
    "\n",
    "Feasible Region: The set of all possible solutions that satisfy the constraints.\n",
    "\n",
    "*Types of Optimization Problems*\n",
    "##### Unconstrained Optimization: \n",
    "- Optimization problems without any constraints on the variables.\n",
    "\n",
    "Example: Finding the minimum of a quadratic function.\n",
    "Constrained Optimization: Problems that include constraints on the variables.\n",
    "\n",
    "Example: Linear programming problems with inequality constraints."
   ]
  },
  {
   "cell_type": "markdown",
   "id": "721da4f1-54d3-4370-805f-38b6d3aa8ba0",
   "metadata": {},
   "source": [
    "## Newton's Method\n",
    "Newton's Method, also known as the Newton-Raphson method, is an iterative technique used for finding successively better approximations to the roots (or zeroes) of a real-valued function. It is particularly useful in optimization for finding local maxima and minima of functions.\n",
    "\n",
    "Basic Concept\n",
    "The method uses the first and second derivatives of a function to find its stationary points (where the gradient is zero). The idea is to start with an initial guess and iteratively improve it using the function's gradient and curvature.\n",
    "\n",
    "![local](images/newton.png)"
   ]
  },
  {
   "cell_type": "code",
   "execution_count": 1067,
   "id": "36fda7c9-8da1-47cc-857a-ad1792c16a0c",
   "metadata": {},
   "outputs": [
    {
     "name": "stdout",
     "output_type": "stream",
     "text": [
      "Optimal values: [0.5 0.8]\n",
      "Minimum value of the objective function: -0.8499999999999999\n"
     ]
    }
   ],
   "source": [
    "# Define the objective function\n",
    "def objective_function(x, y):\n",
    "    return 5 * x**2 - 5 * x * y + 2.5 * y**2 - x - 1.5 * y\n",
    "\n",
    "# Define the gradient of the objective function\n",
    "def gradient(x, y):\n",
    "    return np.array([10 * x - 5 * y - 1, -5 * x + 5 * y - 1.5])\n",
    "\n",
    "# Define the Hessian (second derivatives) of the objective function\n",
    "def hessian(x, y):\n",
    "    return np.array([[10, -5],\n",
    "                     [-5, 5]])\n",
    "\n",
    "# Project onto the feasible region\n",
    "def project_onto_constraints(x):\n",
    "    x[0] = max(0, x[0])  # x >= 0\n",
    "    x[1] = max(0, x[1])  # y >= 0\n",
    "    if x[0] + x[1] > 2:\n",
    "        scale = (x[0] + x[1]) / 2  # Scale down to satisfy x + y <= 2\n",
    "        x = (x / scale) * 2\n",
    "    return x\n",
    "\n",
    "# Newton's method function\n",
    "def newtons_method(initial_guess, max_iter=100):\n",
    "    x = np.array(initial_guess, dtype=float)\n",
    "\n",
    "    for _ in range(max_iter):\n",
    "        grad = gradient(x[0], x[1])\n",
    "        hess = hessian(x[0], x[1])\n",
    "\n",
    "        # Solve the linear system: Hessian * delta = -gradient\n",
    "        delta = np.linalg.solve(hess, -grad)\n",
    "\n",
    "        # Update the current point\n",
    "        x = x + delta\n",
    "        x = project_onto_constraints(x)  # Project back onto the feasible region\n",
    "\n",
    "    return x\n",
    "\n",
    "# Initial guess\n",
    "initial_guess = [0, 0]\n",
    "\n",
    "# Perform the optimization\n",
    "optimal_solution = newtons_method(initial_guess)\n",
    "optimal_value = objective_function(optimal_solution[0], optimal_solution[1])\n",
    "\n",
    "print(\"Optimal values:\", optimal_solution)\n",
    "print(\"Minimum value of the objective function:\", optimal_value)"
   ]
  },
  {
   "cell_type": "markdown",
   "id": "a47b0f06-6994-4eff-abe1-6283e4602d46",
   "metadata": {},
   "source": [
    "## Another Example.\n",
    "- This Example was the Semester Project of mine. "
   ]
  },
  {
   "cell_type": "markdown",
   "id": "dd602839-01d3-4339-a665-9d849c94c83f",
   "metadata": {},
   "source": [
    "### Problem\n",
    "- Cantilever beam finite element model by identifying the best values of𝒇(𝒙, 𝒚). The objective function 𝒇(𝒙, 𝒚) is defined as follows:\n",
    " `𝒇(𝒙, 𝒚) = 𝟓𝒙^𝟐 − 𝟓𝒙𝒚 + 𝟐. 𝟓𝒚^𝟐 − 𝒙 − 𝟏. 𝟓𝒚 `\n",
    "Where 𝒙 represents the end displacement and 𝒚 represents the end moment\n",
    "\n",
    "![local](images/beam.png)"
   ]
  },
  {
   "cell_type": "markdown",
   "id": "4c500fb2-f62e-48a5-8e20-131a155ab85e",
   "metadata": {},
   "source": [
    "#### Interpreting 𝒙 and 𝒚\n",
    "- 𝒙: Represents the end displacement of the cantilever beam. It quantifies how much the free end of the beam moves from its original position under a given load.\n",
    "- 𝒚: Represents the end moment of the cantilever beam. It characterizes the bending effect or rotational force applied to the free end of the beam.\n"
   ]
  },
  {
   "cell_type": "code",
   "execution_count": 1126,
   "id": "a09ab851-aa12-44d6-aca1-b6cf36b019a1",
   "metadata": {},
   "outputs": [],
   "source": [
    "\n",
    "\n",
    "#symbolic variables x and y\n",
    "x, y = sp.symbols('x y')\n",
    "\n",
    "#our objective function\n",
    "objective_function = 5 * x**2 - 5 * x * y + 2.5 * y**2 - x - 1.5 * y\n",
    "\n",
    "#calculating the first partial derivative\n",
    "df_dx = sp.diff(objective_function, x)\n",
    "df_dy = sp.diff(objective_function, y)\n",
    "\n",
    "#finding the stationary points (solution where gradients are zero, called jacobian)\n",
    "stationary_points = sp.solve([df_dx, df_dy], (x, y))"
   ]
  },
  {
   "cell_type": "code",
   "execution_count": 1128,
   "id": "542dcb62-26b2-448f-8958-db34aa9c018c",
   "metadata": {},
   "outputs": [
    {
     "name": "stdout",
     "output_type": "stream",
     "text": [
      "This shows the minimum values for the objective function\n",
      "{x: 0.50, y: 0.80}\n"
     ]
    }
   ],
   "source": [
    "#calculating second partial derivative\n",
    "df_dx_2 = sp.diff(df_dx, x)\n",
    "df_dy_2 = sp.diff(df_dy, y)\n",
    "df_dxdy = sp.diff(df_dy, x)\n",
    "\n",
    "#calulating the hessian matrix\n",
    "H = df_dx_2*df_dy_2-(df_dxdy)**2\n",
    "\n",
    "#conditions that will check the minimun or maximun\n",
    "if H > 0 and df_dx_2 > 0:\n",
    "    print(\"This shows the minimum values for the objective function\")\n",
    "    rounded_dict = {key: round(value, 2) for key, value in stationary_points.items()}\n",
    "    print(rounded_dict)\n",
    "elif H > 0 and df_dx_2 < 0:\n",
    "    print(\"This shows the maximum values for the objective function\")\n",
    "    rounded_dict = {key: round(value, 2) for key, value in stationary_points.items()}\n",
    "    print(rounded_dict)\n",
    "else:\n",
    "    print(\"unexpected error!\")\n"
   ]
  },
  {
   "cell_type": "markdown",
   "id": "d662cab9-46d3-4054-b6cb-9e3498b0b812",
   "metadata": {},
   "source": [
    "## Analytical Solution"
   ]
  },
  {
   "cell_type": "markdown",
   "id": "ae4b6c5a-4944-4e65-bf1e-2f151f8dc11a",
   "metadata": {},
   "source": [
    "![local](images/ana1.png)"
   ]
  },
  {
   "cell_type": "markdown",
   "id": "26e56b0d-306f-468f-ab06-12c8ccc543f9",
   "metadata": {},
   "source": [
    "![local](images/ana2.png)"
   ]
  }
 ],
 "metadata": {
  "kernelspec": {
   "display_name": "Python 3 (ipykernel)",
   "language": "python",
   "name": "python3"
  },
  "language_info": {
   "codemirror_mode": {
    "name": "ipython",
    "version": 3
   },
   "file_extension": ".py",
   "mimetype": "text/x-python",
   "name": "python",
   "nbconvert_exporter": "python",
   "pygments_lexer": "ipython3",
   "version": "3.12.4"
  }
 },
 "nbformat": 4,
 "nbformat_minor": 5
}
