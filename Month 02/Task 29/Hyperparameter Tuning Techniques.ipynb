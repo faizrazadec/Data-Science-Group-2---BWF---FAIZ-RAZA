{
 "cells": [
  {
   "cell_type": "markdown",
   "id": "344b9154-a1a7-482d-941a-63a54f2aee12",
   "metadata": {},
   "source": [
    "# Hyperparameter Tuning Techniques"
   ]
  },
  {
   "cell_type": "markdown",
   "id": "551c3ac2-67a2-4477-a3ab-f4a3fc7c8b9c",
   "metadata": {},
   "source": [
    "### Import the Dependencies"
   ]
  },
  {
   "cell_type": "code",
   "execution_count": 13,
   "id": "ee740324-d51a-425d-b50b-d3cbeed4e2b1",
   "metadata": {},
   "outputs": [],
   "source": [
    "import pandas as pd\n",
    "from sklearn.datasets import load_iris\n",
    "from sklearn.linear_model import LinearRegression\n",
    "import optuna\n",
    "from sklearn.metrics import root_mean_squared_error, accuracy_score, roc_auc_score\n",
    "from sklearn.model_selection import train_test_split, GridSearchCV, RandomizedSearchCV\n",
    "from sklearn.linear_model import LogisticRegression\n",
    "from sklearn.tree import DecisionTreeClassifier\n",
    "from sklearn.ensemble import RandomForestClassifier\n",
    "from sklearn.svm import SVC\n",
    "from sklearn.neighbors import KNeighborsClassifier\n",
    "from scipy.stats import randint"
   ]
  },
  {
   "cell_type": "markdown",
   "id": "6f68b1bf-24df-4b0e-b9a6-3809f98bdfd5",
   "metadata": {},
   "source": [
    "## Load the dataset"
   ]
  },
  {
   "cell_type": "code",
   "execution_count": 16,
   "id": "21c35c18-8ce3-4105-8d5b-7f2955009cf3",
   "metadata": {},
   "outputs": [],
   "source": [
    "# Load sample data\n",
    "data = load_iris()\n",
    "X = data.data\n",
    "y = data.target\n",
    "\n",
    "# Split data into training and test sets\n",
    "X_train, X_test, y_train, y_test = train_test_split(X, y, test_size=0.3, random_state=0)"
   ]
  },
  {
   "cell_type": "markdown",
   "id": "11ff49b8-bda9-4714-8bd8-98d1601c2759",
   "metadata": {},
   "source": [
    "### LinearRegression"
   ]
  },
  {
   "cell_type": "code",
   "execution_count": 19,
   "id": "6c539535-2e43-43e8-815c-6a33a139a2a7",
   "metadata": {},
   "outputs": [
    {
     "name": "stdout",
     "output_type": "stream",
     "text": [
      "Linear Regression MSE: 0.24262650146330905\n"
     ]
    }
   ],
   "source": [
    "# Initialize and train the model\n",
    "model = LinearRegression()\n",
    "model.fit(X_train, y_train)\n",
    "\n",
    "# Make predictions\n",
    "y_pred = model.predict(X_test)\n",
    "\n",
    "# Evaluate the model\n",
    "linear_regression_mse = root_mean_squared_error(y_test, y_pred)\n",
    "print(f\"Linear Regression MSE: {linear_regression_mse}\")"
   ]
  },
  {
   "cell_type": "markdown",
   "id": "b81759b4-a9b4-426f-8c15-448d2f108ed7",
   "metadata": {},
   "source": [
    "## DecisionTreeClassifier"
   ]
  },
  {
   "cell_type": "code",
   "execution_count": 25,
   "id": "df0c86b9-cf39-4ed2-be16-cf3e78cd9ddc",
   "metadata": {},
   "outputs": [
    {
     "name": "stdout",
     "output_type": "stream",
     "text": [
      "Decision Tree Accuracy: 0.9777777777777777\n"
     ]
    }
   ],
   "source": [
    "# Initialize and train the model\n",
    "model = DecisionTreeClassifier()\n",
    "model.fit(X_train, y_train)\n",
    "\n",
    "# Make predictions\n",
    "y_pred = model.predict(X_test)\n",
    "\n",
    "# Evaluate the model\n",
    "decision_tree_accuracy = accuracy_score(y_test, y_pred)\n",
    "print(f\"Decision Tree Accuracy: {decision_tree_accuracy}\")"
   ]
  },
  {
   "cell_type": "markdown",
   "id": "0349e770-4195-4a00-ae0a-f5d182867f4f",
   "metadata": {},
   "source": [
    "## LogisticRegression"
   ]
  },
  {
   "cell_type": "code",
   "execution_count": 28,
   "id": "1d560eb5-66a8-4272-bbb3-ace97342439b",
   "metadata": {},
   "outputs": [
    {
     "name": "stdout",
     "output_type": "stream",
     "text": [
      "Logistic Regression Accuracy: 0.9777777777777777\n"
     ]
    }
   ],
   "source": [
    "# Initialize and train the model\n",
    "model = LogisticRegression(max_iter=1000)\n",
    "model.fit(X_train, y_train)\n",
    "\n",
    "# Make predictions\n",
    "y_pred = model.predict(X_test)\n",
    "\n",
    "# Evaluate the model\n",
    "logistic_regression_accuracy = accuracy_score(y_test, y_pred)\n",
    "print(f\"Logistic Regression Accuracy: {logistic_regression_accuracy}\")\n"
   ]
  },
  {
   "cell_type": "markdown",
   "id": "578a93b7-c515-4707-851d-92d7d413fad2",
   "metadata": {},
   "source": [
    "## RandomForestClassifier"
   ]
  },
  {
   "cell_type": "code",
   "execution_count": 31,
   "id": "fb983c68-c6ae-4f6b-b855-c0ed4847d67b",
   "metadata": {},
   "outputs": [
    {
     "name": "stdout",
     "output_type": "stream",
     "text": [
      "Random Forest Accuracy: 0.9777777777777777\n"
     ]
    }
   ],
   "source": [
    "# Initialize and train the model\n",
    "model = RandomForestClassifier()\n",
    "model.fit(X_train, y_train)\n",
    "\n",
    "# Make predictions\n",
    "y_pred = model.predict(X_test)\n",
    "\n",
    "# Evaluate the model\n",
    "random_forest_accuracy = accuracy_score(y_test, y_pred)\n",
    "print(f\"Random Forest Accuracy: {random_forest_accuracy}\")\n"
   ]
  },
  {
   "cell_type": "markdown",
   "id": "cc90c67d-9ee6-403d-9790-ad8e1a5a5c05",
   "metadata": {},
   "source": [
    "## SVC"
   ]
  },
  {
   "cell_type": "code",
   "execution_count": 34,
   "id": "8741feef-dba9-464e-9244-8309acedc875",
   "metadata": {},
   "outputs": [
    {
     "name": "stdout",
     "output_type": "stream",
     "text": [
      "SVM Accuracy: 0.9777777777777777\n"
     ]
    }
   ],
   "source": [
    "# Initialize and train the model\n",
    "model = SVC()\n",
    "model.fit(X_train, y_train)\n",
    "\n",
    "# Make predictions\n",
    "y_pred = model.predict(X_test)\n",
    "\n",
    "# Evaluate the model\n",
    "svm_accuracy = accuracy_score(y_test, y_pred)\n",
    "print(f\"SVM Accuracy: {svm_accuracy}\")\n"
   ]
  },
  {
   "cell_type": "code",
   "execution_count": 36,
   "id": "168ad539-4ba7-4dda-a553-690b93456e51",
   "metadata": {},
   "outputs": [],
   "source": [
    "## KNeighborsClassifier"
   ]
  },
  {
   "cell_type": "code",
   "execution_count": 38,
   "id": "d8fe1c8c-fd19-4a48-abaa-31ac840c55f4",
   "metadata": {},
   "outputs": [
    {
     "name": "stdout",
     "output_type": "stream",
     "text": [
      "KNN Accuracy: 0.9777777777777777\n"
     ]
    }
   ],
   "source": [
    "# Initialize and train the model\n",
    "model = KNeighborsClassifier()\n",
    "model.fit(X_train, y_train)\n",
    "\n",
    "# Make predictions\n",
    "y_pred = model.predict(X_test)\n",
    "\n",
    "# Evaluate the model\n",
    "knn_accuracy = accuracy_score(y_test, y_pred)\n",
    "print(f\"KNN Accuracy: {knn_accuracy}\")\n"
   ]
  },
  {
   "cell_type": "markdown",
   "id": "0f1d44a7-8bd8-4e8e-84e2-1cc8e1d8ac09",
   "metadata": {},
   "source": [
    "**GridSearch** is a technique used to systematically search for the best hyperparameters for a given machine learning model. It involves specifying a set of hyperparameters and their possible values, then evaluating the model's performance using all combinations of these values.\n",
    "\n",
    "Here’s how GridSearch works:\n",
    "\n",
    "1. **Define Parameter Grid**: Specify a grid of hyperparameters to search. For instance, if you’re tuning a Random Forest model, you might vary the number of trees (`n_estimators`), the maximum depth of the trees (`max_depth`), and the minimum number of samples required to split a node (`min_samples_split`).\n",
    "\n",
    "2. **Cross-Validation**: Use cross-validation to evaluate the model's performance for each combination of hyperparameters. This helps ensure that the model's performance is robust and not just tuned to a specific training set.\n",
    "\n",
    "3. **Select Best Parameters**: After evaluating all combinations, GridSearch selects the hyperparameters that give the best performance according to the specified metric (e.g., accuracy, F1 score).\n",
    "\n",
    "GridSearch can be computationally expensive, especially with large parameter grids, so it's essential to balance the grid size with computational resources. For a more efficient search, you might consider RandomizedSearchCV, which samples from the parameter grid rather than searching exhaustively."
   ]
  },
  {
   "cell_type": "code",
   "execution_count": 41,
   "id": "48d16807-9ff1-4271-bae5-e2c1055aed44",
   "metadata": {},
   "outputs": [
    {
     "name": "stdout",
     "output_type": "stream",
     "text": [
      "Best Parameters: {'max_depth': None, 'n_estimators': 100}\n",
      "Best Score: 0.9428571428571428\n"
     ]
    }
   ],
   "source": [
    "# Define parameter grid for Random Forest\n",
    "param_grid = {\n",
    "    'n_estimators': [50, 100, 200],\n",
    "    'max_depth': [None, 10, 20]\n",
    "}\n",
    "\n",
    "# Initialize GridSearchCV\n",
    "grid_search = GridSearchCV(RandomForestClassifier(), param_grid, cv=5)\n",
    "grid_search.fit(X_train, y_train)\n",
    "\n",
    "# Best parameters and score\n",
    "print(f\"Best Parameters: {grid_search.best_params_}\")\n",
    "print(f\"Best Score: {grid_search.best_score_}\")\n"
   ]
  },
  {
   "cell_type": "markdown",
   "id": "c0adf1f1-1a84-41ca-84ec-0de76d3cbb6e",
   "metadata": {},
   "source": [
    "**RandomizedSearchCV** is a more efficient alternative to GridSearchCV for hyperparameter tuning. Instead of trying every possible combination of hyperparameters, RandomizedSearchCV samples a fixed number of hyperparameter combinations from specified distributions. This approach can save time and computational resources, especially when dealing with large parameter spaces.\n",
    "\n",
    "Here’s how RandomizedSearchCV works:\n",
    "\n",
    "1. **Define Parameter Distributions**: Instead of specifying exact values for hyperparameters, you provide distributions or lists of possible values. RandomizedSearchCV will sample from these distributions.\n",
    "\n",
    "2. **Specify Number of Iterations**: You choose how many different combinations of hyperparameters you want to try. This is controlled by the `n_iter` parameter.\n",
    "\n",
    "3. **Cross-Validation**: Similar to GridSearchCV, RandomizedSearchCV uses cross-validation to evaluate the performance of each combination of hyperparameters.\n",
    "\n",
    "4. **Select Best Parameters**: After sampling and evaluating, RandomizedSearchCV selects the hyperparameters that yield the best performance according to the specified metric.\n",
    "\n",
    "RandomizedSearchCV is often faster than GridSearchCV because it doesn’t exhaustively search through all combinations. Instead, it samples a subset, which can be particularly useful when dealing with large datasets or complex models."
   ]
  },
  {
   "cell_type": "code",
   "execution_count": 43,
   "id": "b2417475-620a-4644-9ec2-d5968e52cbe4",
   "metadata": {},
   "outputs": [
    {
     "name": "stdout",
     "output_type": "stream",
     "text": [
      "Best Parameters: {'max_depth': None, 'n_estimators': 108}\n",
      "Best Score: 0.9523809523809523\n"
     ]
    }
   ],
   "source": [
    "# Define parameter distributions for Random Forest\n",
    "param_dist = {\n",
    "    'n_estimators': randint(50, 200),\n",
    "    'max_depth': [None, 10, 20, 30]\n",
    "}\n",
    "\n",
    "# Initialize RandomizedSearchCV\n",
    "random_search = RandomizedSearchCV(RandomForestClassifier(), param_distributions=param_dist, n_iter=10, cv=5, random_state=0)\n",
    "random_search.fit(X_train, y_train)\n",
    "\n",
    "# Best parameters and score\n",
    "print(f\"Best Parameters: {random_search.best_params_}\")\n",
    "print(f\"Best Score: {random_search.best_score_}\")\n"
   ]
  },
  {
   "cell_type": "code",
   "execution_count": 44,
   "id": "24096f7c-ec26-416c-a429-45f5b990b48e",
   "metadata": {},
   "outputs": [
    {
     "name": "stderr",
     "output_type": "stream",
     "text": [
      "[I 2024-07-28 01:07:19,570] A new study created in memory with name: no-name-7a0be927-8540-4c50-9c75-b630b30d8a92\n",
      "[I 2024-07-28 01:07:19,937] Trial 0 finished with value: 0.9777777777777777 and parameters: {'n_estimators': 194, 'max_depth': None}. Best is trial 0 with value: 0.9777777777777777.\n",
      "[I 2024-07-28 01:07:20,104] Trial 1 finished with value: 0.9777777777777777 and parameters: {'n_estimators': 103, 'max_depth': None}. Best is trial 0 with value: 0.9777777777777777.\n",
      "[I 2024-07-28 01:07:20,279] Trial 2 finished with value: 0.9777777777777777 and parameters: {'n_estimators': 105, 'max_depth': None}. Best is trial 0 with value: 0.9777777777777777.\n",
      "[I 2024-07-28 01:07:20,546] Trial 3 finished with value: 0.9777777777777777 and parameters: {'n_estimators': 172, 'max_depth': 10}. Best is trial 0 with value: 0.9777777777777777.\n",
      "[I 2024-07-28 01:07:20,750] Trial 4 finished with value: 0.9777777777777777 and parameters: {'n_estimators': 122, 'max_depth': 20}. Best is trial 0 with value: 0.9777777777777777.\n",
      "[I 2024-07-28 01:07:20,959] Trial 5 finished with value: 0.9777777777777777 and parameters: {'n_estimators': 129, 'max_depth': None}. Best is trial 0 with value: 0.9777777777777777.\n",
      "[I 2024-07-28 01:07:21,246] Trial 6 finished with value: 0.9777777777777777 and parameters: {'n_estimators': 183, 'max_depth': 10}. Best is trial 0 with value: 0.9777777777777777.\n",
      "[I 2024-07-28 01:07:21,420] Trial 7 finished with value: 0.9777777777777777 and parameters: {'n_estimators': 96, 'max_depth': 20}. Best is trial 0 with value: 0.9777777777777777.\n",
      "[I 2024-07-28 01:07:21,589] Trial 8 finished with value: 0.9777777777777777 and parameters: {'n_estimators': 98, 'max_depth': None}. Best is trial 0 with value: 0.9777777777777777.\n",
      "[I 2024-07-28 01:07:21,802] Trial 9 finished with value: 0.9777777777777777 and parameters: {'n_estimators': 127, 'max_depth': 20}. Best is trial 0 with value: 0.9777777777777777.\n",
      "[I 2024-07-28 01:07:21,914] Trial 10 finished with value: 0.9777777777777777 and parameters: {'n_estimators': 59, 'max_depth': 30}. Best is trial 0 with value: 0.9777777777777777.\n",
      "[I 2024-07-28 01:07:22,185] Trial 11 finished with value: 0.9777777777777777 and parameters: {'n_estimators': 164, 'max_depth': None}. Best is trial 0 with value: 0.9777777777777777.\n",
      "[I 2024-07-28 01:07:22,508] Trial 12 finished with value: 0.9777777777777777 and parameters: {'n_estimators': 200, 'max_depth': None}. Best is trial 0 with value: 0.9777777777777777.\n",
      "[I 2024-07-28 01:07:22,630] Trial 13 finished with value: 0.9777777777777777 and parameters: {'n_estimators': 64, 'max_depth': 30}. Best is trial 0 with value: 0.9777777777777777.\n",
      "[I 2024-07-28 01:07:22,871] Trial 14 finished with value: 0.9777777777777777 and parameters: {'n_estimators': 147, 'max_depth': None}. Best is trial 0 with value: 0.9777777777777777.\n",
      "[I 2024-07-28 01:07:23,012] Trial 15 finished with value: 0.9777777777777777 and parameters: {'n_estimators': 79, 'max_depth': None}. Best is trial 0 with value: 0.9777777777777777.\n",
      "[I 2024-07-28 01:07:23,267] Trial 16 finished with value: 0.9777777777777777 and parameters: {'n_estimators': 151, 'max_depth': None}. Best is trial 0 with value: 0.9777777777777777.\n",
      "[I 2024-07-28 01:07:23,419] Trial 17 finished with value: 0.9777777777777777 and parameters: {'n_estimators': 84, 'max_depth': 30}. Best is trial 0 with value: 0.9777777777777777.\n",
      "[I 2024-07-28 01:07:23,739] Trial 18 finished with value: 0.9777777777777777 and parameters: {'n_estimators': 198, 'max_depth': 10}. Best is trial 0 with value: 0.9777777777777777.\n",
      "[I 2024-07-28 01:07:23,935] Trial 19 finished with value: 0.9777777777777777 and parameters: {'n_estimators': 112, 'max_depth': None}. Best is trial 0 with value: 0.9777777777777777.\n"
     ]
    },
    {
     "name": "stdout",
     "output_type": "stream",
     "text": [
      "Best Parameters: {'n_estimators': 194, 'max_depth': None}\n",
      "Best Score: 0.9777777777777777\n"
     ]
    }
   ],
   "source": [
    "def objective(trial):\n",
    "    n_estimators = trial.suggest_int('n_estimators', 50, 200)\n",
    "    max_depth = trial.suggest_categorical('max_depth', [None, 10, 20, 30])\n",
    "    \n",
    "    model = RandomForestClassifier(n_estimators=n_estimators, max_depth=max_depth)\n",
    "    model.fit(X_train, y_train)\n",
    "    \n",
    "    y_pred = model.predict(X_test)\n",
    "    accuracy = accuracy_score(y_test, y_pred)\n",
    "    \n",
    "    return accuracy\n",
    "\n",
    "# Create and run the study\n",
    "study = optuna.create_study(direction='maximize')\n",
    "study.optimize(objective, n_trials=20)\n",
    "\n",
    "print(f\"Best Parameters: {study.best_params}\")\n",
    "print(f\"Best Score: {study.best_value}\")\n"
   ]
  },
  {
   "cell_type": "markdown",
   "id": "e3d6c3eb-e91b-41ce-8fa3-af0462f51d5b",
   "metadata": {},
   "source": [
    "# Comparing of Models"
   ]
  },
  {
   "cell_type": "code",
   "execution_count": 46,
   "id": "99863873-902c-4da7-81ba-6878f5b60cc3",
   "metadata": {},
   "outputs": [
    {
     "data": {
      "image/png": "[encoded data removed]",
      "text/plain": [
       "<Figure size 1000x600 with 1 Axes>"
      ]
     },
     "metadata": {},
     "output_type": "display_data"
    }
   ],
   "source": [
    "import matplotlib.pyplot as plt\n",
    "\n",
    "models = ['Linear Regression', 'Logistic Regression', 'Decision Tree', 'Random Forest', 'SVM', 'KNN']\n",
    "scores = [linear_regression_mse, logistic_regression_accuracy, decision_tree_accuracy, random_forest_accuracy, svm_accuracy, knn_accuracy]\n",
    "\n",
    "plt.figure(figsize=(10, 6))\n",
    "plt.bar(models, scores)\n",
    "plt.xlabel('Models')\n",
    "plt.ylabel('Scores')\n",
    "plt.title('Model Performance Comparison')\n",
    "plt.xticks(rotation=45)\n",
    "plt.show()\n"
   ]
  },
  {
   "cell_type": "markdown",
   "id": "ec69c2b1-07bf-42d7-88c0-0dc7dfa32d52",
   "metadata": {},
   "source": [
    "# Another Example"
   ]
  },
  {
   "cell_type": "code",
   "execution_count": 48,
   "id": "aa1389a8-eea7-4dd1-9360-67fffe833680",
   "metadata": {},
   "outputs": [
    {
     "name": "stdout",
     "output_type": "stream",
     "text": [
      "Training and tuning Logistic Regression...\n",
      "Training and tuning Decision Tree...\n",
      "Training and tuning Random Forest...\n"
     ]
    },
    {
     "name": "stderr",
     "output_type": "stream",
     "text": [
      "[I 2024-07-28 01:07:34,551] A new study created in memory with name: no-name-be8715ba-d316-4c3e-bba0-91c0a6c7a270\n"
     ]
    },
    {
     "name": "stdout",
     "output_type": "stream",
     "text": [
      "Training and tuning SVM...\n",
      "Training and tuning KNN...\n",
      "                 Model                            Best Parameters  Best Score  \\\n",
      "0  Logistic Regression                                   {'C': 1}    0.952381   \n",
      "1        Decision Tree  {'max_depth': 10, 'min_samples_split': 5}    0.961905   \n",
      "2        Random Forest   {'max_depth': None, 'n_estimators': 100}    0.942857   \n",
      "3                  SVM               {'C': 1, 'kernel': 'linear'}    0.971429   \n",
      "4                  KNN   {'n_neighbors': 5, 'weights': 'uniform'}    0.961905   \n",
      "\n",
      "   Test Accuracy   ROC AUC  \n",
      "0       0.977778  0.996846  \n",
      "1       0.977778  0.996846  \n",
      "2       0.977778  0.993691  \n",
      "3       0.977778  0.996846  \n",
      "4       0.977778  0.984262  \n"
     ]
    },
    {
     "name": "stderr",
     "output_type": "stream",
     "text": [
      "[I 2024-07-28 01:07:34,765] Trial 0 finished with value: 0.9777777777777777 and parameters: {'n_estimators': 96, 'max_depth': None}. Best is trial 0 with value: 0.9777777777777777.\n",
      "[I 2024-07-28 01:07:35,071] Trial 1 finished with value: 0.9777777777777777 and parameters: {'n_estimators': 138, 'max_depth': None}. Best is trial 0 with value: 0.9777777777777777.\n",
      "[I 2024-07-28 01:07:35,448] Trial 2 finished with value: 0.9777777777777777 and parameters: {'n_estimators': 181, 'max_depth': None}. Best is trial 0 with value: 0.9777777777777777.\n",
      "[I 2024-07-28 01:07:35,786] Trial 3 finished with value: 0.9777777777777777 and parameters: {'n_estimators': 146, 'max_depth': 10}. Best is trial 0 with value: 0.9777777777777777.\n",
      "[I 2024-07-28 01:07:36,137] Trial 4 finished with value: 0.9777777777777777 and parameters: {'n_estimators': 170, 'max_depth': 20}. Best is trial 0 with value: 0.9777777777777777.\n",
      "[I 2024-07-28 01:07:36,400] Trial 5 finished with value: 0.9777777777777777 and parameters: {'n_estimators': 131, 'max_depth': 10}. Best is trial 0 with value: 0.9777777777777777.\n",
      "[I 2024-07-28 01:07:36,698] Trial 6 finished with value: 0.9777777777777777 and parameters: {'n_estimators': 149, 'max_depth': None}. Best is trial 0 with value: 0.9777777777777777.\n",
      "[I 2024-07-28 01:07:36,852] Trial 7 finished with value: 0.9777777777777777 and parameters: {'n_estimators': 75, 'max_depth': None}. Best is trial 0 with value: 0.9777777777777777.\n",
      "[I 2024-07-28 01:07:37,124] Trial 8 finished with value: 0.9777777777777777 and parameters: {'n_estimators': 167, 'max_depth': 20}. Best is trial 0 with value: 0.9777777777777777.\n",
      "[I 2024-07-28 01:07:37,441] Trial 9 finished with value: 0.9777777777777777 and parameters: {'n_estimators': 174, 'max_depth': 20}. Best is trial 0 with value: 0.9777777777777777.\n",
      "[I 2024-07-28 01:07:37,579] Trial 10 finished with value: 0.9777777777777777 and parameters: {'n_estimators': 79, 'max_depth': None}. Best is trial 0 with value: 0.9777777777777777.\n",
      "[I 2024-07-28 01:07:37,793] Trial 11 finished with value: 0.9777777777777777 and parameters: {'n_estimators': 99, 'max_depth': None}. Best is trial 0 with value: 0.9777777777777777.\n",
      "[I 2024-07-28 01:07:38,030] Trial 12 finished with value: 0.9777777777777777 and parameters: {'n_estimators': 108, 'max_depth': None}. Best is trial 0 with value: 0.9777777777777777.\n",
      "[I 2024-07-28 01:07:38,250] Trial 13 finished with value: 0.9777777777777777 and parameters: {'n_estimators': 105, 'max_depth': None}. Best is trial 0 with value: 0.9777777777777777.\n",
      "[I 2024-07-28 01:07:38,386] Trial 14 finished with value: 0.9777777777777777 and parameters: {'n_estimators': 60, 'max_depth': None}. Best is trial 0 with value: 0.9777777777777777.\n",
      "[I 2024-07-28 01:07:38,641] Trial 15 finished with value: 0.9777777777777777 and parameters: {'n_estimators': 123, 'max_depth': 10}. Best is trial 0 with value: 0.9777777777777777.\n",
      "[I 2024-07-28 01:07:38,821] Trial 16 finished with value: 0.9777777777777777 and parameters: {'n_estimators': 88, 'max_depth': None}. Best is trial 0 with value: 0.9777777777777777.\n",
      "[I 2024-07-28 01:07:38,944] Trial 17 finished with value: 0.9777777777777777 and parameters: {'n_estimators': 50, 'max_depth': None}. Best is trial 0 with value: 0.9777777777777777.\n",
      "[I 2024-07-28 01:07:39,210] Trial 18 finished with value: 0.9777777777777777 and parameters: {'n_estimators': 125, 'max_depth': 10}. Best is trial 0 with value: 0.9777777777777777.\n",
      "[I 2024-07-28 01:07:39,615] Trial 19 finished with value: 0.9777777777777777 and parameters: {'n_estimators': 197, 'max_depth': 20}. Best is trial 0 with value: 0.9777777777777777.\n"
     ]
    },
    {
     "name": "stdout",
     "output_type": "stream",
     "text": [
      "Bayesian Optimization Best Parameters: {'n_estimators': 96, 'max_depth': None}\n",
      "Bayesian Optimization Best Score: 0.9777777777777777\n"
     ]
    }
   ],
   "source": [
    "# Load sample data\n",
    "data = load_iris()\n",
    "X = data.data\n",
    "y = data.target\n",
    "\n",
    "# Split data into training and test sets\n",
    "X_train, X_test, y_train, y_test = train_test_split(X, y, test_size=0.3, random_state=0)\n",
    "\n",
    "# Define models and parameter grids\n",
    "models = {\n",
    "    'Logistic Regression': {\n",
    "        'model': LogisticRegression(max_iter=10000),\n",
    "        'param_grid': {\n",
    "            'C': [0.01, 0.1, 1, 10]\n",
    "        }\n",
    "    },\n",
    "    'Decision Tree': {\n",
    "        'model': DecisionTreeClassifier(),\n",
    "        'param_grid': {\n",
    "            'max_depth': [None, 10, 20],\n",
    "            'min_samples_split': [2, 5, 10]\n",
    "        }\n",
    "    },\n",
    "    'Random Forest': {\n",
    "        'model': RandomForestClassifier(),\n",
    "        'param_grid': {\n",
    "            'n_estimators': [50, 100, 200],\n",
    "            'max_depth': [None, 10, 20]\n",
    "        }\n",
    "    },\n",
    "    'SVM': {\n",
    "        'model': SVC(probability=True),\n",
    "        'param_grid': {\n",
    "            'C': [0.1, 1, 10],\n",
    "            'kernel': ['linear', 'rbf']\n",
    "        }\n",
    "    },\n",
    "    'KNN': {\n",
    "        'model': KNeighborsClassifier(),\n",
    "        'param_grid': {\n",
    "            'n_neighbors': [3, 5, 7],\n",
    "            'weights': ['uniform', 'distance']\n",
    "        }\n",
    "    }\n",
    "}\n",
    "\n",
    "# Function to run hyperparameter tuning\n",
    "def tune_model(model, param_grid, X_train, y_train):\n",
    "    grid_search = GridSearchCV(model, param_grid, cv=5)\n",
    "    grid_search.fit(X_train, y_train)\n",
    "    return grid_search.best_estimator_, grid_search.best_params_, grid_search.best_score_\n",
    "\n",
    "# Function to evaluate models\n",
    "def evaluate_model(model, X_test, y_test):\n",
    "    y_pred = model.predict(X_test)\n",
    "    \n",
    "    # Check if the model has predict_proba method\n",
    "    if hasattr(model, 'predict_proba'):\n",
    "        y_prob = model.predict_proba(X_test)\n",
    "        \n",
    "        # Binary classification\n",
    "        if y_prob.shape[1] == 2:\n",
    "            roc_auc = roc_auc_score(y_test, y_prob[:, 1])\n",
    "        # Multi-class classification\n",
    "        else:\n",
    "            # Use one-vs-rest for multi-class ROC AUC\n",
    "            roc_auc = roc_auc_score(y_test, y_prob, multi_class='ovr')\n",
    "        \n",
    "        accuracy = accuracy_score(y_test, y_pred)\n",
    "        return accuracy, roc_auc\n",
    "    else:\n",
    "        accuracy = accuracy_score(y_test, y_pred)\n",
    "        return accuracy, None\n",
    "\n",
    "# Results storage\n",
    "results = []\n",
    "\n",
    "# Loop through models\n",
    "for model_name, model_info in models.items():\n",
    "    print(f\"Training and tuning {model_name}...\")\n",
    "    \n",
    "    # Fit model\n",
    "    model = model_info['model']\n",
    "    param_grid = model_info['param_grid']\n",
    "    \n",
    "    # Hyperparameter tuning\n",
    "    best_model, best_params, best_score = tune_model(model, param_grid, X_train, y_train)\n",
    "    \n",
    "    # Evaluate model\n",
    "    accuracy, roc_auc = evaluate_model(best_model, X_test, y_test)\n",
    "    \n",
    "    # Store results\n",
    "    results.append({\n",
    "        'Model': model_name,\n",
    "        'Best Parameters': best_params,\n",
    "        'Best Score': best_score,\n",
    "        'Test Accuracy': accuracy,\n",
    "        'ROC AUC': roc_auc\n",
    "    })\n",
    "\n",
    "# Convert results to DataFrame\n",
    "results_df = pd.DataFrame(results)\n",
    "print(results_df)\n",
    "\n",
    "# Optional: Use Bayesian Optimization for additional tuning\n",
    "def objective(trial):\n",
    "    model = RandomForestClassifier(\n",
    "        n_estimators=trial.suggest_int('n_estimators', 50, 200),\n",
    "        max_depth=trial.suggest_categorical('max_depth', [None, 10, 20])\n",
    "    )\n",
    "    model.fit(X_train, y_train)\n",
    "    accuracy = accuracy_score(y_test, model.predict(X_test))\n",
    "    return accuracy\n",
    "\n",
    "\n",
    "study = optuna.create_study(direction='maximize')\n",
    "study.optimize(objective, n_trials=20)\n",
    "print(f\"Bayesian Optimization Best Parameters: {study.best_params}\")\n",
    "print(f\"Bayesian Optimization Best Score: {study.best_value}\")\n"
   ]
  }
 ],
 "metadata": {
  "kernelspec": {
   "display_name": "Python 3 (ipykernel)",
   "language": "python",
   "name": "python3"
  },
  "language_info": {
   "codemirror_mode": {
    "name": "ipython",
    "version": 3
   },
   "file_extension": ".py",
   "mimetype": "text/x-python",
   "name": "python",
   "nbconvert_exporter": "python",
   "pygments_lexer": "ipython3",
   "version": "3.12.4"
  }
 },
 "nbformat": 4,
 "nbformat_minor": 5
}
