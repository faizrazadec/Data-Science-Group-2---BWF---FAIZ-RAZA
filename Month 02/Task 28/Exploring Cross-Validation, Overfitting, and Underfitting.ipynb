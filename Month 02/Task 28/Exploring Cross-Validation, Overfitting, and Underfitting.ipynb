{
 "cells": [
  {
   "cell_type": "markdown",
   "id": "60e26883-d25c-4a56-9285-ba777ca39a75",
   "metadata": {},
   "source": [
    "# Exploring Cross-Validation, Overfitting, and Underfitting"
   ]
  },
  {
   "cell_type": "markdown",
   "id": "269c6843-c62b-4b93-a799-e6db7a2dc49b",
   "metadata": {},
   "source": [
    "## Overfiting"
   ]
  },
  {
   "cell_type": "markdown",
   "id": "c51ffcf8-59f0-4a9f-90b5-f1abc783b754",
   "metadata": {},
   "source": [
    "Overfitting refers to a model that models the training data too well.\n",
    "\n",
    "Overfitting happens when a model learns the detail and noise in the training data to the extent that it negatively impacts the performance of the model on new data. This means that the noise or random fluctuations in the training data is picked up and learned as concepts by the model. The problem is that these concepts do not apply to new data and negatively impact the models ability to generalize.\n",
    "\n",
    "Overfitting is more likely with nonparametric and nonlinear models that have more flexibility when learning a target function. As such, many nonparametric machine learning algorithms also include parameters or techniques to limit and constrain how much detail the model learns.\n",
    "\n",
    "`For example`, decision trees are a nonparametric machine learning algorithm that is very flexible and is subject to overfitting training data. This problem can be addressed by pruning a tree after it has learned in order to remove some of the detail it has picked up.\n",
    "\n",
    "\n",
    "![online](data:image/png;base64,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)"
   ]
  },
  {
   "cell_type": "markdown",
   "id": "ca04abb6-14ad-4a3a-9b7b-8b6d66040ff5",
   "metadata": {},
   "source": [
    "Just as in the graph, our model is fitted in such a way that it `learned everything` from the training portion, and perfectly learning. But when we test the model the model failed to perdict it corectly because it was overfit it couldn't give us the correct prediction\n",
    "\n",
    "![local](images/over.png)"
   ]
  },
  {
   "cell_type": "markdown",
   "id": "ec2f7b8c-6e64-4085-88b3-36fe2db7e036",
   "metadata": {},
   "source": [
    "Now let's interpret graph, you can see the regression is done in such a nice way, that it learned all the point that was in the training side. and there's no error,\n",
    "but suppose \n",
    "\n",
    "![Local](images/overim.png)\n",
    "\n",
    "\n",
    "The `red point` is the unseen data and we want to get the prediction of this point and we are so excited that our model is learned everything, but when you see on the `gray lines`, it tell you that the model is predicted the wrong value, cause the `variance` between the two points are high to the regression on which the model is trained is showing the ripple. so the model is predicting wrong. \n",
    "\n",
    "This Porblem is also known as the `high variance`, vairance is the variation from the mean of the points, as we see that the variance between the two tarined points was so high so the model was predicting wrong output."
   ]
  },
  {
   "cell_type": "markdown",
   "id": "35355659-3ddb-47cc-842b-4c81a07970c5",
   "metadata": {},
   "source": [
    "## How to over come this Over fitting"
   ]
  },
  {
   "cell_type": "markdown",
   "id": "132d2090-70be-46bf-a5c9-dd11285247d9",
   "metadata": {},
   "source": [
    "To over come the high varaice we ususally simplify our model, cause it was our model too complex that learned everything of the training set.\n",
    "in addition we use more data, cause using more data gives our model the draw back to not learned everything completely. \n",
    "rest techniques are shown below"
   ]
  },
  {
   "cell_type": "markdown",
   "id": "6e35038f-3706-4f1e-8db4-9f801cdf9ba5",
   "metadata": {},
   "source": [
    "Overfitting occurs when a model learns not just the underlying patterns in the training data but also the noise, leading to poor generalization to new, unseen data. Here are some strategies to overcome overfitting:\n",
    "\n",
    "### 1. **Use More Data**\n",
    "   - **Description**: Adding more training samples can help the model learn more general patterns and reduce overfitting.\n",
    "   - **Application**: Collect more data or use data augmentation techniques to artificially expand your dataset.\n",
    "\n",
    "### 2. **Feature Selection**\n",
    "   - **Description**: Reducing the number of features can help prevent the model from learning noise.\n",
    "   - **Application**: Use techniques like correlation analysis, feature importance from models, or feature selection algorithms (e.g., Recursive Feature Elimination) to keep only the most relevant features.\n",
    "\n",
    "### 3. **Regularization**\n",
    "   - **Description**: Regularization techniques add a penalty to the model for having large coefficients, which can reduce overfitting.\n",
    "   - **Application**:\n",
    "     - **L1 Regularization (Lasso)**: Adds a penalty proportional to the absolute value of coefficients.\n",
    "     - **L2 Regularization (Ridge)**: Adds a penalty proportional to the square of coefficients.\n",
    "     - **Elastic Net**: Combines both L1 and L2 regularization.\n",
    "\n",
    "### 4. **Cross-Validation**\n",
    "   - **Description**: Cross-validation helps ensure that the model performs well on different subsets of the data.\n",
    "   - **Application**: Use techniques like k-fold cross-validation to evaluate the model on multiple splits of the data.\n",
    "\n",
    "### 5. **Pruning**\n",
    "   - **Description**: In decision trees and ensemble methods, pruning helps reduce the complexity of the model.\n",
    "   - **Application**: Limit the maximum depth of the tree, or set minimum samples for a split or leaf.\n",
    "\n",
    "### 6. **Dropout**\n",
    "   - **Description**: Dropout randomly drops neurons during training to prevent the network from relying too heavily on any one neuron.\n",
    "   - **Application**: Common in neural networks and deep learning models.\n",
    "\n",
    "### 7. **Early Stopping**\n",
    "   - **Description**: Stop training when the performance on a validation set starts to degrade.\n",
    "   - **Application**: Use early stopping criteria during model training.\n",
    "\n",
    "\n",
    "### 8. **Ensemble Methods**\n",
    "   - **Description**: Combining predictions from multiple models can reduce overfitting and improve generalization.\n",
    "   - **Application**: Use techniques like bagging (e.g., Random Forest) or boosting (e.g., Gradient Boosting).\n",
    "\n",
    "### 9. **Simplify the Model**\n",
    "   - **Description**: Use simpler models with fewer parameters if the model is too complex for the data.\n",
    "   - **Application**: Opt for models with fewer parameters or lower capacity.\n",
    "\n",
    "Choosing the right combination of these techniques depends on the specific problem and data characteristics. Experimenting with different methods and validating their impact on model performance is key to overcoming overfitting."
   ]
  },
  {
   "cell_type": "markdown",
   "id": "243633ae-b670-415d-b5eb-866732fd3344",
   "metadata": {},
   "source": [
    "## Underfitting\n",
    "Underfitting refers to a model that can neither model the training data nor generalize to new data.\r\n",
    "\r\n",
    "An underfit machine learning model is not a suitable model and will be obvious as it will have poor performance on the training data.\r\n",
    "\r\n",
    "Underfitting is often not discussed as it is easy to detect given a good performance metric. The remedy is to move on and try alternate machine learning algorithms. Nevertheless, it does provide a good contrast to the problem of overfit\n",
    "\n",
    "\n",
    "\n",
    "tingsome of the detail it has picked up.\r\n",
    "\r\n",
    "Underfitting in Machine Learning\r\n"
   ]
  },
  {
   "cell_type": "markdown",
   "id": "95cbec1e-c7d2-45d9-aac6-434857aa4a6e",
   "metadata": {},
   "source": [
    "![local](images/under.png)"
   ]
  },
  {
   "cell_type": "markdown",
   "id": "fd11f3ff-b5e0-4508-9e79-77e7230abb16",
   "metadata": {},
   "source": [
    "As we see in the graph, we have just the `straingt line` which is of the linear regression, but our data isn't for linear regreasion, Linear regression is one of the simplest model for regression. \n",
    "\n",
    "- so in under fitting the model is unable to `learn thing properly` so how possilble model can predict the unseen data correctly, the reason of under fittling is low data, simple modle for the data. this is also called the `high bias` as we see that the model is biased to one side, it'll not correctly predict the values."
   ]
  },
  {
   "cell_type": "markdown",
   "id": "a9e37b38-f3c6-4793-9583-72cb5c41bef1",
   "metadata": {},
   "source": [
    "![local](images/underim.png)"
   ]
  },
  {
   "cell_type": "markdown",
   "id": "a60e80e8-124d-4c13-b503-64ec864cf54d",
   "metadata": {},
   "source": [
    "Let's interpret this graph, as we see the model is under fit so unable to `predict` correctly, if we have unseen data at the `purpule dot`, the model will predict it wrong and with the `high error`, you can see the gray lines, it tells the correct values of the prediction. rove the model's ability to capture the underlying patterns in the data and reduce underfitting."
   ]
  },
  {
   "cell_type": "markdown",
   "id": "b6112f49-dcb4-4d89-b620-f3dc9aed8de2",
   "metadata": {},
   "source": [
    "## How to over come the under fitting model,\n",
    "- One techinque is to decrese the data, but it's not possiblein every case,\n",
    "- use the complex model\n",
    "\n",
    "Underfitting occurs when a model is too simple to capture the underlying patterns in the data, leading to poor performance on both the training and test sets. Here are some strategies to address underfitting:\n",
    "\n",
    "### 1. **Increase Model Complexity**\n",
    "   - **Description**: Use a more complex model that can capture more intricate patterns in the data.\n",
    "   - **Application**:\n",
    "     - **Polynomial Features**: For linear models, adding polynomial features can increase model complexity.\n",
    "     - **Deeper Neural Networks**: For neural networks, adding more layers or neurons can help.\n",
    "\n",
    "### 2. **Add More Features**\n",
    "   - **Description**: Including more relevant features can help the model learn more from the data.\n",
    "   - **Application**: Feature engineering to create new features or incorporating additional data.\n",
    "\n",
    "### 3. **Decrease Regularization**\n",
    "   - **Description**: Regularization adds a penalty to model complexity, which can contribute to underfitting if too strong.\n",
    "   - **Application**: Reduce the regularization parameter.\n",
    "\n",
    "### 4. **Increase Training Time**\n",
    "   - **Description**: In iterative models, more training time may help the model learn better.\n",
    "   - **Application**: Increase the number of epochs or iterations in training.\n",
    "\n",
    "### 5. **Improve Feature Engineering**\n",
    "   - **Description**: Better feature engineering can provide more relevant information to the model.\n",
    "   - **Application**: Create new features or transform existing ones to capture more information.\n",
    "\n",
    "### 6. **Tune Hyperparameters**\n",
    "   - **Description**: Adjusting hyperparameters can improve model performance.\n",
    "   - **Application**: Use techniques like grid search or random search to find optimal hyperparameters.\n",
    "\n",
    "### 7. **Use a Different Model**\n",
    "   - **Description**: Sometimes a different model might better capture the data's underlying patterns.\n",
    "   - **Application**: Experiment with different algorithms (e.g., switching from linear regression to decision trees).\n",
    "\n",
    "### 8. **Ensure Sufficient Data**\n",
    "   - **Description**: Sometimes, underfitting can occur if there is not enough data to train a complex model.\n",
    "   - **Application**: Collect more data or use data augmentation techniques.\n",
    "\n",
    "### 9. **Validate Data Quality**\n",
    "   - **Description**: Poor quality data can contribute to underfitting. Ensure that data is clean and relevant.\n",
    "   - **Application**: Perform data cleaning and preprocessing.\n",
    "\n",
    "By applying these strategies, you can improve the model's ability to capture the underlying patterns in the data and reduce underfitting."
   ]
  },
  {
   "cell_type": "markdown",
   "id": "36522c12-2bb1-4fec-b6fd-40977371f9d1",
   "metadata": {},
   "source": [
    "# Cross Validation"
   ]
  },
  {
   "cell_type": "markdown",
   "id": "9ee4db79-edb8-423a-95dd-4b57ba59429d",
   "metadata": {},
   "source": [
    "Cross validation is a technique used in machine learning to evaluate the performance of a model on unseen data. It involves dividing the available data into multiple folds or subsets, using one of these folds as a validation set, and training the model on the remaining folds. This process is repeated multiple times, each time using a different fold as the validation set. Finally, the results from each validation step are averaged to produce a more robust estimate of the model’s performance. Cross validation is an important step in the machine learning process and helps to ensure that the model selected for deployment is robust and generalizes well to new data."
   ]
  },
  {
   "cell_type": "markdown",
   "id": "231b9d59-f240-407d-a30a-1f2cf38fd1fd",
   "metadata": {},
   "source": [
    "![online](https://www.sharpsightlabs.com/wp-content/uploads/2024/02/cross-validation-explained_FEATURED-IMAGE.png)"
   ]
  },
  {
   "cell_type": "markdown",
   "id": "dae44c98-9167-4506-a9f8-674712127b2c",
   "metadata": {},
   "source": [
    "The cross validation increase the model performance, it even helps to affect the underfitting and overfitting, the high variance and the high bias problems"
   ]
  },
  {
   "cell_type": "markdown",
   "id": "7758cf52-ed89-408b-887a-d3e89cf15d0f",
   "metadata": {},
   "source": [
    "Types of Cross-Validation\n",
    "There are several types of cross validation techniques, including k-fold cross validation, leave-one-out cross validation, and Holdout validation, Stratified Cross-Validation. The choice of technique depends on the size and nature of the data, as well as the specific requirements of the modeling problem.\n",
    "\n",
    "1. Holdout Validation\n",
    "In Holdout Validation, we perform training on the 50% of the given dataset and rest 50% is used for the testing purpose. It’s a simple and quick way to evaluate a model. The major drawback of this method is that we perform training on the 50% of the dataset, it may possible that the remaining 50% of the data contains some important information which we are leaving while training our model i.e. higher bias.\n",
    "\n",
    "![online](data:image/png;base64,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)\n",
    "\n",
    "2. LOOCV (Leave One Out Cross Validation)\n",
    "In this method, we perform training on the whole dataset but leaves only one data-point of the available dataset and then iterates for each data-point. In LOOCV, the model is trained on n-1    samples and tested on the one omitted sample, repeating this process for each data point in the dataset. It has some advantages as well as disadvantages also.\n",
    "\n",
    "![online](https://encrypted-tbn0.gstatic.com/images?q=tbn:ANd9GcRUDVG0T0sYtJNqNdgYlbcMlgG49r09We5xwA&s)\n",
    "\n",
    "An advantage of using this method is that we make use of all data points and hence it is low bias.\n",
    "\n",
    "The major drawback of this method is that it leads to higher variation in the testing model as we are testing against one data point. If the data point is an outlier it can lead to higher variation. Another drawback is it takes a lot of execution time as it iterates over ‘the number of data points’ times.\n",
    "\n",
    "3. Stratified Cross-Validation\n",
    "It is a technique used in machine learning to ensure that each fold of the cross-validation process maintains the same class distribution as the entire dataset. This is particularly important when dealing with imbalanced datasets, where certain classes may be underrepresented. In this method,\n",
    "\n",
    "![online](data:image/jpeg;base64,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)\n",
    "\n",
    "The dataset is divided into k folds while maintaining the proportion of classes in each fold.\n",
    "During each iteration, one-fold is used for testing, and the remaining folds are used for training.\n",
    "The process is repeated k times, with each fold serving as the test set exactly once.\n",
    "Stratified Cross-Validation is essential when dealing with classification problems where maintaining the balance of class distribution is crucial for the model to generalize well to unseen data.\n",
    "\n",
    "4. K-Fold Cross Validation\n",
    "In K-Fold Cross Validation, we split the dataset into k number of subsets (known as folds) then we perform training on the all the subsets but leave one(k-1) subset for the evaluation of the trained model. In this method, we iterate k times with a different subset reserved for testing purpose each time.\n",
    "\n",
    "![online](data:image/png;base64,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)"
   ]
  }
 ],
 "metadata": {
  "kernelspec": {
   "display_name": "Python 3 (ipykernel)",
   "language": "python",
   "name": "python3"
  },
  "language_info": {
   "codemirror_mode": {
    "name": "ipython",
    "version": 3
   },
   "file_extension": ".py",
   "mimetype": "text/x-python",
   "name": "python",
   "nbconvert_exporter": "python",
   "pygments_lexer": "ipython3",
   "version": "3.12.4"
  }
 },
 "nbformat": 4,
 "nbformat_minor": 5
}
