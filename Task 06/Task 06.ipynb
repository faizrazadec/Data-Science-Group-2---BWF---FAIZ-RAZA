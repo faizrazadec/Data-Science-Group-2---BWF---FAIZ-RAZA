{
 "cells": [
  {
   "cell_type": "markdown",
   "id": "c8b59343-3d6b-44c5-9b18-88b4c0ec1bab",
   "metadata": {},
   "source": [
    "\r\n",
    "# Library Book Management Application\r\n",
    "==============================\r\n",
    "\r\n",
    "## Overview\r\n",
    "This application demonstrates file handling and exception handling in Python by managing a list of books in a library. It allows users to add, search, borrow, and return books, as well as display the list of all books.\r\n",
    "\r\n",
    "## Features\r\n",
    "#### Add Book Records\r\n",
    "* Add new books with unique IDs\r\n",
    "#### Search Book Records\r\n",
    "* Search for books by ID\r\n",
    "#### Borrow and Return Books\r\n",
    "* Borrow and return books\r\n",
    "#### Display Book Records\r\n",
    "* Display all books with their status\r\n",
    "#### Data Storage\r\n",
    "* Data is stored in a file and loaded when the application starts\r\n",
    "#### Error Handling\r\n",
    "* Error handling for duplicate IDs, book availability, and file operations\r\n",
    "\r\n",
    "## Usage\r\n",
    "### Running the Application\r\n",
    "1. Run the application\r\n",
    "### Menu Options\r\n",
    "* **Add Book**: Enter book ID, title, author, and status\r\n",
    "* **Search Book**: Enter book ID to search\r\n",
    "* **Borrow Book**: Enter book ID to borrow\r\n",
    "* **Return Book**: Enter book ID to return\r\n",
    "* **Display Books**: View all book records\r\n",
    "* **Exit**: Quit the application\r\n",
    "Let me know if this is what you needed!"
   ]
  },
  {
   "cell_type": "code",
   "execution_count": 5,
   "id": "d6986943-ea68-4678-9542-b90247e36c16",
   "metadata": {},
   "outputs": [
    {
     "name": "stdout",
     "output_type": "stream",
     "text": [
      "\n",
      "1. Add Book\n",
      "2. Search Book\n",
      "3. Borrow Book\n",
      "4. Return Book\n",
      "5. Display Books\n",
      "6. Exit\n"
     ]
    },
    {
     "name": "stdin",
     "output_type": "stream",
     "text": [
      "Choose an option:  112\n"
     ]
    },
    {
     "name": "stdout",
     "output_type": "stream",
     "text": [
      "Invalid option. Please choose a valid option.\n",
      "\n",
      "1. Add Book\n",
      "2. Search Book\n",
      "3. Borrow Book\n",
      "4. Return Book\n",
      "5. Display Books\n",
      "6. Exit\n"
     ]
    },
    {
     "name": "stdin",
     "output_type": "stream",
     "text": [
      "Choose an option:  1\n",
      "Enter book ID:  112\n",
      "Enter book title:  Math\n",
      "Enter book author:  Faiz\n"
     ]
    },
    {
     "name": "stdout",
     "output_type": "stream",
     "text": [
      "Book added successfully!\n",
      "\n",
      "1. Add Book\n",
      "2. Search Book\n",
      "3. Borrow Book\n",
      "4. Return Book\n",
      "5. Display Books\n",
      "6. Exit\n"
     ]
    },
    {
     "name": "stdin",
     "output_type": "stream",
     "text": [
      "Choose an option:  1\n",
      "Enter book ID:  113\n",
      "Enter book title:  Math 2\n",
      "Enter book author:  Raza\n"
     ]
    },
    {
     "name": "stdout",
     "output_type": "stream",
     "text": [
      "Book added successfully!\n",
      "\n",
      "1. Add Book\n",
      "2. Search Book\n",
      "3. Borrow Book\n",
      "4. Return Book\n",
      "5. Display Books\n",
      "6. Exit\n"
     ]
    },
    {
     "name": "stdin",
     "output_type": "stream",
     "text": [
      "Choose an option:  3\n",
      "Enter book ID to borrow:  112\n"
     ]
    },
    {
     "name": "stdout",
     "output_type": "stream",
     "text": [
      "Book borrowed successfully!\n",
      "\n",
      "1. Add Book\n",
      "2. Search Book\n",
      "3. Borrow Book\n",
      "4. Return Book\n",
      "5. Display Books\n",
      "6. Exit\n"
     ]
    },
    {
     "name": "stdin",
     "output_type": "stream",
     "text": [
      "Choose an option:  5\n"
     ]
    },
    {
     "name": "stdout",
     "output_type": "stream",
     "text": [
      "ID: 1123, Title: Physics, Author: Faiz Raza, Status: Available\n",
      "ID: 1124, Title: Math, Author: Raza, Status: Available\n",
      "ID: 112, Title: Math, Author: Faiz, Status: Borrowed\n",
      "ID: 113, Title: Math 2, Author: Raza, Status: Available\n",
      "\n",
      "1. Add Book\n",
      "2. Search Book\n",
      "3. Borrow Book\n",
      "4. Return Book\n",
      "5. Display Books\n",
      "6. Exit\n"
     ]
    },
    {
     "name": "stdin",
     "output_type": "stream",
     "text": [
      "Choose an option:  4\n",
      "Enter book ID to return:  112\n"
     ]
    },
    {
     "name": "stdout",
     "output_type": "stream",
     "text": [
      "Book returned successfully!\n",
      "\n",
      "1. Add Book\n",
      "2. Search Book\n",
      "3. Borrow Book\n",
      "4. Return Book\n",
      "5. Display Books\n",
      "6. Exit\n",
      "Invalid option. Please choose a valid option.\n",
      "\n",
      "1. Add Book\n",
      "2. Search Book\n",
      "3. Borrow Book\n",
      "4. Return Book\n",
      "5. Display Books\n",
      "6. Exit\n"
     ]
    },
    {
     "name": "stdin",
     "output_type": "stream",
     "text": [
      "Choose an option:  6\n",
      "Choose an option:  6\n"
     ]
    }
   ],
   "source": [
    "# Library Book Management Application\n",
    "\n",
    "# Load book data from file\n",
    "def load_books():\n",
    "    try:\n",
    "        with open('book_data.txt', 'r') as file:\n",
    "            data = file.readlines()\n",
    "            book_data = {}\n",
    "            for line in data:\n",
    "                book_id, book_title, book_author, book_status = line.strip().split(',')\n",
    "                book_data[book_id] = {\n",
    "                    'title': book_title,\n",
    "                    'author': book_author,\n",
    "                    'status': book_status\n",
    "                }\n",
    "            return book_data\n",
    "    except FileNotFoundError:\n",
    "        return {}\n",
    "\n",
    "# Save book data to file\n",
    "def save_books(book_data):\n",
    "    with open('book_data.txt', 'w') as file:\n",
    "        for book_id, book_info in book_data.items():\n",
    "            file.write('{},{},{},{}\\n'.format(book_id, book_info['title'], book_info['author'], book_info['status']))\n",
    "\n",
    "# Add a new book\n",
    "def add_book(book_data):\n",
    "    book_id = input('Enter book ID: ')\n",
    "    if book_id in book_data:\n",
    "        print('Book ID already exists!')\n",
    "    else:\n",
    "        book_title = input('Enter book title: ')\n",
    "        book_author = input('Enter book author: ')\n",
    "        book_status = 'Available'\n",
    "        book_data[book_id] = {\n",
    "            'title': book_title,\n",
    "            'author': book_author,\n",
    "            'status': book_status\n",
    "        }\n",
    "        save_books(book_data)\n",
    "        print('Book added successfully!')\n",
    "\n",
    "# Search for a book by ID\n",
    "def search_book(book_data, book_id):\n",
    "    try:\n",
    "        return book_data[book_id]\n",
    "    except KeyError:\n",
    "        return None\n",
    "\n",
    "# Borrow a book\n",
    "def borrow_book(book_data, book_id):\n",
    "    book = search_book(book_data, book_id)\n",
    "    if book:\n",
    "        if book['status'] == 'Available':\n",
    "            book['status'] = 'Borrowed'\n",
    "            save_books(book_data)\n",
    "            print('Book borrowed successfully!')\n",
    "        else:\n",
    "            print('Book is already borrowed!')\n",
    "    else:\n",
    "        print('Book not found!')\n",
    "\n",
    "# Return a book\n",
    "def return_book(book_data, book_id):\n",
    "    book = search_book(book_data, book_id)\n",
    "    if book:\n",
    "        if book['status'] == 'Borrowed':\n",
    "            book['status'] = 'Available'\n",
    "            save_books(book_data)\n",
    "            print('Book returned successfully!')\n",
    "        else:\n",
    "            print('Book is already available!')\n",
    "    else:\n",
    "        print('Book not found!')\n",
    "\n",
    "# Display all books\n",
    "def display_books(book_data):\n",
    "    for book_id, book_info in book_data.items():\n",
    "        print('ID: {}, Title: {}, Author: {}, Status: {}'.format(book_id, book_info['title'], book_info['author'], book_info['status']))\n",
    "\n",
    "# Main program\n",
    "book_data = load_books()\n",
    "\n",
    "while True:\n",
    "    print('\\n1. Add Book\\n2. Search Book\\n3. Borrow Book\\n4. Return Book\\n5. Display Books\\n6. Exit')\n",
    "    choice = input('Choose an option: ')\n",
    "\n",
    "    if choice == '1':\n",
    "        add_book(book_data)\n",
    "\n",
    "    elif choice == '2':\n",
    "        book_id = input('Enter book ID to search: ')\n",
    "        book = search_book(book_data, book_id)\n",
    "        if book:\n",
    "            print('ID: {}, Title: {}, Author: {}, Status: {}'.format(book_id, book['title'], book['author'], book['status']))\n",
    "        else:\n",
    "            print('Book not found!')\n",
    "\n",
    "    elif choice == '3':\n",
    "        book_id = input('Enter book ID to borrow: ')\n",
    "        borrow_book(book_data, book_id)\n",
    "\n",
    "    elif choice == '4':\n",
    "        book_id = input('Enter book ID to return: ')\n",
    "        return_book(book_data, book_id)\n",
    "\n",
    "    elif choice == '5':\n",
    "        display_books(book_data)\n",
    "\n",
    "    elif choice == '6':\n",
    "        break\n",
    "\n",
    "    else:\n",
    "        print('Invalid option. Please choose a valid option.')"
   ]
  },
  {
   "cell_type": "code",
   "execution_count": null,
   "id": "006eedf8-036f-4018-98c7-fa1ce6d476a6",
   "metadata": {},
   "outputs": [],
   "source": []
  },
  {
   "cell_type": "markdown",
   "id": "d0c7b54d-1252-44d1-a904-705686847ee3",
   "metadata": {},
   "source": [
    "# Student Data Application\n",
    "=========================\n",
    "\n",
    "## Overview\n",
    "This application demonstrates file handling and exception handling in Python by storing and retrieving student data. It allows users to add, search, delete, and display student records.\n",
    "\n",
    "## Features\n",
    "#### Add Student Records\n",
    "* Add student records with unique IDs\n",
    "#### Search Student Records\n",
    "* Search for students by ID\n",
    "#### Delete Student Records\n",
    "* Delete student records by ID\n",
    "#### Display Student Records\n",
    "* Display all student records\n",
    "#### Data Storage\n",
    "* Data is stored in a file and loaded when the application starts\n",
    "#### Error Handling\n",
    "* Error handling for duplicate IDs and file operations\n",
    "\n",
    "## Usage\n",
    "### Running the Application\n",
    "1. Run the application\n",
    "### Menu Options\n",
    "* **Add Student**: Enter student ID, name, age, and grade\n",
    "* **Search Student**: Enter student ID to search\n",
    "* **Delete Student**: Enter student ID to delete\n",
    "* **Display Students**: View all student records\n",
    "* **Exit**: Quit the application"
   ]
  },
  {
   "cell_type": "code",
   "execution_count": 6,
   "id": "0eddf087-65bf-4302-af5a-44ae9c0adef3",
   "metadata": {},
   "outputs": [
    {
     "name": "stdout",
     "output_type": "stream",
     "text": [
      "\n",
      "1. Add Student\n",
      "2. Search Student\n",
      "3. Delete Student\n",
      "4. Display Students\n",
      "5. Exit\n"
     ]
    },
    {
     "name": "stdin",
     "output_type": "stream",
     "text": [
      "Choose an option:  1\n",
      "Enter student ID:  234\n",
      "Enter student name:  Faiz\n",
      "Enter student age:  23\n",
      "Enter student grade:  A\n"
     ]
    },
    {
     "name": "stdout",
     "output_type": "stream",
     "text": [
      "Student added successfully!\n",
      "\n",
      "1. Add Student\n",
      "2. Search Student\n",
      "3. Delete Student\n",
      "4. Display Students\n",
      "5. Exit\n"
     ]
    },
    {
     "name": "stdin",
     "output_type": "stream",
     "text": [
      "Choose an option:  1\n",
      "Enter student ID:  323\n",
      "Enter student name:  Raza\n",
      "Enter student age:  32\n",
      "Enter student grade:  C\n"
     ]
    },
    {
     "name": "stdout",
     "output_type": "stream",
     "text": [
      "Student added successfully!\n",
      "\n",
      "1. Add Student\n",
      "2. Search Student\n",
      "3. Delete Student\n",
      "4. Display Students\n",
      "5. Exit\n"
     ]
    },
    {
     "name": "stdin",
     "output_type": "stream",
     "text": [
      "Choose an option:  4\n"
     ]
    },
    {
     "name": "stdout",
     "output_type": "stream",
     "text": [
      "ID: Faiz Raza, Name: Faiz Raza, Age: Faiz Raza, Grade: Faiz Raza\n",
      "ID: 234, Name: Faiz, Age: 23, Grade: A\n",
      "ID: 323, Name: Raza, Age: 32, Grade: C\n",
      "\n",
      "1. Add Student\n",
      "2. Search Student\n",
      "3. Delete Student\n",
      "4. Display Students\n",
      "5. Exit\n"
     ]
    },
    {
     "name": "stdin",
     "output_type": "stream",
     "text": [
      "Choose an option:  2\n",
      "Enter student ID to search:  234\n"
     ]
    },
    {
     "name": "stdout",
     "output_type": "stream",
     "text": [
      "ID: 234, Name: Faiz, Age: 23, Grade: A\n",
      "\n",
      "1. Add Student\n",
      "2. Search Student\n",
      "3. Delete Student\n",
      "4. Display Students\n",
      "5. Exit\n"
     ]
    },
    {
     "name": "stdin",
     "output_type": "stream",
     "text": [
      "Choose an option:  3\n",
      "Enter student ID to delete:  Faiz Raza\n"
     ]
    },
    {
     "name": "stdout",
     "output_type": "stream",
     "text": [
      "Student deleted successfully!\n",
      "\n",
      "1. Add Student\n",
      "2. Search Student\n",
      "3. Delete Student\n",
      "4. Display Students\n",
      "5. Exit\n"
     ]
    },
    {
     "name": "stdin",
     "output_type": "stream",
     "text": [
      "Choose an option:  4\n"
     ]
    },
    {
     "name": "stdout",
     "output_type": "stream",
     "text": [
      "ID: 234, Name: Faiz, Age: 23, Grade: A\n",
      "ID: 323, Name: Raza, Age: 32, Grade: C\n",
      "\n",
      "1. Add Student\n",
      "2. Search Student\n",
      "3. Delete Student\n",
      "4. Display Students\n",
      "5. Exit\n"
     ]
    },
    {
     "name": "stdin",
     "output_type": "stream",
     "text": [
      "Choose an option:  5\n"
     ]
    }
   ],
   "source": [
    "# Student Data Application\n",
    "\n",
    "# Load data from file\n",
    "def load_data():\n",
    "    try:\n",
    "        with open('student_data.txt', 'r') as file:\n",
    "            data = file.readlines()\n",
    "            student_data = {}\n",
    "            for line in data:\n",
    "                student_id, student_name, student_age, student_grade = line.strip().split(',')\n",
    "                student_data[student_id] = {\n",
    "                    'name': student_name,\n",
    "                    'age': student_age,\n",
    "                    'grade': student_grade\n",
    "                }\n",
    "            return student_data\n",
    "    except FileNotFoundError:\n",
    "        return {}\n",
    "\n",
    "# Save data to file\n",
    "def save_data(student_data):\n",
    "    with open('student_data.txt', 'w') as file:\n",
    "        for student_id, student_info in student_data.items():\n",
    "            file.write('{},{},{},{}\\n'.format(student_id, student_info['name'], student_info['age'], student_info['grade']))\n",
    "\n",
    "# Search student by ID\n",
    "def search_student(student_data, student_id):\n",
    "    try:\n",
    "        return student_data[student_id]\n",
    "    except KeyError:\n",
    "        return None\n",
    "\n",
    "# Delete student by ID\n",
    "def delete_student(student_data, student_id):\n",
    "    try:\n",
    "        del student_data[student_id]\n",
    "        return True\n",
    "    except KeyError:\n",
    "        return False\n",
    "\n",
    "# Display student data\n",
    "def display_students(student_data):\n",
    "    for student_id, student_info in student_data.items():\n",
    "        print('ID: {}, Name: {}, Age: {}, Grade: {}'.format(student_id, student_info['name'], student_info['age'], student_info['grade']))\n",
    "\n",
    "# Main program\n",
    "student_data = load_data()\n",
    "\n",
    "while True:\n",
    "    print('\\n1. Add Student\\n2. Search Student\\n3. Delete Student\\n4. Display Students\\n5. Exit')\n",
    "    choice = input('Choose an option: ')\n",
    "\n",
    "    if choice == '1':\n",
    "        student_id = input('Enter student ID: ')\n",
    "        if student_id in student_data:\n",
    "            print('Student ID already exists!')\n",
    "        else:\n",
    "            student_name = input('Enter student name: ')\n",
    "            student_age = input('Enter student age: ')\n",
    "            student_grade = input('Enter student grade: ')\n",
    "            student_data[student_id] = {\n",
    "                'name': student_name,\n",
    "                'age': student_age,\n",
    "                'grade': student_grade\n",
    "            }\n",
    "            save_data(student_data)\n",
    "            print('Student added successfully!')\n",
    "\n",
    "    elif choice == '2':\n",
    "        student_id = input('Enter student ID to search: ')\n",
    "        student = search_student(student_data, student_id)\n",
    "        if student:\n",
    "            print('ID: {}, Name: {}, Age: {}, Grade: {}'.format(student_id, student['name'], student['age'], student['grade']))\n",
    "        else:\n",
    "            print('Student not found!')\n",
    "\n",
    "    elif choice == '3':\n",
    "        student_id = input('Enter student ID to delete: ')\n",
    "        if delete_student(student_data, student_id):\n",
    "            save_data(student_data)\n",
    "            print('Student deleted successfully!')\n",
    "        else:\n",
    "            print('Student not found!')\n",
    "\n",
    "    elif choice == '4':\n",
    "        display_students(student_data)\n",
    "\n",
    "    elif choice == '5':\n",
    "        break\n",
    "\n",
    "    else:\n",
    "        print('Invalid option. Please choose a valid option.')"
   ]
  }
 ],
 "metadata": {
  "kernelspec": {
   "display_name": "Python 3 (ipykernel)",
   "language": "python",
   "name": "python3"
  },
  "language_info": {
   "codemirror_mode": {
    "name": "ipython",
    "version": 3
   },
   "file_extension": ".py",
   "mimetype": "text/x-python",
   "name": "python",
   "nbconvert_exporter": "python",
   "pygments_lexer": "ipython3",
   "version": "3.11.7"
  }
 },
 "nbformat": 4,
 "nbformat_minor": 5
}
